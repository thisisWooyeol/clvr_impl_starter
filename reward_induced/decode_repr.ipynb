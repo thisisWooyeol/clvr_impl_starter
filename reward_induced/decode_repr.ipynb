{
 "cells": [
  {
   "cell_type": "code",
   "execution_count": 1,
   "metadata": {},
   "outputs": [],
   "source": [
    "import os\n",
    "import sys\n",
    "nb_dir = os.path.split(os.getcwd())[0]\n",
    "if nb_dir not in sys.path:\n",
    "\tsys.path.append(nb_dir)"
   ]
  },
  {
   "cell_type": "code",
   "execution_count": 2,
   "metadata": {},
   "outputs": [
    {
     "name": "stderr",
     "output_type": "stream",
     "text": [
      "/home/thisiswooyeol/anaconda3/envs/2024Spring/lib/python3.10/site-packages/tqdm/auto.py:21: TqdmWarning: IProgress not found. Please update jupyter and ipywidgets. See https://ipywidgets.readthedocs.io/en/stable/user_install.html\n",
      "  from .autonotebook import tqdm as notebook_tqdm\n"
     ]
    }
   ],
   "source": [
    "import torch\n",
    "import torch.nn as nn\n",
    "from torch.optim.radam import RAdam\n",
    "\n",
    "from general_utils import AttrDict\n",
    "from reward_induced.models.reward_predictor_model import RewardPredictorModel\n",
    "from reward_induced.models.decoder import ImageDecoder\n",
    "from reward_induced.utils import *\n",
    "from sprites_datagen.moving_sprites import MovingSpriteDataset, TemplateMovingSpritesGenerator\n",
    "from sprites_datagen.rewards import *\n",
    "\n",
    "from tqdm import trange\n",
    "import matplotlib.pyplot as plt"
   ]
  },
  {
   "cell_type": "code",
   "execution_count": 3,
   "metadata": {},
   "outputs": [],
   "source": [
    "spec = AttrDict(\n",
    "        resolution=64,\n",
    "        max_seq_len=30,\n",
    "        max_speed=0.05,      # total image range [0, 1]\n",
    "        obj_size=0.2,       # size of objects, full images is 1.0\n",
    "        shapes_per_traj=4,      # number of shapes per trajectory\n",
    "        rewards=[ZeroReward],\n",
    "    )\n",
    "\n",
    "dataset = MovingSpriteDataset(spec)"
   ]
  },
  {
   "cell_type": "code",
   "execution_count": 4,
   "metadata": {},
   "outputs": [],
   "source": [
    "# some hyperparameters\n",
    "image_shape = (3, 64, 64)\n",
    "n_frames = 20  # number of conditioning frames\n",
    "T_future = 10  # number of future frames to predict rewards for\n",
    "batch_size = 32\n",
    "\n",
    "lr = 1e-3\n",
    "n_iter = 2_000\n",
    "log_interval = 200\n",
    "\n",
    "device = torch.device('cuda' if torch.cuda.is_available() else 'cpu')"
   ]
  },
  {
   "cell_type": "markdown",
   "metadata": {},
   "source": [
    "# Train an ImageDecoder from complete images to reward-induced representation"
   ]
  },
  {
   "cell_type": "code",
   "execution_count": 5,
   "metadata": {},
   "outputs": [],
   "source": [
    "RPM_PATH = 'complete_RPM_1e-3_1M.pth'\n",
    "\n",
    "model = RewardPredictorModel(image_shape, n_frames, T_future)\n",
    "model.load_state_dict(torch.load(RPM_PATH))\n",
    "\n",
    "# with learned image encoder, decode reward-induced representations\n",
    "encoder = model.image_encoder\n",
    "decoder = ImageDecoder(image_shape)"
   ]
  },
  {
   "cell_type": "code",
   "execution_count": 6,
   "metadata": {},
   "outputs": [],
   "source": [
    "loss_fn = nn.MSELoss()\n",
    "optimizer = RAdam(decoder.parameters(), lr=lr)"
   ]
  },
  {
   "cell_type": "code",
   "execution_count": 7,
   "metadata": {},
   "outputs": [],
   "source": [
    "def train_decoder(encoder, decoder, dataset, device, n_iter):\n",
    "    # decoder should restore the original image from the reward-induced representation\n",
    "    losses = []\n",
    "    encoder.to(device).eval()\n",
    "    decoder.to(device)\n",
    "    print(f'[INFO] Train decoder on device: {device} ...')\n",
    "\n",
    "    for itr in trange(n_iter):\n",
    "        images, _ = generate_batch(dataset, batch_size, itr)\n",
    "        images = images.to(device)\n",
    "\t\t\n",
    "        # encode the images\n",
    "        with torch.no_grad():\n",
    "            encoded_repr = encoder(images).detach() \n",
    "        \n",
    "        # decode the images\n",
    "        decoded_images = decoder(encoded_repr)\n",
    "\n",
    "        loss = loss_fn(decoded_images, images)\n",
    "\n",
    "        optimizer.zero_grad()\n",
    "        loss.backward()\n",
    "        optimizer.step()\n",
    "        \n",
    "        losses.append(loss.item())\n",
    "        if (itr+1) % log_interval == 0:\n",
    "            print(f'[{itr+1} / {n_iter}] Reproduction loss: {loss.item()}')\n",
    "\n",
    "    return losses"
   ]
  },
  {
   "cell_type": "code",
   "execution_count": 8,
   "metadata": {},
   "outputs": [
    {
     "name": "stdout",
     "output_type": "stream",
     "text": [
      "[INFO] Train decoder on device: cuda ...\n"
     ]
    },
    {
     "name": "stderr",
     "output_type": "stream",
     "text": [
      "  0%|          | 8/2000 [00:03<13:06,  2.53it/s]\n"
     ]
    },
    {
     "ename": "KeyboardInterrupt",
     "evalue": "",
     "output_type": "error",
     "traceback": [
      "\u001b[0;31m---------------------------------------------------------------------------\u001b[0m",
      "\u001b[0;31mTypeError\u001b[0m                                 Traceback (most recent call last)",
      "File \u001b[0;32m~/anaconda3/envs/2024Spring/lib/python3.10/site-packages/numpy/lib/shape_base.py:764\u001b[0m, in \u001b[0;36marray_split\u001b[0;34m(ary, indices_or_sections, axis)\u001b[0m\n\u001b[1;32m    762\u001b[0m \u001b[38;5;28;01mtry\u001b[39;00m:\n\u001b[1;32m    763\u001b[0m     \u001b[38;5;66;03m# handle array case.\u001b[39;00m\n\u001b[0;32m--> 764\u001b[0m     Nsections \u001b[38;5;241m=\u001b[39m \u001b[38;5;28;43mlen\u001b[39;49m\u001b[43m(\u001b[49m\u001b[43mindices_or_sections\u001b[49m\u001b[43m)\u001b[49m \u001b[38;5;241m+\u001b[39m \u001b[38;5;241m1\u001b[39m\n\u001b[1;32m    765\u001b[0m     div_points \u001b[38;5;241m=\u001b[39m [\u001b[38;5;241m0\u001b[39m] \u001b[38;5;241m+\u001b[39m \u001b[38;5;28mlist\u001b[39m(indices_or_sections) \u001b[38;5;241m+\u001b[39m [Ntotal]\n",
      "\u001b[0;31mTypeError\u001b[0m: object of type 'int' has no len()",
      "\nDuring handling of the above exception, another exception occurred:\n",
      "\u001b[0;31mKeyboardInterrupt\u001b[0m                         Traceback (most recent call last)",
      "Cell \u001b[0;32mIn[8], line 1\u001b[0m\n\u001b[0;32m----> 1\u001b[0m losses_decoder \u001b[38;5;241m=\u001b[39m \u001b[43mtrain_decoder\u001b[49m\u001b[43m(\u001b[49m\u001b[43mencoder\u001b[49m\u001b[43m,\u001b[49m\u001b[43m \u001b[49m\u001b[43mdecoder\u001b[49m\u001b[43m,\u001b[49m\u001b[43m \u001b[49m\u001b[43mdataset\u001b[49m\u001b[43m,\u001b[49m\u001b[43m \u001b[49m\u001b[43mdevice\u001b[49m\u001b[43m,\u001b[49m\u001b[43m \u001b[49m\u001b[43mn_iter\u001b[49m\u001b[43m)\u001b[49m\n",
      "Cell \u001b[0;32mIn[7], line 9\u001b[0m, in \u001b[0;36mtrain_decoder\u001b[0;34m(encoder, decoder, dataset, device, n_iter)\u001b[0m\n\u001b[1;32m      6\u001b[0m \u001b[38;5;28mprint\u001b[39m(\u001b[38;5;124mf\u001b[39m\u001b[38;5;124m'\u001b[39m\u001b[38;5;124m[INFO] Train decoder on device: \u001b[39m\u001b[38;5;132;01m{\u001b[39;00mdevice\u001b[38;5;132;01m}\u001b[39;00m\u001b[38;5;124m ...\u001b[39m\u001b[38;5;124m'\u001b[39m)\n\u001b[1;32m      8\u001b[0m \u001b[38;5;28;01mfor\u001b[39;00m itr \u001b[38;5;129;01min\u001b[39;00m trange(n_iter):\n\u001b[0;32m----> 9\u001b[0m     images, _ \u001b[38;5;241m=\u001b[39m \u001b[43mgenerate_batch\u001b[49m\u001b[43m(\u001b[49m\u001b[43mdataset\u001b[49m\u001b[43m,\u001b[49m\u001b[43m \u001b[49m\u001b[43mbatch_size\u001b[49m\u001b[43m,\u001b[49m\u001b[43m \u001b[49m\u001b[43mitr\u001b[49m\u001b[43m)\u001b[49m\n\u001b[1;32m     10\u001b[0m     images \u001b[38;5;241m=\u001b[39m images\u001b[38;5;241m.\u001b[39mto(device)\n\u001b[1;32m     12\u001b[0m     \u001b[38;5;66;03m# encode the images\u001b[39;00m\n",
      "File \u001b[0;32m~/PycharmProjects/clvr_impl_starter/reward_induced/utils.py:10\u001b[0m, in \u001b[0;36mgenerate_batch\u001b[0;34m(dataset, batch_size, itr)\u001b[0m\n\u001b[1;32m      8\u001b[0m batched_data \u001b[38;5;241m=\u001b[39m \u001b[38;5;28;01mNone\u001b[39;00m\n\u001b[1;32m      9\u001b[0m \u001b[38;5;28;01mfor\u001b[39;00m i \u001b[38;5;129;01min\u001b[39;00m \u001b[38;5;28mrange\u001b[39m(batch_size):\n\u001b[0;32m---> 10\u001b[0m     data \u001b[38;5;241m=\u001b[39m \u001b[43mdataset\u001b[49m\u001b[43m[\u001b[49m\u001b[43mitr\u001b[49m\u001b[38;5;241;43m*\u001b[39;49m\u001b[43mbatch_size\u001b[49m\u001b[38;5;241;43m+\u001b[39;49m\u001b[43mi\u001b[49m\u001b[43m]\u001b[49m\n\u001b[1;32m     11\u001b[0m     \u001b[38;5;28;01mif\u001b[39;00m batched_data \u001b[38;5;129;01mis\u001b[39;00m \u001b[38;5;28;01mNone\u001b[39;00m:\n\u001b[1;32m     12\u001b[0m         batched_data \u001b[38;5;241m=\u001b[39m {\u001b[38;5;124m'\u001b[39m\u001b[38;5;124mimages\u001b[39m\u001b[38;5;124m'\u001b[39m: [data[\u001b[38;5;124m'\u001b[39m\u001b[38;5;124mimages\u001b[39m\u001b[38;5;124m'\u001b[39m]], \n\u001b[1;32m     13\u001b[0m                         \u001b[38;5;124m'\u001b[39m\u001b[38;5;124mrewards\u001b[39m\u001b[38;5;124m'\u001b[39m: {k: [v] \u001b[38;5;28;01mfor\u001b[39;00m k, v \u001b[38;5;129;01min\u001b[39;00m data[\u001b[38;5;124m'\u001b[39m\u001b[38;5;124mrewards\u001b[39m\u001b[38;5;124m'\u001b[39m]\u001b[38;5;241m.\u001b[39mitems()}}\n",
      "File \u001b[0;32m~/PycharmProjects/clvr_impl_starter/sprites_datagen/moving_sprites.py:17\u001b[0m, in \u001b[0;36mMovingSpriteDataset.__getitem__\u001b[0;34m(self, item)\u001b[0m\n\u001b[1;32m     16\u001b[0m \u001b[38;5;28;01mdef\u001b[39;00m \u001b[38;5;21m__getitem__\u001b[39m(\u001b[38;5;28mself\u001b[39m, item):\n\u001b[0;32m---> 17\u001b[0m     traj \u001b[38;5;241m=\u001b[39m \u001b[38;5;28;43mself\u001b[39;49m\u001b[38;5;241;43m.\u001b[39;49m\u001b[43m_generator\u001b[49m\u001b[38;5;241;43m.\u001b[39;49m\u001b[43mgen_trajectory\u001b[49m\u001b[43m(\u001b[49m\u001b[43m)\u001b[49m\n\u001b[1;32m     19\u001b[0m     data_dict \u001b[38;5;241m=\u001b[39m AttrDict()\n\u001b[1;32m     20\u001b[0m     data_dict\u001b[38;5;241m.\u001b[39mimages \u001b[38;5;241m=\u001b[39m traj\u001b[38;5;241m.\u001b[39mimages[:, \u001b[38;5;28;01mNone\u001b[39;00m]\u001b[38;5;241m.\u001b[39mrepeat(\u001b[38;5;241m3\u001b[39m, axis\u001b[38;5;241m=\u001b[39m\u001b[38;5;241m1\u001b[39m)\u001b[38;5;241m.\u001b[39mastype(np\u001b[38;5;241m.\u001b[39mfloat32) \u001b[38;5;241m/\u001b[39m (\u001b[38;5;241m255.\u001b[39m\u001b[38;5;241m/\u001b[39m\u001b[38;5;241m2\u001b[39m) \u001b[38;5;241m-\u001b[39m \u001b[38;5;241m1.0\u001b[39m\n",
      "File \u001b[0;32m~/PycharmProjects/clvr_impl_starter/sprites_datagen/moving_sprites.py:42\u001b[0m, in \u001b[0;36mMovingSpritesGenerator.gen_trajectory\u001b[0;34m(self)\u001b[0m\n\u001b[1;32m     39\u001b[0m output \u001b[38;5;241m=\u001b[39m AttrDict()\n\u001b[1;32m     41\u001b[0m \u001b[38;5;66;03m# sample coordinate trajectories [T, n_shapes, state_dim]\u001b[39;00m\n\u001b[0;32m---> 42\u001b[0m output\u001b[38;5;241m.\u001b[39mstates \u001b[38;5;241m=\u001b[39m \u001b[38;5;28;43mself\u001b[39;49m\u001b[38;5;241;43m.\u001b[39;49m\u001b[43m_traj_gen\u001b[49m\u001b[38;5;241;43m.\u001b[39;49m\u001b[43mcreate\u001b[49m\u001b[43m(\u001b[49m\u001b[38;5;28;43mself\u001b[39;49m\u001b[38;5;241;43m.\u001b[39;49m\u001b[43m_spec\u001b[49m\u001b[38;5;241;43m.\u001b[39;49m\u001b[43mmax_seq_len\u001b[49m\u001b[43m,\u001b[49m\u001b[43m \u001b[49m\u001b[38;5;28;43mself\u001b[39;49m\u001b[38;5;241;43m.\u001b[39;49m\u001b[43m_spec\u001b[49m\u001b[38;5;241;43m.\u001b[39;49m\u001b[43mshapes_per_traj\u001b[49m\u001b[43m)\u001b[49m\n\u001b[1;32m     44\u001b[0m \u001b[38;5;66;03m# sample shapes for trajectory\u001b[39;00m\n\u001b[1;32m     45\u001b[0m output\u001b[38;5;241m.\u001b[39mshape_idxs \u001b[38;5;241m=\u001b[39m \u001b[38;5;28mself\u001b[39m\u001b[38;5;241m.\u001b[39m_sample_shapes()\n",
      "File \u001b[0;32m~/PycharmProjects/clvr_impl_starter/sprites_datagen/utils/trajectory.py:94\u001b[0m, in \u001b[0;36mTrajectory.create\u001b[0;34m(self, n_timesteps, n_trajectories, with_presence, init_from)\u001b[0m\n\u001b[1;32m     91\u001b[0m     state[:, :\u001b[38;5;28mself\u001b[39m\u001b[38;5;241m.\u001b[39m_n_dim] \u001b[38;5;241m=\u001b[39m init_from\u001b[38;5;241m.\u001b[39mcopy()\n\u001b[1;32m     93\u001b[0m \u001b[38;5;28;01mfor\u001b[39;00m t \u001b[38;5;129;01min\u001b[39;00m \u001b[38;5;28mrange\u001b[39m(\u001b[38;5;241m1\u001b[39m, n_timesteps):\n\u001b[0;32m---> 94\u001b[0m     tjs[t], state \u001b[38;5;241m=\u001b[39m \u001b[38;5;28;43mself\u001b[39;49m\u001b[38;5;241;43m.\u001b[39;49m\u001b[43mforward\u001b[49m\u001b[43m(\u001b[49m\u001b[43mstate\u001b[49m\u001b[43m)\u001b[49m\n\u001b[1;32m     96\u001b[0m \u001b[38;5;28;01mif\u001b[39;00m with_presence:\n\u001b[1;32m     97\u001b[0m     smaller \u001b[38;5;241m=\u001b[39m np\u001b[38;5;241m.\u001b[39mless(tjs, \u001b[38;5;28mself\u001b[39m\u001b[38;5;241m.\u001b[39m_bounds[:\u001b[38;5;28mself\u001b[39m\u001b[38;5;241m.\u001b[39m_n_dim, \u001b[38;5;241m0\u001b[39m])\n",
      "File \u001b[0;32m~/PycharmProjects/clvr_impl_starter/sprites_datagen/utils/trajectory.py:76\u001b[0m, in \u001b[0;36mTrajectory.forward\u001b[0;34m(self, state)\u001b[0m\n\u001b[1;32m     75\u001b[0m \u001b[38;5;28;01mdef\u001b[39;00m \u001b[38;5;21mforward\u001b[39m(\u001b[38;5;28mself\u001b[39m, state):\n\u001b[0;32m---> 76\u001b[0m     state \u001b[38;5;241m=\u001b[39m \u001b[38;5;28mself\u001b[39m\u001b[38;5;241m.\u001b[39m_clip(\u001b[38;5;28;43mself\u001b[39;49m\u001b[38;5;241;43m.\u001b[39;49m\u001b[43m_forward\u001b[49m\u001b[43m(\u001b[49m\u001b[43mstate\u001b[49m\u001b[43m)\u001b[49m)\n\u001b[1;32m     77\u001b[0m     \u001b[38;5;28;01mreturn\u001b[39;00m state[:, :\u001b[38;5;28mself\u001b[39m\u001b[38;5;241m.\u001b[39m_n_dim]\u001b[38;5;241m.\u001b[39mcopy(), state\n",
      "File \u001b[0;32m~/PycharmProjects/clvr_impl_starter/sprites_datagen/utils/trajectory.py:117\u001b[0m, in \u001b[0;36mConstantSpeedTrajectory._forward\u001b[0;34m(self, state)\u001b[0m\n\u001b[1;32m    112\u001b[0m \u001b[38;5;28;01mdef\u001b[39;00m \u001b[38;5;21m_forward\u001b[39m(\u001b[38;5;28mself\u001b[39m, state):\n\u001b[1;32m    113\u001b[0m \u001b[38;5;250m    \u001b[39m\u001b[38;5;124;03m\"\"\"Assume that state is [position, velocity]\u001b[39;00m\n\u001b[1;32m    114\u001b[0m \u001b[38;5;124;03m    :param state:\u001b[39;00m\n\u001b[1;32m    115\u001b[0m \u001b[38;5;124;03m    :return:\u001b[39;00m\n\u001b[1;32m    116\u001b[0m \u001b[38;5;124;03m    \"\"\"\u001b[39;00m\n\u001b[0;32m--> 117\u001b[0m     pos, vel \u001b[38;5;241m=\u001b[39m \u001b[43mnp\u001b[49m\u001b[38;5;241;43m.\u001b[39;49m\u001b[43msplit\u001b[49m\u001b[43m(\u001b[49m\u001b[43mstate\u001b[49m\u001b[43m,\u001b[49m\u001b[43m \u001b[49m\u001b[38;5;241;43m2\u001b[39;49m\u001b[43m,\u001b[49m\u001b[43m \u001b[49m\u001b[38;5;241;43m-\u001b[39;49m\u001b[38;5;241;43m1\u001b[39;49m\u001b[43m)\u001b[49m\n\u001b[1;32m    119\u001b[0m     pos \u001b[38;5;241m+\u001b[39m\u001b[38;5;241m=\u001b[39m vel\n\u001b[1;32m    121\u001b[0m     \u001b[38;5;28;01mif\u001b[39;00m \u001b[38;5;28mself\u001b[39m\u001b[38;5;241m.\u001b[39m_bounce:\n",
      "File \u001b[0;32m~/anaconda3/envs/2024Spring/lib/python3.10/site-packages/numpy/lib/shape_base.py:866\u001b[0m, in \u001b[0;36msplit\u001b[0;34m(ary, indices_or_sections, axis)\u001b[0m\n\u001b[1;32m    863\u001b[0m     \u001b[38;5;28;01mif\u001b[39;00m N \u001b[38;5;241m%\u001b[39m sections:\n\u001b[1;32m    864\u001b[0m         \u001b[38;5;28;01mraise\u001b[39;00m \u001b[38;5;167;01mValueError\u001b[39;00m(\n\u001b[1;32m    865\u001b[0m             \u001b[38;5;124m'\u001b[39m\u001b[38;5;124marray split does not result in an equal division\u001b[39m\u001b[38;5;124m'\u001b[39m) \u001b[38;5;28;01mfrom\u001b[39;00m \u001b[38;5;28;01mNone\u001b[39;00m\n\u001b[0;32m--> 866\u001b[0m \u001b[38;5;28;01mreturn\u001b[39;00m \u001b[43marray_split\u001b[49m\u001b[43m(\u001b[49m\u001b[43mary\u001b[49m\u001b[43m,\u001b[49m\u001b[43m \u001b[49m\u001b[43mindices_or_sections\u001b[49m\u001b[43m,\u001b[49m\u001b[43m \u001b[49m\u001b[43maxis\u001b[49m\u001b[43m)\u001b[49m\n",
      "File \u001b[0;32m~/anaconda3/envs/2024Spring/lib/python3.10/site-packages/numpy/lib/shape_base.py:775\u001b[0m, in \u001b[0;36marray_split\u001b[0;34m(ary, indices_or_sections, axis)\u001b[0m\n\u001b[1;32m    771\u001b[0m     Neach_section, extras \u001b[38;5;241m=\u001b[39m \u001b[38;5;28mdivmod\u001b[39m(Ntotal, Nsections)\n\u001b[1;32m    772\u001b[0m     section_sizes \u001b[38;5;241m=\u001b[39m ([\u001b[38;5;241m0\u001b[39m] \u001b[38;5;241m+\u001b[39m\n\u001b[1;32m    773\u001b[0m                      extras \u001b[38;5;241m*\u001b[39m [Neach_section\u001b[38;5;241m+\u001b[39m\u001b[38;5;241m1\u001b[39m] \u001b[38;5;241m+\u001b[39m\n\u001b[1;32m    774\u001b[0m                      (Nsections\u001b[38;5;241m-\u001b[39mextras) \u001b[38;5;241m*\u001b[39m [Neach_section])\n\u001b[0;32m--> 775\u001b[0m     div_points \u001b[38;5;241m=\u001b[39m \u001b[43m_nx\u001b[49m\u001b[38;5;241;43m.\u001b[39;49m\u001b[43marray\u001b[49m\u001b[43m(\u001b[49m\u001b[43msection_sizes\u001b[49m\u001b[43m,\u001b[49m\u001b[43m \u001b[49m\u001b[43mdtype\u001b[49m\u001b[38;5;241;43m=\u001b[39;49m\u001b[43m_nx\u001b[49m\u001b[38;5;241;43m.\u001b[39;49m\u001b[43mintp\u001b[49m\u001b[43m)\u001b[49m\u001b[38;5;241;43m.\u001b[39;49m\u001b[43mcumsum\u001b[49m\u001b[43m(\u001b[49m\u001b[43m)\u001b[49m\n\u001b[1;32m    777\u001b[0m sub_arys \u001b[38;5;241m=\u001b[39m []\n\u001b[1;32m    778\u001b[0m sary \u001b[38;5;241m=\u001b[39m _nx\u001b[38;5;241m.\u001b[39mswapaxes(ary, axis, \u001b[38;5;241m0\u001b[39m)\n",
      "\u001b[0;31mKeyboardInterrupt\u001b[0m: "
     ]
    }
   ],
   "source": [
    "losses_decoder = train_decoder(encoder, decoder, dataset, device, n_iter)"
   ]
  },
  {
   "cell_type": "code",
   "execution_count": 9,
   "metadata": {},
   "outputs": [
    {
     "data": {
      "image/png": "[encoded data removed]",
      "text/plain": [
       "<Figure size 640x480 with 1 Axes>"
      ]
     },
     "metadata": {},
     "output_type": "display_data"
    }
   ],
   "source": [
    "# Visualize the losses\n",
    "plt.plot(losses_decoder, label='Original loss')\n",
    "plt.xlabel('Iteration')\n",
    "plt.ylabel('Loss')\n",
    "plt.title('Decoder training loss')\n",
    "plt.legend()\n",
    "plt.show()"
   ]
  },
  {
   "cell_type": "code",
   "execution_count": 8,
   "metadata": {},
   "outputs": [],
   "source": [
    "DECODER_PATH = 'complete_decoder_tanh_4K.pth'\n",
    "torch.save(decoder.state_dict(), DECODER_PATH)"
   ]
  },
  {
   "cell_type": "code",
   "execution_count": 9,
   "metadata": {},
   "outputs": [
    {
     "data": {
      "text/plain": [
       "<All keys matched successfully>"
      ]
     },
     "execution_count": 9,
     "metadata": {},
     "output_type": "execute_result"
    }
   ],
   "source": [
    "decoder = ImageDecoder(image_shape)\n",
    "decoder.load_state_dict(torch.load(DECODER_PATH))  # test save and load"
   ]
  },
  {
   "cell_type": "markdown",
   "metadata": {},
   "source": [
    "# Decode the reward-induced representation"
   ]
  },
  {
   "cell_type": "code",
   "execution_count": 5,
   "metadata": {},
   "outputs": [],
   "source": [
    "spec = AttrDict(\n",
    "        resolution=64,\n",
    "        max_seq_len=30,\n",
    "        max_speed=0.05,      # total image range [0, 1]\n",
    "        obj_size=0.2,       # size of objects, full images is 1.0\n",
    "        shapes_per_traj=1,      # number of shapes per trajectory\n",
    "        rewards=[VertPosReward, HorPosReward],\n",
    "    )\n",
    "\n",
    "generator = TemplateMovingSpritesGenerator(spec)\n",
    "generator.SHAPES = ['tri_bottom']"
   ]
  },
  {
   "cell_type": "code",
   "execution_count": 6,
   "metadata": {},
   "outputs": [
    {
     "name": "stdout",
     "output_type": "stream",
     "text": [
      "(30, 64, 64)\n",
      "{'vertical_position': array([0.10653333, 0.13279168, 0.1721167 , 0.21144171, 0.25076672,\n",
      "       0.29009172, 0.32941675, 0.36874175, 0.40806678, 0.44739178,\n",
      "       0.48671678, 0.5260418 , 0.5653668 , 0.6046918 , 0.64401686,\n",
      "       0.68334186, 0.72266686, 0.76199186, 0.80131686, 0.8406419 ,\n",
      "       0.8799669 , 0.8807081 , 0.8413831 , 0.80205804, 0.76273304,\n",
      "       0.72340804, 0.68408304, 0.64475805, 0.605433  , 0.566108  ],\n",
      "      dtype=float32), 'horizontal_position': array([0.7495166 , 0.7225594 , 0.6956021 , 0.6686449 , 0.64168763,\n",
      "       0.6147304 , 0.58777314, 0.56081593, 0.53385866, 0.50690144,\n",
      "       0.4799442 , 0.45298696, 0.4260297 , 0.39907247, 0.37211522,\n",
      "       0.34515798, 0.31820074, 0.2912435 , 0.26428625, 0.237329  ,\n",
      "       0.21037176, 0.18341452, 0.15645728, 0.12950003, 0.10254279,\n",
      "       0.12441446, 0.1513717 , 0.17832895, 0.20528619, 0.23224343],\n",
      "      dtype=float32)}\n"
     ]
    }
   ],
   "source": [
    "from general_utils import make_image_seq_strip\n",
    "import cv2\n",
    "\n",
    "output = generator.gen_trajectory()\n",
    "images = make_image_seq_strip([output['images'][None, :, None].repeat(3, axis=2).astype(np.float32)], \\\n",
    "                              sep_val=255.0).astype(np.uint8)\n",
    "\n",
    "print(output['images'].shape)\n",
    "cv2.imwrite('one_distractor.png', images[0].transpose(1, 2, 0))\n",
    "\n",
    "print(output['rewards'])"
   ]
  },
  {
   "cell_type": "markdown",
   "metadata": {},
   "source": [
    "### Decode vertical reward-induced representations with ImageDecoder"
   ]
  },
  {
   "cell_type": "code",
   "execution_count": 7,
   "metadata": {},
   "outputs": [
    {
     "ename": "NameError",
     "evalue": "name 'RPM_PATH' is not defined",
     "output_type": "error",
     "traceback": [
      "\u001b[0;31m---------------------------------------------------------------------------\u001b[0m",
      "\u001b[0;31mNameError\u001b[0m                                 Traceback (most recent call last)",
      "Cell \u001b[0;32mIn[7], line 2\u001b[0m\n\u001b[1;32m      1\u001b[0m model_vertical \u001b[38;5;241m=\u001b[39m RewardPredictorModel(image_shape, n_frames, T_future)\n\u001b[0;32m----> 2\u001b[0m model_vertical\u001b[38;5;241m.\u001b[39mload_state_dict(torch\u001b[38;5;241m.\u001b[39mload(\u001b[43mRPM_PATH\u001b[49m))\n\u001b[1;32m      4\u001b[0m decoder_vertical \u001b[38;5;241m=\u001b[39m ImageDecoder(image_shape)\n\u001b[1;32m      5\u001b[0m decoder_vertical\u001b[38;5;241m.\u001b[39mload_state_dict(torch\u001b[38;5;241m.\u001b[39mload(DECODER_PATH))\n",
      "\u001b[0;31mNameError\u001b[0m: name 'RPM_PATH' is not defined"
     ]
    }
   ],
   "source": [
    "model_vertical = RewardPredictorModel(image_shape, n_frames, T_future)\n",
    "model_vertical.load_state_dict(torch.load(RPM_PATH))\n",
    "\n",
    "decoder_vertical = ImageDecoder(image_shape)\n",
    "decoder_vertical.load_state_dict(torch.load(DECODER_PATH))"
   ]
  },
  {
   "cell_type": "code",
   "execution_count": 8,
   "metadata": {},
   "outputs": [
    {
     "data": {
      "text/plain": [
       "torch.Size([3, 30, 3, 64, 64])"
      ]
     },
     "execution_count": 8,
     "metadata": {},
     "output_type": "execute_result"
    }
   ],
   "source": [
    "images, rewards = generate_batch_gen(generator, 3)\n",
    "\n",
    "images.shape"
   ]
  },
  {
   "cell_type": "code",
   "execution_count": 9,
   "metadata": {},
   "outputs": [],
   "source": [
    "loss_fn = nn.MSELoss()\n",
    "optimizer = RAdam(model_vertical.parameters(), lr=5e-4)  # lr / 2"
   ]
  },
  {
   "cell_type": "code",
   "execution_count": 20,
   "metadata": {},
   "outputs": [],
   "source": [
    "def finetune_RPM_single_reward(model, generator, loss_fn, optimizer, device, reward_type):\n",
    "\tlosses = []\n",
    "\tmodel.to(device)\n",
    "\tprint(f'[INFO] Finetune RPM with {reward_type} reward on device: {device} ...')\n",
    "\n",
    "\tfor itr in trange(n_iter):\n",
    "\t\timages, rewards = generate_batch_gen(generator, batch_size, itr)\n",
    "\t\t\n",
    "\t\t# assume n_frames + T_future == len(images)\n",
    "\t\tpred_rewards = model(  # add batch dimension for images\n",
    "\t\t\tconditioning_frames=images[:, :n_frames].to(device), \n",
    "\t\t\tfuture_frames=images[:, n_frames:].to(device),\n",
    "\t\t\treward_type=reward_type\n",
    "\t\t)\n",
    "\n",
    "\t\tloss = 0\n",
    "\t\tfor reward_type, pred_reward in pred_rewards.items():\n",
    "\t\t\treward = torch.tensor(rewards[reward_type][:, n_frames:], \n",
    "\t\t\t\t\t\t dtype=torch.float32, device=device)\n",
    "\t\t\tloss += loss_fn(pred_reward, reward)\n",
    "\n",
    "\t\toptimizer.zero_grad()\n",
    "\t\tloss.backward()\n",
    "\t\toptimizer.step()\n",
    "\n",
    "\t\tlosses.append(loss.item())\n",
    "\t\tif (itr+1) % log_interval == 0:\n",
    "\t\t\tprint(f'[{itr+1} / {n_iter}] RPM loss: {loss.item()}')\n",
    "\n",
    "\treturn losses"
   ]
  },
  {
   "cell_type": "code",
   "execution_count": 21,
   "metadata": {},
   "outputs": [
    {
     "name": "stdout",
     "output_type": "stream",
     "text": [
      "[INFO] Finetune RPM with vertical_position reward on device: cuda ...\n"
     ]
    },
    {
     "name": "stderr",
     "output_type": "stream",
     "text": [
      "  0%|          | 0/2000 [00:00<?, ?it/s]\n"
     ]
    },
    {
     "ename": "TypeError",
     "evalue": "'TemplateMovingSpritesGenerator' object is not subscriptable",
     "output_type": "error",
     "traceback": [
      "\u001b[0;31m---------------------------------------------------------------------------\u001b[0m",
      "\u001b[0;31mTypeError\u001b[0m                                 Traceback (most recent call last)",
      "Cell \u001b[0;32mIn[21], line 1\u001b[0m\n\u001b[0;32m----> 1\u001b[0m \u001b[43mfinetune_RPM_single_reward\u001b[49m\u001b[43m(\u001b[49m\u001b[43mmodel_vertical\u001b[49m\u001b[43m,\u001b[49m\u001b[43m \u001b[49m\u001b[43mdataset\u001b[49m\u001b[43m,\u001b[49m\u001b[43m \u001b[49m\u001b[43mloss_fn\u001b[49m\u001b[43m,\u001b[49m\u001b[43m \u001b[49m\u001b[43moptimizer\u001b[49m\u001b[43m,\u001b[49m\u001b[43m \u001b[49m\u001b[43mdevice\u001b[49m\u001b[43m,\u001b[49m\u001b[43m \u001b[49m\u001b[38;5;124;43m'\u001b[39;49m\u001b[38;5;124;43mvertical_position\u001b[39;49m\u001b[38;5;124;43m'\u001b[39;49m\u001b[43m)\u001b[49m\n",
      "Cell \u001b[0;32mIn[20], line 7\u001b[0m, in \u001b[0;36mfinetune_RPM_single_reward\u001b[0;34m(model, dataset, loss_fn, optimizer, device, reward_type)\u001b[0m\n\u001b[1;32m      4\u001b[0m \u001b[38;5;28mprint\u001b[39m(\u001b[38;5;124mf\u001b[39m\u001b[38;5;124m'\u001b[39m\u001b[38;5;124m[INFO] Finetune RPM with \u001b[39m\u001b[38;5;132;01m{\u001b[39;00mreward_type\u001b[38;5;132;01m}\u001b[39;00m\u001b[38;5;124m reward on device: \u001b[39m\u001b[38;5;132;01m{\u001b[39;00mdevice\u001b[38;5;132;01m}\u001b[39;00m\u001b[38;5;124m ...\u001b[39m\u001b[38;5;124m'\u001b[39m)\n\u001b[1;32m      6\u001b[0m \u001b[38;5;28;01mfor\u001b[39;00m itr \u001b[38;5;129;01min\u001b[39;00m trange(n_iter):\n\u001b[0;32m----> 7\u001b[0m \timages, rewards \u001b[38;5;241m=\u001b[39m \u001b[43mgenerate_batch\u001b[49m\u001b[43m(\u001b[49m\u001b[43mdataset\u001b[49m\u001b[43m,\u001b[49m\u001b[43m \u001b[49m\u001b[43mbatch_size\u001b[49m\u001b[43m,\u001b[49m\u001b[43m \u001b[49m\u001b[43mitr\u001b[49m\u001b[43m)\u001b[49m\n\u001b[1;32m      9\u001b[0m \t\u001b[38;5;66;03m# assume n_frames + T_future == len(images)\u001b[39;00m\n\u001b[1;32m     10\u001b[0m \tpred_rewards \u001b[38;5;241m=\u001b[39m model(  \u001b[38;5;66;03m# add batch dimension for images\u001b[39;00m\n\u001b[1;32m     11\u001b[0m \t\tconditioning_frames\u001b[38;5;241m=\u001b[39mimages[:, :n_frames]\u001b[38;5;241m.\u001b[39mto(device), \n\u001b[1;32m     12\u001b[0m \t\tfuture_frames\u001b[38;5;241m=\u001b[39mimages[:, n_frames:]\u001b[38;5;241m.\u001b[39mto(device),\n\u001b[1;32m     13\u001b[0m \t\treward_type\u001b[38;5;241m=\u001b[39mreward_type\n\u001b[1;32m     14\u001b[0m \t)\n",
      "File \u001b[0;32m~/PycharmProjects/clvr_impl_starter/reward_induced/utils.py:7\u001b[0m, in \u001b[0;36mgenerate_batch\u001b[0;34m(dataset, batch_size, itr)\u001b[0m\n\u001b[1;32m      5\u001b[0m batched_data \u001b[38;5;241m=\u001b[39m \u001b[38;5;28;01mNone\u001b[39;00m\n\u001b[1;32m      6\u001b[0m \u001b[38;5;28;01mfor\u001b[39;00m i \u001b[38;5;129;01min\u001b[39;00m \u001b[38;5;28mrange\u001b[39m(batch_size):\n\u001b[0;32m----> 7\u001b[0m     data \u001b[38;5;241m=\u001b[39m \u001b[43mdataset\u001b[49m\u001b[43m[\u001b[49m\u001b[43mitr\u001b[49m\u001b[38;5;241;43m*\u001b[39;49m\u001b[43mbatch_size\u001b[49m\u001b[38;5;241;43m+\u001b[39;49m\u001b[43mi\u001b[49m\u001b[43m]\u001b[49m\n\u001b[1;32m      8\u001b[0m     \u001b[38;5;28;01mif\u001b[39;00m batched_data \u001b[38;5;129;01mis\u001b[39;00m \u001b[38;5;28;01mNone\u001b[39;00m:\n\u001b[1;32m      9\u001b[0m         batched_data \u001b[38;5;241m=\u001b[39m {\u001b[38;5;124m'\u001b[39m\u001b[38;5;124mimages\u001b[39m\u001b[38;5;124m'\u001b[39m: [data[\u001b[38;5;124m'\u001b[39m\u001b[38;5;124mimages\u001b[39m\u001b[38;5;124m'\u001b[39m]], \n\u001b[1;32m     10\u001b[0m                         \u001b[38;5;124m'\u001b[39m\u001b[38;5;124mrewards\u001b[39m\u001b[38;5;124m'\u001b[39m: {k: [v] \u001b[38;5;28;01mfor\u001b[39;00m k, v \u001b[38;5;129;01min\u001b[39;00m data[\u001b[38;5;124m'\u001b[39m\u001b[38;5;124mrewards\u001b[39m\u001b[38;5;124m'\u001b[39m]\u001b[38;5;241m.\u001b[39mitems()}}\n",
      "\u001b[0;31mTypeError\u001b[0m: 'TemplateMovingSpritesGenerator' object is not subscriptable"
     ]
    }
   ],
   "source": [
    "finetune_RPM_single_reward(model_vertical, generator, loss_fn, optimizer, device, 'vertical_position')"
   ]
  },
  {
   "cell_type": "code",
   "execution_count": null,
   "metadata": {},
   "outputs": [],
   "source": [
    "with torch.no_grad():\n",
    "    # encode the images\n",
    "    encoded_repr = model_vertical.image_encoder(images[:, :n_frames].to(device))\n",
    "    decoded_images = decoder_vertical(encoded_repr)\n",
    "\n",
    "decoded_images = decoded_images.cpu().numpy()\n",
    "decoded_images = make_image_seq_strip([decoded_images[:, None, :, None]], sep_val=255.0).astype(np.uint8)\n",
    "cv2.imwrite('vertical_decoded.png', decoded_images[0].transpose(1, 2, 0))"
   ]
  },
  {
   "cell_type": "markdown",
   "metadata": {},
   "source": [
    "### Decode horizontal reward-induced representations with ImageDecoder"
   ]
  },
  {
   "cell_type": "code",
   "execution_count": null,
   "metadata": {},
   "outputs": [],
   "source": []
  }
 ],
 "metadata": {
  "kernelspec": {
   "display_name": "2024Spring",
   "language": "python",
   "name": "python3"
  },
  "language_info": {
   "codemirror_mode": {
    "name": "ipython",
    "version": 3
   },
   "file_extension": ".py",
   "mimetype": "text/x-python",
   "name": "python",
   "nbconvert_exporter": "python",
   "pygments_lexer": "ipython3",
   "version": "3.10.14"
  }
 },
 "nbformat": 4,
 "nbformat_minor": 2
}
