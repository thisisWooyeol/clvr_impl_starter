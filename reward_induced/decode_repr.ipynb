{
 "cells": [
  {
   "cell_type": "code",
   "execution_count": 1,
   "metadata": {},
   "outputs": [],
   "source": [
    "import os\n",
    "import sys\n",
    "nb_dir = os.path.split(os.getcwd())[0]\n",
    "if nb_dir not in sys.path:\n",
    "\tsys.path.append(nb_dir)"
   ]
  },
  {
   "cell_type": "code",
   "execution_count": 2,
   "metadata": {},
   "outputs": [
    {
     "name": "stderr",
     "output_type": "stream",
     "text": [
      "/home/thisiswooyeol/anaconda3/envs/2024Spring/lib/python3.10/site-packages/tqdm/auto.py:21: TqdmWarning: IProgress not found. Please update jupyter and ipywidgets. See https://ipywidgets.readthedocs.io/en/stable/user_install.html\n",
      "  from .autonotebook import tqdm as notebook_tqdm\n"
     ]
    }
   ],
   "source": [
    "import torch\n",
    "import torch.nn as nn\n",
    "from torch.optim.radam import RAdam\n",
    "\n",
    "from general_utils import AttrDict\n",
    "from reward_induced.models.reward_predictor_model import RewardPredictorModel\n",
    "from reward_induced.models.decoder import ImageDecoder\n",
    "from reward_induced.utils import *\n",
    "from sprites_datagen.moving_sprites import MovingSpriteDataset, TemplateMovingSpritesGenerator\n",
    "from sprites_datagen.rewards import *\n",
    "\n",
    "from tqdm import trange\n",
    "import matplotlib.pyplot as plt"
   ]
  },
  {
   "cell_type": "code",
   "execution_count": 3,
   "metadata": {},
   "outputs": [],
   "source": [
    "spec = AttrDict(\n",
    "        resolution=64,\n",
    "        max_seq_len=30,\n",
    "        max_speed=0.05,      # total image range [0, 1]\n",
    "        obj_size=0.2,       # size of objects, full images is 1.0\n",
    "        shapes_per_traj=4,      # number of shapes per trajectory\n",
    "        rewards=[ZeroReward],\n",
    "    )\n",
    "\n",
    "dataset = MovingSpriteDataset(spec)"
   ]
  },
  {
   "cell_type": "code",
   "execution_count": 4,
   "metadata": {},
   "outputs": [],
   "source": [
    "# some hyperparameters\n",
    "image_shape = (3, 64, 64)\n",
    "n_frames = 20  # number of conditioning frames\n",
    "T_future = 10  # number of future frames to predict rewards for\n",
    "batch_size = 32\n",
    "\n",
    "lr = 1e-3\n",
    "n_iter = 2_000\n",
    "log_interval = 200\n",
    "\n",
    "device = torch.device('cuda' if torch.cuda.is_available() else 'cpu')"
   ]
  },
  {
   "cell_type": "markdown",
   "metadata": {},
   "source": [
    "# Train an ImageDecoder from complete images to reward-induced representation"
   ]
  },
  {
   "cell_type": "code",
   "execution_count": 5,
   "metadata": {},
   "outputs": [],
   "source": [
    "RPM_PATH = 'complete_RPM_1e-3_1M.pth'\n",
    "\n",
    "model = RewardPredictorModel(image_shape, n_frames, T_future)\n",
    "model.load_state_dict(torch.load(RPM_PATH))\n",
    "\n",
    "# with learned image encoder, decode reward-induced representations\n",
    "encoder = model.image_encoder\n",
    "decoder = ImageDecoder(image_shape)"
   ]
  },
  {
   "cell_type": "code",
   "execution_count": 6,
   "metadata": {},
   "outputs": [],
   "source": [
    "loss_fn = nn.MSELoss()\n",
    "optimizer = RAdam(decoder.parameters(), lr=lr)"
   ]
  },
  {
   "cell_type": "code",
   "execution_count": 7,
   "metadata": {},
   "outputs": [],
   "source": [
    "def train_decoder(encoder, decoder, dataset, device, n_iter):\n",
    "    # decoder should restore the original image from the reward-induced representation\n",
    "    losses = []\n",
    "    encoder.to(device).eval()\n",
    "    decoder.to(device)\n",
    "    print(f'[INFO] Train decoder on device: {device} ...')\n",
    "\n",
    "    for itr in trange(n_iter):\n",
    "        images, _ = generate_batch(dataset, batch_size, itr)\n",
    "        images = images.to(device)\n",
    "\t\t\n",
    "        # encode the images\n",
    "        with torch.no_grad():\n",
    "            encoded_repr = encoder(images).detach() \n",
    "        \n",
    "        # decode the images\n",
    "        decoded_images = decoder(encoded_repr)\n",
    "\n",
    "        loss = loss_fn(decoded_images, images)\n",
    "\n",
    "        optimizer.zero_grad()\n",
    "        loss.backward()\n",
    "        optimizer.step()\n",
    "        \n",
    "        losses.append(loss.item())\n",
    "        if (itr+1) % log_interval == 0:\n",
    "            print(f'[{itr+1} / {n_iter}] Reproduction loss: {loss.item()}')\n",
    "\n",
    "    return losses"
   ]
  },
  {
   "cell_type": "code",
   "execution_count": 8,
   "metadata": {},
   "outputs": [
    {
     "name": "stdout",
     "output_type": "stream",
     "text": [
      "[INFO] Train decoder on device: cuda ...\n"
     ]
    },
    {
     "name": "stderr",
     "output_type": "stream",
     "text": [
      " 10%|█         | 200/2000 [01:16<11:14,  2.67it/s]"
     ]
    },
    {
     "name": "stdout",
     "output_type": "stream",
     "text": [
      "[200 / 2000] Reproduction loss: 0.2696765959262848\n"
     ]
    },
    {
     "name": "stderr",
     "output_type": "stream",
     "text": [
      " 20%|██        | 400/2000 [02:38<10:53,  2.45it/s]"
     ]
    },
    {
     "name": "stdout",
     "output_type": "stream",
     "text": [
      "[400 / 2000] Reproduction loss: 0.24574890732765198\n"
     ]
    },
    {
     "name": "stderr",
     "output_type": "stream",
     "text": [
      " 30%|███       | 600/2000 [04:05<11:43,  1.99it/s]"
     ]
    },
    {
     "name": "stdout",
     "output_type": "stream",
     "text": [
      "[600 / 2000] Reproduction loss: 0.24482350051403046\n"
     ]
    },
    {
     "name": "stderr",
     "output_type": "stream",
     "text": [
      " 40%|████      | 800/2000 [05:36<08:50,  2.26it/s]"
     ]
    },
    {
     "name": "stdout",
     "output_type": "stream",
     "text": [
      "[800 / 2000] Reproduction loss: 0.24543315172195435\n"
     ]
    },
    {
     "name": "stderr",
     "output_type": "stream",
     "text": [
      " 50%|█████     | 1000/2000 [07:02<06:53,  2.42it/s]"
     ]
    },
    {
     "name": "stdout",
     "output_type": "stream",
     "text": [
      "[1000 / 2000] Reproduction loss: 0.24508890509605408\n"
     ]
    },
    {
     "name": "stderr",
     "output_type": "stream",
     "text": [
      " 60%|██████    | 1200/2000 [08:22<05:20,  2.50it/s]"
     ]
    },
    {
     "name": "stdout",
     "output_type": "stream",
     "text": [
      "[1200 / 2000] Reproduction loss: 0.24264270067214966\n"
     ]
    },
    {
     "name": "stderr",
     "output_type": "stream",
     "text": [
      " 70%|███████   | 1400/2000 [09:41<03:45,  2.66it/s]"
     ]
    },
    {
     "name": "stdout",
     "output_type": "stream",
     "text": [
      "[1400 / 2000] Reproduction loss: 0.2161809355020523\n"
     ]
    },
    {
     "name": "stderr",
     "output_type": "stream",
     "text": [
      " 80%|████████  | 1600/2000 [10:57<02:30,  2.66it/s]"
     ]
    },
    {
     "name": "stdout",
     "output_type": "stream",
     "text": [
      "[1600 / 2000] Reproduction loss: 0.17123451828956604\n"
     ]
    },
    {
     "name": "stderr",
     "output_type": "stream",
     "text": [
      " 90%|█████████ | 1800/2000 [11:59<01:11,  2.81it/s]"
     ]
    },
    {
     "name": "stdout",
     "output_type": "stream",
     "text": [
      "[1800 / 2000] Reproduction loss: 0.15681421756744385\n"
     ]
    },
    {
     "name": "stderr",
     "output_type": "stream",
     "text": [
      "100%|██████████| 2000/2000 [12:50<00:00,  2.60it/s]"
     ]
    },
    {
     "name": "stdout",
     "output_type": "stream",
     "text": [
      "[2000 / 2000] Reproduction loss: 0.14647439122200012\n"
     ]
    },
    {
     "name": "stderr",
     "output_type": "stream",
     "text": [
      "\n"
     ]
    }
   ],
   "source": [
    "losses_decoder = train_decoder(encoder, decoder, dataset, device, n_iter)"
   ]
  },
  {
   "cell_type": "code",
   "execution_count": 9,
   "metadata": {},
   "outputs": [
    {
     "data": {
      "image/png": "[encoded data removed]",
      "text/plain": [
       "<Figure size 640x480 with 1 Axes>"
      ]
     },
     "metadata": {},
     "output_type": "display_data"
    }
   ],
   "source": [
    "# Visualize the losses\n",
    "plt.plot(losses_decoder, label='Original loss')\n",
    "plt.xlabel('Iteration')\n",
    "plt.ylabel('Loss')\n",
    "plt.title('Decoder training loss')\n",
    "plt.legend()\n",
    "plt.show()"
   ]
  },
  {
   "cell_type": "code",
   "execution_count": 10,
   "metadata": {},
   "outputs": [],
   "source": [
    "DECODER_PATH = 'complete_decoder_tanh_4K.pth'\n",
    "torch.save(decoder.state_dict(), DECODER_PATH)"
   ]
  },
  {
   "cell_type": "code",
   "execution_count": 11,
   "metadata": {},
   "outputs": [
    {
     "data": {
      "text/plain": [
       "<All keys matched successfully>"
      ]
     },
     "execution_count": 11,
     "metadata": {},
     "output_type": "execute_result"
    }
   ],
   "source": [
    "decoder = ImageDecoder(image_shape)\n",
    "decoder.load_state_dict(torch.load(DECODER_PATH))  # test save and load"
   ]
  },
  {
   "cell_type": "markdown",
   "metadata": {},
   "source": [
    "# Decode the reward-induced representation"
   ]
  },
  {
   "cell_type": "code",
   "execution_count": 12,
   "metadata": {},
   "outputs": [],
   "source": [
    "spec = AttrDict(\n",
    "        resolution=64,\n",
    "        max_seq_len=30,\n",
    "        max_speed=0.05,      # total image range [0, 1]\n",
    "        obj_size=0.2,       # size of objects, full images is 1.0\n",
    "        shapes_per_traj=1,      # number of shapes per trajectory\n",
    "        rewards=[VertPosReward, HorPosReward],\n",
    "    )\n",
    "\n",
    "generator = TemplateMovingSpritesGenerator(spec)\n",
    "generator.SHAPES = ['tri_bottom']"
   ]
  },
  {
   "cell_type": "code",
   "execution_count": 13,
   "metadata": {},
   "outputs": [
    {
     "name": "stdout",
     "output_type": "stream",
     "text": [
      "(30, 64, 64)\n",
      "{'vertical_position': array([0.5201178 , 0.5593974 , 0.598677  , 0.63795656, 0.67723614,\n",
      "       0.7165157 , 0.7557953 , 0.7950749 , 0.8343544 , 0.873634  ,\n",
      "       0.88708645, 0.8478069 , 0.8085273 , 0.7692477 , 0.72996813,\n",
      "       0.69068855, 0.651409  , 0.6121294 , 0.5728498 , 0.53357023,\n",
      "       0.49429068, 0.4550111 , 0.41573152, 0.37645194, 0.33717236,\n",
      "       0.2978928 , 0.25861323, 0.21933365, 0.18005407, 0.1407745 ],\n",
      "      dtype=float32), 'horizontal_position': array([0.5245881 , 0.55684334, 0.5890985 , 0.62135375, 0.6536089 ,\n",
      "       0.6858641 , 0.7181193 , 0.7503745 , 0.7826297 , 0.8148849 ,\n",
      "       0.84714013, 0.8793953 , 0.8883495 , 0.8560943 , 0.8238391 ,\n",
      "       0.7915839 , 0.7593287 , 0.7270735 , 0.6948183 , 0.66256315,\n",
      "       0.6303079 , 0.59805274, 0.5657975 , 0.53354234, 0.50128716,\n",
      "       0.46903193, 0.43677676, 0.40452155, 0.37226635, 0.34001115],\n",
      "      dtype=float32)}\n"
     ]
    }
   ],
   "source": [
    "from general_utils import make_image_seq_strip\n",
    "import cv2\n",
    "\n",
    "output = generator.gen_trajectory()\n",
    "images = make_image_seq_strip([output['images'][None, :, None].repeat(3, axis=2).astype(np.float32)], \\\n",
    "                              sep_val=255.0).astype(np.uint8)\n",
    "\n",
    "print(output['images'].shape)\n",
    "cv2.imwrite('one_distractor.png', images[0].transpose(1, 2, 0))\n",
    "\n",
    "print(output['rewards'])"
   ]
  },
  {
   "cell_type": "markdown",
   "metadata": {},
   "source": [
    "### Decode vertical reward-induced representations with ImageDecoder"
   ]
  },
  {
   "cell_type": "code",
   "execution_count": 14,
   "metadata": {},
   "outputs": [
    {
     "data": {
      "text/plain": [
       "<All keys matched successfully>"
      ]
     },
     "execution_count": 14,
     "metadata": {},
     "output_type": "execute_result"
    }
   ],
   "source": [
    "model_vertical = RewardPredictorModel(image_shape, n_frames, T_future)\n",
    "model_vertical.load_state_dict(torch.load(RPM_PATH))\n",
    "\n",
    "decoder_vertical = ImageDecoder(image_shape)\n",
    "decoder_vertical.load_state_dict(torch.load(DECODER_PATH))"
   ]
  },
  {
   "cell_type": "code",
   "execution_count": 15,
   "metadata": {},
   "outputs": [
    {
     "data": {
      "text/plain": [
       "torch.Size([3, 30, 3, 64, 64])"
      ]
     },
     "execution_count": 15,
     "metadata": {},
     "output_type": "execute_result"
    }
   ],
   "source": [
    "images, rewards = generate_batch_gen(generator, 3)\n",
    "\n",
    "images.shape"
   ]
  },
  {
   "cell_type": "code",
   "execution_count": 16,
   "metadata": {},
   "outputs": [],
   "source": [
    "loss_fn = nn.MSELoss()\n",
    "optimizer = RAdam(model_vertical.parameters(), lr=5e-4)  # lr / 2"
   ]
  },
  {
   "cell_type": "code",
   "execution_count": 28,
   "metadata": {},
   "outputs": [],
   "source": [
    "def finetune_RPM_single_reward(model, generator, loss_fn, optimizer, device, reward_type_list: list[str]):\n",
    "\tlosses = []\n",
    "\tmodel.to(device)\n",
    "\tprint(f'[INFO] Finetune RPM with {reward_type_list} reward on device: {device} ...')\n",
    "\n",
    "\tfor itr in trange(n_iter):\n",
    "\t\timages, rewards = generate_batch_gen(generator, batch_size)\n",
    "\t\t\n",
    "\t\t# assume n_frames + T_future == len(images)\n",
    "\t\tpred_rewards = model(  # add batch dimension for images\n",
    "\t\t\tconditioning_frames=images[:, :n_frames].to(device), \n",
    "\t\t\tfuture_frames=images[:, n_frames:].to(device),\n",
    "\t\t\treward_type=reward_type_list\n",
    "\t\t)\n",
    "\n",
    "\t\tloss = 0\n",
    "\t\tfor reward_type, pred_reward in pred_rewards.items():\n",
    "\t\t\treward = torch.tensor(rewards[reward_type][:, n_frames:], \n",
    "\t\t\t\t\t\t dtype=torch.float32, device=device)\n",
    "\t\t\tloss += loss_fn(pred_reward, reward)\n",
    "\n",
    "\t\toptimizer.zero_grad()\n",
    "\t\tloss.backward()\n",
    "\t\toptimizer.step()\n",
    "\n",
    "\t\tlosses.append(loss.item())\n",
    "\t\tif (itr+1) % log_interval == 0:\n",
    "\t\t\tprint(f'[{itr+1} / {n_iter}] RPM loss: {loss.item()}')\n",
    "\n",
    "\treturn losses"
   ]
  },
  {
   "cell_type": "code",
   "execution_count": 30,
   "metadata": {},
   "outputs": [
    {
     "name": "stdout",
     "output_type": "stream",
     "text": [
      "[INFO] Finetune RPM with ['vertical_position'] reward on device: cuda ...\n"
     ]
    },
    {
     "name": "stderr",
     "output_type": "stream",
     "text": [
      "  0%|          | 0/2000 [00:00<?, ?it/s]"
     ]
    },
    {
     "name": "stderr",
     "output_type": "stream",
     "text": [
      " 10%|█         | 201/2000 [00:41<05:55,  5.06it/s]"
     ]
    },
    {
     "name": "stdout",
     "output_type": "stream",
     "text": [
      "[200 / 2000] RPM loss: 3.6715049645863473e-05\n"
     ]
    },
    {
     "name": "stderr",
     "output_type": "stream",
     "text": [
      " 20%|██        | 401/2000 [01:22<05:09,  5.17it/s]"
     ]
    },
    {
     "name": "stdout",
     "output_type": "stream",
     "text": [
      "[400 / 2000] RPM loss: 2.6432195227243938e-05\n"
     ]
    },
    {
     "name": "stderr",
     "output_type": "stream",
     "text": [
      " 30%|███       | 600/2000 [02:03<05:03,  4.61it/s]"
     ]
    },
    {
     "name": "stdout",
     "output_type": "stream",
     "text": [
      "[600 / 2000] RPM loss: 2.73599180218298e-05\n"
     ]
    },
    {
     "name": "stderr",
     "output_type": "stream",
     "text": [
      " 40%|████      | 800/2000 [02:44<04:11,  4.77it/s]"
     ]
    },
    {
     "name": "stdout",
     "output_type": "stream",
     "text": [
      "[800 / 2000] RPM loss: 2.8432510589482263e-05\n"
     ]
    },
    {
     "name": "stderr",
     "output_type": "stream",
     "text": [
      " 50%|█████     | 1000/2000 [03:26<05:35,  2.98it/s]"
     ]
    },
    {
     "name": "stdout",
     "output_type": "stream",
     "text": [
      "[1000 / 2000] RPM loss: 2.8719905458274297e-05\n"
     ]
    },
    {
     "name": "stderr",
     "output_type": "stream",
     "text": [
      " 60%|██████    | 1200/2000 [04:13<03:11,  4.17it/s]"
     ]
    },
    {
     "name": "stdout",
     "output_type": "stream",
     "text": [
      "[1200 / 2000] RPM loss: 2.6961626645061187e-05\n"
     ]
    },
    {
     "name": "stderr",
     "output_type": "stream",
     "text": [
      " 70%|███████   | 1400/2000 [05:01<02:02,  4.89it/s]"
     ]
    },
    {
     "name": "stdout",
     "output_type": "stream",
     "text": [
      "[1400 / 2000] RPM loss: 2.6522500775172375e-05\n"
     ]
    },
    {
     "name": "stderr",
     "output_type": "stream",
     "text": [
      " 80%|████████  | 1601/2000 [05:43<01:18,  5.06it/s]"
     ]
    },
    {
     "name": "stdout",
     "output_type": "stream",
     "text": [
      "[1600 / 2000] RPM loss: 3.113248021691106e-05\n"
     ]
    },
    {
     "name": "stderr",
     "output_type": "stream",
     "text": [
      " 90%|█████████ | 1801/2000 [06:23<00:38,  5.23it/s]"
     ]
    },
    {
     "name": "stdout",
     "output_type": "stream",
     "text": [
      "[1800 / 2000] RPM loss: 2.832747486536391e-05\n"
     ]
    },
    {
     "name": "stderr",
     "output_type": "stream",
     "text": [
      "100%|██████████| 2000/2000 [07:02<00:00,  4.74it/s]"
     ]
    },
    {
     "name": "stdout",
     "output_type": "stream",
     "text": [
      "[2000 / 2000] RPM loss: 2.6749785320134833e-05\n"
     ]
    },
    {
     "name": "stderr",
     "output_type": "stream",
     "text": [
      "\n"
     ]
    }
   ],
   "source": [
    "losses = finetune_RPM_single_reward(model_vertical, generator, loss_fn, optimizer, device, ['vertical_position'])"
   ]
  },
  {
   "cell_type": "code",
   "execution_count": 31,
   "metadata": {},
   "outputs": [
    {
     "data": {
      "image/png": "[encoded data removed]",
      "text/plain": [
       "<Figure size 640x480 with 1 Axes>"
      ]
     },
     "metadata": {},
     "output_type": "display_data"
    }
   ],
   "source": [
    "# Visualize the losses\n",
    "plt.plot(losses, label='Decoder loss')\n",
    "\n",
    "plt.xlabel('Iteration')\n",
    "plt.ylabel('Loss')\n",
    "plt.title('Decoder training loss')\n",
    "plt.legend()\n",
    "plt.show()"
   ]
  },
  {
   "cell_type": "code",
   "execution_count": 57,
   "metadata": {},
   "outputs": [
    {
     "data": {
      "text/plain": [
       "True"
      ]
     },
     "execution_count": 57,
     "metadata": {},
     "output_type": "execute_result"
    }
   ],
   "source": [
    "decoder_vertical.to(device).eval()\n",
    "images, _ = generate_batch_gen(generator, 1)\n",
    "\n",
    "with torch.no_grad():\n",
    "    # encode the images\n",
    "    encoded_repr = model_vertical.image_encoder(images[:, :n_frames].to(device))\n",
    "    decoded_images = decoder_vertical(encoded_repr)\n",
    "\n",
    "decoded_images = decoded_images.cpu().numpy()\n",
    "decoded_images = make_image_seq_strip([decoded_images[0, None, :, None]], sep_val=255.0).astype(np.uint8)[0,0]\n",
    "cv2.imwrite('vertical_decoded.png', decoded_images.transpose(2, 1, 0))"
   ]
  },
  {
   "cell_type": "markdown",
   "metadata": {},
   "source": [
    "### Decode horizontal reward-induced representations with ImageDecoder"
   ]
  },
  {
   "cell_type": "code",
   "execution_count": null,
   "metadata": {},
   "outputs": [],
   "source": []
  }
 ],
 "metadata": {
  "kernelspec": {
   "display_name": "2024Spring",
   "language": "python",
   "name": "python3"
  },
  "language_info": {
   "codemirror_mode": {
    "name": "ipython",
    "version": 3
   },
   "file_extension": ".py",
   "mimetype": "text/x-python",
   "name": "python",
   "nbconvert_exporter": "python",
   "pygments_lexer": "ipython3",
   "version": "3.10.14"
  }
 },
 "nbformat": 4,
 "nbformat_minor": 2
}
