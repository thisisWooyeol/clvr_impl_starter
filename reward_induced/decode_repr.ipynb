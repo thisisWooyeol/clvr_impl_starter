{
 "cells": [
  {
   "cell_type": "code",
   "execution_count": 9,
   "metadata": {},
   "outputs": [],
   "source": [
    "import os\n",
    "import sys\n",
    "nb_dir = os.path.split(os.getcwd())[0]\n",
    "if nb_dir not in sys.path:\n",
    "\tsys.path.append(nb_dir)"
   ]
  },
  {
   "cell_type": "code",
   "execution_count": 10,
   "metadata": {},
   "outputs": [],
   "source": [
    "import torch\n",
    "import torch.nn as nn\n",
    "from torch.optim.radam import RAdam\n",
    "\n",
    "from general_utils import AttrDict, make_image_seq_strip\n",
    "from reward_induced.src.reward_predictor_model import RewardPredictorModel\n",
    "from reward_induced.src.image_decoder import ImageDecoder\n",
    "from sprites_datagen.moving_sprites import MovingSpriteDataset, TemplateMovingSpritesGenerator\n",
    "from sprites_datagen.rewards import *\n",
    "\n",
    "from tqdm import trange\n",
    "import matplotlib.pyplot as plt\n",
    "import cv2"
   ]
  },
  {
   "cell_type": "code",
   "execution_count": 11,
   "metadata": {},
   "outputs": [],
   "source": [
    "# some hyperparameters\n",
    "image_shape = (3, 64, 64)\n",
    "n_frames = 10  # number of conditioning frames\n",
    "T_future = 20  # number of future frames to predict rewards for\n",
    "\n",
    "lr = 1e-3\n",
    "n_iter = 2_000\n",
    "log_interval = 500\n",
    "\n",
    "device = torch.device('cuda' if torch.cuda.is_available() else 'cpu')"
   ]
  },
  {
   "cell_type": "code",
   "execution_count": 12,
   "metadata": {},
   "outputs": [],
   "source": [
    "spec = AttrDict(\n",
    "        resolution=64,\n",
    "        max_seq_len=30,\n",
    "        max_speed=0.05,      # total image range [0, 1]\n",
    "        obj_size=0.2,       # size of objects, full images is 1.0\n",
    "        shapes_per_traj=4,      # number of shapes per trajectory\n",
    "        rewards=[ZeroReward],\n",
    "    )\n",
    "\n",
    "dataset = MovingSpriteDataset(spec)"
   ]
  },
  {
   "cell_type": "markdown",
   "metadata": {},
   "source": [
    "# **STEP 1: Define an ImageDecoder trainer**\n",
    "\n",
    "- GOAL: reconstruct the original images\n",
    "  - encoder: complete images -> reward-induced representation\n",
    "  - decoder: reward-induced representation -> complete images"
   ]
  },
  {
   "cell_type": "code",
   "execution_count": 13,
   "metadata": {},
   "outputs": [],
   "source": [
    "def train_decoder(encoder, decoder, dataset, device, n_iter):\n",
    "    # decoder should restore the original image from the reward-induced representation\n",
    "    loss_fn = nn.MSELoss()\n",
    "    optimizer = RAdam(decoder.parameters(), lr=lr)\n",
    "\n",
    "    losses = []\n",
    "    print(f'[INFO] Train decoder on device: {device} ...')\n",
    "\n",
    "    for itr in trange(n_iter):\n",
    "        data = dataset[itr]\n",
    "        images = torch.tensor(data.images).to(device)\n",
    "\t\t\n",
    "        # encode the images\n",
    "        with torch.no_grad():\n",
    "            encoded_repr = encoder(images).detach()\n",
    "        \n",
    "        # decode the images\n",
    "        decoded_images = decoder(encoded_repr)\n",
    "\n",
    "        loss = loss_fn(decoded_images, images)\n",
    "\n",
    "        optimizer.zero_grad()\n",
    "        loss.backward()\n",
    "        optimizer.step()\n",
    "        \n",
    "        losses.append(loss.item())\n",
    "        if (itr+1) % log_interval == 0:\n",
    "            print(f'[{itr+1} / {n_iter}] Reproduction loss: {loss.item()}')\n",
    "\n",
    "    return losses"
   ]
  },
  {
   "cell_type": "markdown",
   "metadata": {},
   "source": [
    "# **STEP 2: Decode the reward-induced representation**\n",
    "\n",
    "- GOAL: decode the reward-induced representation to subset of images\n",
    "  - (1) VertPosReward\n",
    "    - Train RPM with VertPosReward\n",
    "    - Decode the reward-induced representation with detached decoder (from STEP 1)\n",
    "  - (2) HorzPosReward\n",
    "    - Train RPM with HorzPosReward\n",
    "    - Decode the reward-induced representation with detached decoder (from STEP 1)"
   ]
  },
  {
   "cell_type": "markdown",
   "metadata": {},
   "source": [
    "###"
   ]
  },
  {
   "cell_type": "code",
   "execution_count": 14,
   "metadata": {},
   "outputs": [],
   "source": [
    "spec = AttrDict(\n",
    "        resolution=64,\n",
    "        max_seq_len=30,\n",
    "        max_speed=0.05,      # total image range [0, 1]\n",
    "        obj_size=0.2,       # size of objects, full images is 1.0\n",
    "        shapes_per_traj=1,      # number of shapes per trajectory\n",
    "        rewards=[VertPosReward, HorPosReward],\n",
    "    )\n",
    "\n",
    "generator = TemplateMovingSpritesGenerator(spec)\n",
    "generator.SHAPES = ['tri_bottom']"
   ]
  },
  {
   "cell_type": "code",
   "execution_count": 15,
   "metadata": {},
   "outputs": [
    {
     "name": "stdout",
     "output_type": "stream",
     "text": [
      "images shape: (30, 64, 64), max: 255, min: 0\n",
      "{'vertical_position': array([0.23094916, 0.18920824, 0.14746732, 0.1057264 , 0.13601452,\n",
      "       0.17775545, 0.21949637, 0.2612373 , 0.30297822, 0.3447191 ,\n",
      "       0.38646004, 0.42820096, 0.46994188, 0.5116828 , 0.5534237 ,\n",
      "       0.59516466, 0.63690555, 0.6786465 , 0.7203874 , 0.76212835,\n",
      "       0.80386925, 0.8456102 , 0.8873511 , 0.87090796, 0.82916707,\n",
      "       0.7874261 , 0.7456852 , 0.7039443 , 0.6622034 , 0.6204625 ],\n",
      "      dtype=float32), 'horizontal_position': array([0.6271969 , 0.602496  , 0.57779515, 0.5530943 , 0.52839345,\n",
      "       0.5036926 , 0.47899175, 0.4542909 , 0.42959002, 0.40488917,\n",
      "       0.38018832, 0.35548747, 0.33078662, 0.30608577, 0.2813849 ,\n",
      "       0.25668404, 0.23198318, 0.20728232, 0.18258147, 0.15788062,\n",
      "       0.13317975, 0.1084789 , 0.11622195, 0.14092281, 0.16562366,\n",
      "       0.19032452, 0.21502538, 0.23972623, 0.2644271 , 0.28912795],\n",
      "      dtype=float32)}\n"
     ]
    }
   ],
   "source": [
    "output = generator.gen_trajectory()\n",
    "images = make_image_seq_strip([output['images'][None, :, None].repeat(3, axis=2).astype(np.float32)], \\\n",
    "                              sep_val=255.0).astype(np.uint8)\n",
    "\n",
    "\n",
    "print(f'images shape: {output.images.shape}, max: {output.images.max()}, min: {output.images.min()}')\n",
    "cv2.imwrite('imgs/one_distractor.png', images[0].transpose(1, 2, 0))\n",
    "\n",
    "print(output['rewards'])"
   ]
  },
  {
   "cell_type": "markdown",
   "metadata": {},
   "source": [
    "## Decode vertical reward-induced representations with ImageDecoder"
   ]
  },
  {
   "cell_type": "code",
   "execution_count": 16,
   "metadata": {},
   "outputs": [],
   "source": [
    "model_vertical = RewardPredictorModel(image_shape, n_frames, T_future).to(device)\n",
    "decoder_vertical = ImageDecoder(image_shape).to(device)"
   ]
  },
  {
   "cell_type": "code",
   "execution_count": 17,
   "metadata": {},
   "outputs": [],
   "source": [
    "def train_RPM_single_reward(model, generator, device, reward_type_list: list[str]):\n",
    "\tloss_fn = nn.MSELoss()\n",
    "\toptimizer = RAdam(model.parameters(), lr=lr)\n",
    "\t\n",
    "\tlosses = []\n",
    "\tprint(f'[INFO] Train RPM with {reward_type_list} reward on device: {device} ...')\n",
    "\n",
    "\tfor itr in trange(n_iter):\n",
    "\t\ttraj = generator.gen_trajectory()\n",
    "\t\timages = traj.images[:, None].repeat(3, axis=1).astype(np.float32) / (255./2) - 1.0\n",
    "\t\timages = torch.tensor(images).to(device)\n",
    "\t\trewards = {k: torch.tensor(v, dtype=torch.float32, device=device) for k, v in traj.rewards.items()}\n",
    "\t\t\n",
    "\t\t# assume n_frames + T_future == len(images)\n",
    "\t\tpred_rewards, _ = model(\n",
    "\t\t\tframes=images,\n",
    "\t\t\treward_type_list=reward_type_list\n",
    "\t\t)\n",
    "\n",
    "\t\t# compute loss for each reward type\n",
    "\t\tloss = 0\n",
    "\t\tfor reward_type, pred_reward in pred_rewards.items():\n",
    "\t\t\treward = rewards[reward_type][-T_future:]\n",
    "\t\t\tloss += loss_fn(pred_reward, reward)\n",
    "\n",
    "\t\toptimizer.zero_grad()\n",
    "\t\tloss.backward()\n",
    "\t\toptimizer.step()\n",
    "\n",
    "\t\tlosses.append(loss.item())\n",
    "\t\tif (itr+1) % log_interval == 0:\n",
    "\t\t\tprint(f'[{itr+1} / {n_iter}] RPM loss: {loss.item()}')\n",
    "\n",
    "\treturn losses"
   ]
  },
  {
   "cell_type": "code",
   "execution_count": 18,
   "metadata": {},
   "outputs": [
    {
     "name": "stdout",
     "output_type": "stream",
     "text": [
      "[INFO] Train RPM with ['vertical_position'] reward on device: cuda ...\n"
     ]
    },
    {
     "name": "stderr",
     "output_type": "stream",
     "text": [
      " 25%|██▌       | 508/2000 [00:09<00:28, 52.25it/s]"
     ]
    },
    {
     "name": "stdout",
     "output_type": "stream",
     "text": [
      "[500 / 2000] RPM loss: 0.0891660824418068\n"
     ]
    },
    {
     "name": "stderr",
     "output_type": "stream",
     "text": [
      " 50%|█████     | 1007/2000 [00:19<00:21, 47.00it/s]"
     ]
    },
    {
     "name": "stdout",
     "output_type": "stream",
     "text": [
      "[1000 / 2000] RPM loss: 9.386863530380651e-05\n"
     ]
    },
    {
     "name": "stderr",
     "output_type": "stream",
     "text": [
      " 75%|███████▌  | 1504/2000 [00:28<00:09, 50.88it/s]"
     ]
    },
    {
     "name": "stdout",
     "output_type": "stream",
     "text": [
      "[1500 / 2000] RPM loss: 6.195167952682823e-05\n"
     ]
    },
    {
     "name": "stderr",
     "output_type": "stream",
     "text": [
      "100%|██████████| 2000/2000 [00:37<00:00, 52.81it/s]"
     ]
    },
    {
     "name": "stdout",
     "output_type": "stream",
     "text": [
      "[2000 / 2000] RPM loss: 0.0006637921906076372\n"
     ]
    },
    {
     "name": "stderr",
     "output_type": "stream",
     "text": [
      "\n"
     ]
    }
   ],
   "source": [
    "losses = train_RPM_single_reward(model_vertical, generator, device, ['vertical_position'])"
   ]
  },
  {
   "cell_type": "code",
   "execution_count": 19,
   "metadata": {},
   "outputs": [
    {
     "data": {
      "image/png": "[encoded data removed]",
      "text/plain": [
       "<Figure size 640x480 with 1 Axes>"
      ]
     },
     "metadata": {},
     "output_type": "display_data"
    }
   ],
   "source": [
    "# Visualize the losses\n",
    "plt.plot(losses, label='RPM loss')\n",
    "\n",
    "plt.xlabel('Iteration')\n",
    "plt.ylabel('Loss')\n",
    "plt.title('VertPosReward RPM loss')\n",
    "plt.legend()\n",
    "plt.show()"
   ]
  },
  {
   "cell_type": "markdown",
   "metadata": {},
   "source": [
    "## Decode horizontal reward-induced representations with ImageDecoder"
   ]
  },
  {
   "cell_type": "code",
   "execution_count": 20,
   "metadata": {},
   "outputs": [
    {
     "name": "stdout",
     "output_type": "stream",
     "text": [
      "[INFO] Train decoder on device: cuda ...\n"
     ]
    },
    {
     "name": "stderr",
     "output_type": "stream",
     "text": [
      " 26%|██▌       | 511/2000 [00:08<00:25, 59.44it/s]"
     ]
    },
    {
     "name": "stdout",
     "output_type": "stream",
     "text": [
      "[500 / 2000] Reproduction loss: 0.24412338435649872\n"
     ]
    },
    {
     "name": "stderr",
     "output_type": "stream",
     "text": [
      " 50%|█████     | 1006/2000 [00:16<00:16, 59.66it/s]"
     ]
    },
    {
     "name": "stdout",
     "output_type": "stream",
     "text": [
      "[1000 / 2000] Reproduction loss: 0.18649958074092865\n"
     ]
    },
    {
     "name": "stderr",
     "output_type": "stream",
     "text": [
      " 75%|███████▌  | 1508/2000 [00:25<00:08, 60.40it/s]"
     ]
    },
    {
     "name": "stdout",
     "output_type": "stream",
     "text": [
      "[1500 / 2000] Reproduction loss: 0.21837450563907623\n"
     ]
    },
    {
     "name": "stderr",
     "output_type": "stream",
     "text": [
      "100%|██████████| 2000/2000 [00:33<00:00, 59.50it/s]"
     ]
    },
    {
     "name": "stdout",
     "output_type": "stream",
     "text": [
      "[2000 / 2000] Reproduction loss: 0.19765658676624298\n"
     ]
    },
    {
     "name": "stderr",
     "output_type": "stream",
     "text": [
      "\n"
     ]
    }
   ],
   "source": [
    "losses_decoder = train_decoder(model_vertical, decoder_vertical, dataset, device, n_iter)"
   ]
  },
  {
   "cell_type": "code",
   "execution_count": 21,
   "metadata": {},
   "outputs": [
    {
     "data": {
      "image/png": "[encoded data removed]",
      "text/plain": [
       "<Figure size 640x480 with 1 Axes>"
      ]
     },
     "metadata": {},
     "output_type": "display_data"
    }
   ],
   "source": [
    "# Visualize the losses\n",
    "plt.plot(losses_decoder, label='Original loss')\n",
    "plt.xlabel('Iteration')\n",
    "plt.ylabel('Loss')\n",
    "plt.title('Decoder training loss')\n",
    "plt.legend()\n",
    "plt.show()"
   ]
  },
  {
   "cell_type": "code",
   "execution_count": 22,
   "metadata": {},
   "outputs": [],
   "source": [
    "DECODER_PATH = 'models/vertical_decoder_tanh_2K.pth'\n",
    "torch.save(decoder_vertical.state_dict(), DECODER_PATH)"
   ]
  },
  {
   "cell_type": "markdown",
   "metadata": {},
   "source": [
    "## Test Vertical Position Reward finetuned RPM with detached decoder"
   ]
  },
  {
   "cell_type": "code",
   "execution_count": 23,
   "metadata": {},
   "outputs": [
    {
     "data": {
      "text/plain": [
       "True"
      ]
     },
     "execution_count": 23,
     "metadata": {},
     "output_type": "execute_result"
    }
   ],
   "source": [
    "# Save original image\n",
    "output = generator.gen_trajectory()\n",
    "original_images = make_image_seq_strip([output['images'][None, :, None].repeat(3, axis=2).astype(np.float32)], \\\n",
    "                              sep_val=255.0).astype(np.uint8)\n",
    "cv2.imwrite('imgs/vertical_original_image.png', original_images[0].transpose(1, 2, 0))"
   ]
  },
  {
   "cell_type": "code",
   "execution_count": 26,
   "metadata": {},
   "outputs": [
    {
     "name": "stdout",
     "output_type": "stream",
     "text": [
      "decoded images shape: (30, 3, 64, 64), max: 154.10586547851562, min: 0.34118369221687317\n"
     ]
    },
    {
     "data": {
      "text/plain": [
       "True"
      ]
     },
     "execution_count": 26,
     "metadata": {},
     "output_type": "execute_result"
    }
   ],
   "source": [
    "images = output['images'][:, None].repeat(3, axis=1).astype(np.float32) / (255./2) - 1.0\n",
    "images = torch.tensor(images).to(device)\n",
    "\n",
    "decoder_vertical.to(device).eval()\n",
    "\n",
    "with torch.no_grad():\n",
    "    encoded_repr = model_vertical.image_encoder(images)\n",
    "    decoded_images = decoder_vertical(encoded_repr)\n",
    "\n",
    "decoded_images = (decoded_images.cpu().numpy() + 1) * (255./2)\n",
    "print(f'decoded images shape: {decoded_images.shape}, max: {decoded_images.max()}, min: {decoded_images.min()}')\n",
    "\n",
    "decoded_images = make_image_seq_strip([decoded_images[None, :].astype(np.float32)], sep_val=255.0).astype(np.uint8)\n",
    "cv2.imwrite('imgs/vertical_decoded.png', decoded_images[0].transpose(1, 2, 0))"
   ]
  },
  {
   "cell_type": "markdown",
   "metadata": {},
   "source": [
    "## [TEMP] Test decoder trainer with complete RPM"
   ]
  },
  {
   "cell_type": "code",
   "execution_count": 28,
   "metadata": {},
   "outputs": [],
   "source": [
    "model = RewardPredictorModel(image_shape, n_frames, T_future).to(device)\n",
    "model.load_state_dict(torch.load('models/complete_RPM_1e-3_1M.pth'))\n",
    "\n",
    "decoder = ImageDecoder(image_shape).to(device)"
   ]
  },
  {
   "cell_type": "code",
   "execution_count": 29,
   "metadata": {},
   "outputs": [
    {
     "name": "stdout",
     "output_type": "stream",
     "text": [
      "[INFO] Train decoder on device: cuda ...\n"
     ]
    },
    {
     "name": "stderr",
     "output_type": "stream",
     "text": [
      " 26%|██▌       | 510/2000 [00:07<00:20, 70.95it/s]"
     ]
    },
    {
     "name": "stdout",
     "output_type": "stream",
     "text": [
      "[500 / 2000] Reproduction loss: 0.24408870935440063\n"
     ]
    },
    {
     "name": "stderr",
     "output_type": "stream",
     "text": [
      " 51%|█████     | 1011/2000 [00:15<00:14, 68.50it/s]"
     ]
    },
    {
     "name": "stdout",
     "output_type": "stream",
     "text": [
      "[1000 / 2000] Reproduction loss: 0.22931459546089172\n"
     ]
    },
    {
     "name": "stderr",
     "output_type": "stream",
     "text": [
      " 75%|███████▌  | 1509/2000 [00:23<00:10, 45.45it/s]"
     ]
    },
    {
     "name": "stdout",
     "output_type": "stream",
     "text": [
      "[1500 / 2000] Reproduction loss: 0.17368416488170624\n"
     ]
    },
    {
     "name": "stderr",
     "output_type": "stream",
     "text": [
      "100%|██████████| 2000/2000 [00:31<00:00, 63.64it/s]"
     ]
    },
    {
     "name": "stdout",
     "output_type": "stream",
     "text": [
      "[2000 / 2000] Reproduction loss: 0.16984038054943085\n"
     ]
    },
    {
     "name": "stderr",
     "output_type": "stream",
     "text": [
      "\n"
     ]
    }
   ],
   "source": [
    "losses = train_decoder(model, decoder, dataset, device, n_iter)"
   ]
  },
  {
   "cell_type": "code",
   "execution_count": 30,
   "metadata": {},
   "outputs": [
    {
     "name": "stdout",
     "output_type": "stream",
     "text": [
      "decoded images shape: (30, 3, 64, 64), max: 115.50359344482422, min: 0.0\n"
     ]
    },
    {
     "data": {
      "text/plain": [
       "True"
      ]
     },
     "execution_count": 30,
     "metadata": {},
     "output_type": "execute_result"
    }
   ],
   "source": [
    "output = generator.gen_trajectory()\n",
    "images = output['images'][:, None].repeat(3, axis=1).astype(np.float32) / (255./2) - 1.0\n",
    "images = torch.tensor(images).to(device)\n",
    "\n",
    "decoder.to(device).eval()\n",
    "\n",
    "with torch.no_grad():\n",
    "    encoded_repr = model.image_encoder(images)\n",
    "    decoded_images = decoder(encoded_repr)\n",
    "\n",
    "decoded_images = (decoded_images.cpu().numpy() + 1) * (255./2)\n",
    "print(f'decoded images shape: {decoded_images.shape}, max: {decoded_images.max()}, min: {decoded_images.min()}')\n",
    "\n",
    "decoded_images = make_image_seq_strip([decoded_images[None, :].astype(np.float32)], sep_val=255.0).astype(np.uint8)\n",
    "cv2.imwrite('imgs/complete_decoded.png', decoded_images[0].transpose(1, 2, 0))"
   ]
  },
  {
   "cell_type": "markdown",
   "metadata": {},
   "source": [
    "### Decode horizontal reward-induced representations with ImageDecoder"
   ]
  },
  {
   "cell_type": "code",
   "execution_count": null,
   "metadata": {},
   "outputs": [],
   "source": []
  }
 ],
 "metadata": {
  "kernelspec": {
   "display_name": "2024Spring",
   "language": "python",
   "name": "python3"
  },
  "language_info": {
   "codemirror_mode": {
    "name": "ipython",
    "version": 3
   },
   "file_extension": ".py",
   "mimetype": "text/x-python",
   "name": "python",
   "nbconvert_exporter": "python",
   "pygments_lexer": "ipython3",
   "version": "3.10.14"
  }
 },
 "nbformat": 4,
 "nbformat_minor": 2
}
