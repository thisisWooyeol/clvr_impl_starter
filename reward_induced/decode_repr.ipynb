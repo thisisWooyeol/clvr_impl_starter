{
 "cells": [
  {
   "cell_type": "code",
   "execution_count": 1,
   "metadata": {},
   "outputs": [],
   "source": [
    "import os\n",
    "import sys\n",
    "nb_dir = os.path.split(os.getcwd())[0]\n",
    "if nb_dir not in sys.path:\n",
    "\tsys.path.append(nb_dir)"
   ]
  },
  {
   "cell_type": "code",
   "execution_count": 2,
   "metadata": {},
   "outputs": [
    {
     "name": "stderr",
     "output_type": "stream",
     "text": [
      "/home/thisiswooyeol/anaconda3/envs/2024Spring/lib/python3.10/site-packages/tqdm/auto.py:21: TqdmWarning: IProgress not found. Please update jupyter and ipywidgets. See https://ipywidgets.readthedocs.io/en/stable/user_install.html\n",
      "  from .autonotebook import tqdm as notebook_tqdm\n"
     ]
    }
   ],
   "source": [
    "import torch\n",
    "import torch.nn as nn\n",
    "from torch.optim.radam import RAdam\n",
    "\n",
    "from general_utils import AttrDict\n",
    "from reward_induced.models.reward_predictor_model import RewardPredictorModel\n",
    "from reward_induced.models.decoder import ImageDecoder\n",
    "from reward_induced.utils import *\n",
    "from sprites_datagen.moving_sprites import MovingSpriteDataset, TemplateMovingSpritesGenerator\n",
    "from sprites_datagen.rewards import *\n",
    "\n",
    "from tqdm import trange\n",
    "import matplotlib.pyplot as plt"
   ]
  },
  {
   "cell_type": "code",
   "execution_count": 3,
   "metadata": {},
   "outputs": [],
   "source": [
    "spec = AttrDict(\n",
    "        resolution=64,\n",
    "        max_seq_len=30,\n",
    "        max_speed=0.05,      # total image range [0, 1]\n",
    "        obj_size=0.2,       # size of objects, full images is 1.0\n",
    "        shapes_per_traj=4,      # number of shapes per trajectory\n",
    "        rewards=[ZeroReward],\n",
    "    )\n",
    "\n",
    "dataset = MovingSpriteDataset(spec)"
   ]
  },
  {
   "cell_type": "code",
   "execution_count": 4,
   "metadata": {},
   "outputs": [],
   "source": [
    "# some hyperparameters\n",
    "image_shape = (3, 64, 64)\n",
    "n_frames = 20  # number of conditioning frames\n",
    "T_future = 10  # number of future frames to predict rewards for\n",
    "batch_size = 32\n",
    "\n",
    "lr = 1e-3\n",
    "n_iter = 2_000\n",
    "log_interval = 200\n",
    "\n",
    "device = torch.device('cuda' if torch.cuda.is_available() else 'cpu')"
   ]
  },
  {
   "cell_type": "markdown",
   "metadata": {},
   "source": [
    "# Train an ImageDecoder from complete images to reward-induced representation"
   ]
  },
  {
   "cell_type": "code",
   "execution_count": 5,
   "metadata": {},
   "outputs": [],
   "source": [
    "RPM_PATH = 'complete_RPM_1e-3_1M.pth'\n",
    "\n",
    "model = RewardPredictorModel(image_shape, n_frames, T_future)\n",
    "model.load_state_dict(torch.load(RPM_PATH))\n",
    "\n",
    "# with learned image encoder, decode reward-induced representations\n",
    "encoder = model.image_encoder\n",
    "decoder = ImageDecoder(image_shape)"
   ]
  },
  {
   "cell_type": "code",
   "execution_count": 6,
   "metadata": {},
   "outputs": [],
   "source": [
    "loss_fn = nn.MSELoss()\n",
    "optimizer = RAdam(decoder.parameters(), lr=lr)"
   ]
  },
  {
   "cell_type": "code",
   "execution_count": 7,
   "metadata": {},
   "outputs": [],
   "source": [
    "def train_decoder(encoder, decoder, dataset, device, n_iter):\n",
    "    # decoder should restore the original image from the reward-induced representation\n",
    "    losses = []\n",
    "    encoder.to(device).eval()\n",
    "    decoder.to(device)\n",
    "    print(f'[INFO] Train decoder on device: {device} ...')\n",
    "\n",
    "    for itr in trange(n_iter):\n",
    "        images, _ = generate_batch(dataset, batch_size, itr)\n",
    "        images = images.to(device)\n",
    "\t\t\n",
    "        # encode the images\n",
    "        with torch.no_grad():\n",
    "            encoded_repr = encoder(images).detach() \n",
    "        \n",
    "        # decode the images\n",
    "        decoded_images = decoder(encoded_repr)\n",
    "\n",
    "        loss = loss_fn(decoded_images, images)\n",
    "\n",
    "        optimizer.zero_grad()\n",
    "        loss.backward()\n",
    "        optimizer.step()\n",
    "        \n",
    "        losses.append(loss.item())\n",
    "        if (itr+1) % log_interval == 0:\n",
    "            print(f'[{itr+1} / {n_iter}] Reproduction loss: {loss.item()}')\n",
    "\n",
    "    return losses"
   ]
  },
  {
   "cell_type": "code",
   "execution_count": 8,
   "metadata": {},
   "outputs": [
    {
     "name": "stdout",
     "output_type": "stream",
     "text": [
      "[INFO] Train decoder on device: cuda ...\n"
     ]
    },
    {
     "name": "stderr",
     "output_type": "stream",
     "text": [
      " 10%|█         | 200/2000 [00:50<07:06,  4.22it/s]"
     ]
    },
    {
     "name": "stdout",
     "output_type": "stream",
     "text": [
      "[200 / 2000] Reproduction loss: 0.41431140899658203\n"
     ]
    },
    {
     "name": "stderr",
     "output_type": "stream",
     "text": [
      " 20%|██        | 400/2000 [01:40<06:26,  4.14it/s]"
     ]
    },
    {
     "name": "stdout",
     "output_type": "stream",
     "text": [
      "[400 / 2000] Reproduction loss: 0.2260720431804657\n"
     ]
    },
    {
     "name": "stderr",
     "output_type": "stream",
     "text": [
      " 30%|███       | 600/2000 [02:30<05:34,  4.18it/s]"
     ]
    },
    {
     "name": "stdout",
     "output_type": "stream",
     "text": [
      "[600 / 2000] Reproduction loss: 0.19049830734729767\n"
     ]
    },
    {
     "name": "stderr",
     "output_type": "stream",
     "text": [
      " 40%|████      | 800/2000 [03:19<04:43,  4.24it/s]"
     ]
    },
    {
     "name": "stdout",
     "output_type": "stream",
     "text": [
      "[800 / 2000] Reproduction loss: 0.16843678057193756\n"
     ]
    },
    {
     "name": "stderr",
     "output_type": "stream",
     "text": [
      " 50%|█████     | 1000/2000 [04:13<06:01,  2.77it/s]"
     ]
    },
    {
     "name": "stdout",
     "output_type": "stream",
     "text": [
      "[1000 / 2000] Reproduction loss: 0.15773186087608337\n"
     ]
    },
    {
     "name": "stderr",
     "output_type": "stream",
     "text": [
      " 60%|██████    | 1200/2000 [05:06<04:47,  2.78it/s]"
     ]
    },
    {
     "name": "stdout",
     "output_type": "stream",
     "text": [
      "[1200 / 2000] Reproduction loss: 0.15590742230415344\n"
     ]
    },
    {
     "name": "stderr",
     "output_type": "stream",
     "text": [
      " 70%|███████   | 1400/2000 [06:00<02:30,  3.99it/s]"
     ]
    },
    {
     "name": "stdout",
     "output_type": "stream",
     "text": [
      "[1400 / 2000] Reproduction loss: 0.14920860528945923\n"
     ]
    },
    {
     "name": "stderr",
     "output_type": "stream",
     "text": [
      " 80%|████████  | 1600/2000 [06:50<01:40,  3.98it/s]"
     ]
    },
    {
     "name": "stdout",
     "output_type": "stream",
     "text": [
      "[1600 / 2000] Reproduction loss: 0.14713716506958008\n"
     ]
    },
    {
     "name": "stderr",
     "output_type": "stream",
     "text": [
      " 90%|█████████ | 1800/2000 [07:39<00:52,  3.82it/s]"
     ]
    },
    {
     "name": "stdout",
     "output_type": "stream",
     "text": [
      "[1800 / 2000] Reproduction loss: 0.1418384611606598\n"
     ]
    },
    {
     "name": "stderr",
     "output_type": "stream",
     "text": [
      "100%|██████████| 2000/2000 [08:28<00:00,  3.93it/s]"
     ]
    },
    {
     "name": "stdout",
     "output_type": "stream",
     "text": [
      "[2000 / 2000] Reproduction loss: 0.13966138660907745\n"
     ]
    },
    {
     "name": "stderr",
     "output_type": "stream",
     "text": [
      "\n"
     ]
    }
   ],
   "source": [
    "losses_decoder = train_decoder(encoder, decoder, dataset, device, n_iter)"
   ]
  },
  {
   "cell_type": "code",
   "execution_count": 9,
   "metadata": {},
   "outputs": [
    {
     "data": {
      "image/png": "[encoded data removed]",
      "text/plain": [
       "<Figure size 640x480 with 1 Axes>"
      ]
     },
     "metadata": {},
     "output_type": "display_data"
    }
   ],
   "source": [
    "# Visualize the losses\n",
    "plt.plot(losses_decoder, label='Original loss')\n",
    "plt.xlabel('Iteration')\n",
    "plt.ylabel('Loss')\n",
    "plt.title('Decoder training loss')\n",
    "plt.legend()\n",
    "plt.show()"
   ]
  },
  {
   "cell_type": "code",
   "execution_count": 10,
   "metadata": {},
   "outputs": [],
   "source": [
    "DECODER_PATH = 'complete_decoder_tanh_4K.pth'\n",
    "torch.save(decoder.state_dict(), DECODER_PATH)"
   ]
  },
  {
   "cell_type": "code",
   "execution_count": 11,
   "metadata": {},
   "outputs": [
    {
     "data": {
      "text/plain": [
       "<All keys matched successfully>"
      ]
     },
     "execution_count": 11,
     "metadata": {},
     "output_type": "execute_result"
    }
   ],
   "source": [
    "decoder = ImageDecoder(image_shape)\n",
    "decoder.load_state_dict(torch.load(DECODER_PATH))  # test save and load"
   ]
  },
  {
   "cell_type": "markdown",
   "metadata": {},
   "source": [
    "# Decode the reward-induced representation"
   ]
  },
  {
   "cell_type": "code",
   "execution_count": 12,
   "metadata": {},
   "outputs": [],
   "source": [
    "spec = AttrDict(\n",
    "        resolution=64,\n",
    "        max_seq_len=30,\n",
    "        max_speed=0.05,      # total image range [0, 1]\n",
    "        obj_size=0.2,       # size of objects, full images is 1.0\n",
    "        shapes_per_traj=1,      # number of shapes per trajectory\n",
    "        rewards=[VertPosReward, HorPosReward],\n",
    "    )\n",
    "\n",
    "generator = TemplateMovingSpritesGenerator(spec)\n",
    "generator.SHAPES = ['tri_bottom']"
   ]
  },
  {
   "cell_type": "code",
   "execution_count": 13,
   "metadata": {},
   "outputs": [
    {
     "name": "stdout",
     "output_type": "stream",
     "text": [
      "(30, 64, 64)\n",
      "{'vertical_position': array([0.6523922 , 0.70016897, 0.7479458 , 0.7957226 , 0.8434994 ,\n",
      "       0.89127624, 0.86094695, 0.8131702 , 0.7653934 , 0.71761656,\n",
      "       0.66983974, 0.6220629 , 0.57428616, 0.52650934, 0.47873253,\n",
      "       0.4309557 , 0.38317892, 0.3354021 , 0.28762528, 0.2398485 ,\n",
      "       0.19207168, 0.14429487, 0.10348193, 0.15125874, 0.19903554,\n",
      "       0.24681234, 0.29458916, 0.34236595, 0.39014277, 0.4379196 ],\n",
      "      dtype=float32), 'horizontal_position': array([0.4887402 , 0.49825358, 0.50776696, 0.51728034, 0.5267937 ,\n",
      "       0.5363071 , 0.5458205 , 0.55533385, 0.56484723, 0.57436055,\n",
      "       0.5838739 , 0.5933873 , 0.6029007 , 0.61241406, 0.62192744,\n",
      "       0.6314408 , 0.6409542 , 0.6504676 , 0.65998095, 0.66949433,\n",
      "       0.6790077 , 0.6885211 , 0.69803447, 0.70754784, 0.7170612 ,\n",
      "       0.7265746 , 0.736088  , 0.74560136, 0.75511473, 0.7646281 ],\n",
      "      dtype=float32)}\n",
      "{'vertical_position': array([0.6523922 , 0.70016897, 0.7479458 , 0.7957226 , 0.8434994 ,\n",
      "       0.89127624, 0.86094695, 0.8131702 , 0.7653934 , 0.71761656,\n",
      "       0.66983974, 0.6220629 , 0.57428616, 0.52650934, 0.47873253,\n",
      "       0.4309557 , 0.38317892, 0.3354021 , 0.28762528, 0.2398485 ,\n",
      "       0.19207168, 0.14429487, 0.10348193, 0.15125874, 0.19903554,\n",
      "       0.24681234, 0.29458916, 0.34236595, 0.39014277, 0.4379196 ],\n",
      "      dtype=float32), 'horizontal_position': array([0.4887402 , 0.49825358, 0.50776696, 0.51728034, 0.5267937 ,\n",
      "       0.5363071 , 0.5458205 , 0.55533385, 0.56484723, 0.57436055,\n",
      "       0.5838739 , 0.5933873 , 0.6029007 , 0.61241406, 0.62192744,\n",
      "       0.6314408 , 0.6409542 , 0.6504676 , 0.65998095, 0.66949433,\n",
      "       0.6790077 , 0.6885211 , 0.69803447, 0.70754784, 0.7170612 ,\n",
      "       0.7265746 , 0.736088  , 0.74560136, 0.75511473, 0.7646281 ],\n",
      "      dtype=float32)}\n"
     ]
    }
   ],
   "source": [
    "from general_utils import make_image_seq_strip\n",
    "import cv2\n",
    "\n",
    "output = generator.gen_trajectory()\n",
    "images = make_image_seq_strip([output['images'][None, :, None].repeat(3, axis=2).astype(np.float32)], \\\n",
    "                              sep_val=255.0).astype(np.uint8)\n",
    "\n",
    "print(output['images'].shape)\n",
    "cv2.imwrite('one_distractor.png', images[0].transpose(1, 2, 0))\n",
    "\n",
    "print(output['rewards'])"
   ]
  },
  {
   "cell_type": "markdown",
   "metadata": {},
   "source": [
    "### Decode vertical reward-induced representations with ImageDecoder"
   ]
  },
  {
   "cell_type": "code",
   "execution_count": 14,
   "metadata": {},
   "outputs": [
    {
     "data": {
      "text/plain": [
       "<All keys matched successfully>"
      ]
     },
     "execution_count": 14,
     "metadata": {},
     "output_type": "execute_result"
    }
   ],
   "source": [
    "model_vertical = RewardPredictorModel(image_shape, n_frames, T_future)\n",
    "model_vertical.load_state_dict(torch.load(RPM_PATH))\n",
    "\n",
    "decoder_vertical = ImageDecoder(image_shape)\n",
    "decoder_vertical.load_state_dict(torch.load(DECODER_PATH))"
   ]
  },
  {
   "cell_type": "code",
   "execution_count": 15,
   "metadata": {},
   "outputs": [
    {
     "data": {
      "text/plain": [
       "torch.Size([3, 30, 3, 64, 64])"
      ]
     },
     "execution_count": 15,
     "metadata": {},
     "output_type": "execute_result"
    }
   ],
   "source": [
    "images, rewards = generate_batch_gen(generator, 3)\n",
    "\n",
    "images.shape"
   ]
  },
  {
   "cell_type": "code",
   "execution_count": 16,
   "metadata": {},
   "outputs": [],
   "source": [
    "loss_fn = nn.MSELoss()\n",
    "optimizer = RAdam(model_vertical.parameters(), lr=5e-4)  # lr / 2"
   ]
  },
  {
   "cell_type": "code",
   "execution_count": 17,
   "metadata": {},
   "outputs": [],
   "source": [
    "def finetune_RPM_single_reward(model, generator, loss_fn, optimizer, device, reward_type):\n",
    "\tlosses = []\n",
    "\tmodel.to(device)\n",
    "\tprint(f'[INFO] Finetune RPM with {reward_type} reward on device: {device} ...')\n",
    "\n",
    "\tfor itr in trange(n_iter):\n",
    "\t\timages, rewards = generate_batch_gen(generator, batch_size)\n",
    "\t\t\n",
    "\t\t# assume n_frames + T_future == len(images)\n",
    "\t\tpred_rewards = model(  # add batch dimension for images\n",
    "\t\t\tconditioning_frames=images[:, :n_frames].to(device), \n",
    "\t\t\tfuture_frames=images[:, n_frames:].to(device),\n",
    "\t\t\treward_type=reward_type\n",
    "\t\t)\n",
    "\n",
    "\t\tloss = 0\n",
    "\t\tfor reward_type, pred_reward in pred_rewards.items():\n",
    "\t\t\treward = torch.tensor(rewards[reward_type][:, n_frames:], \n",
    "\t\t\t\t\t\t dtype=torch.float32, device=device)\n",
    "\t\t\tloss += loss_fn(pred_reward, reward)\n",
    "\n",
    "\t\toptimizer.zero_grad()\n",
    "\t\tloss.backward()\n",
    "\t\toptimizer.step()\n",
    "\n",
    "\t\tlosses.append(loss.item())\n",
    "\t\tif (itr+1) % log_interval == 0:\n",
    "\t\t\tprint(f'[{itr+1} / {n_iter}] RPM loss: {loss.item()}')\n",
    "\n",
    "\treturn losses"
   ]
  },
  {
   "cell_type": "code",
   "execution_count": 20,
   "metadata": {},
   "outputs": [
    {
     "name": "stdout",
     "output_type": "stream",
     "text": [
      "[INFO] Finetune RPM with ['vertical_position'] reward on device: cuda ...\n"
     ]
    },
    {
     "name": "stderr",
     "output_type": "stream",
     "text": [
      "  0%|          | 1/2000 [00:00<19:55,  1.67it/s]\n"
     ]
    },
    {
     "ename": "AssertionError",
     "evalue": "",
     "output_type": "error",
     "traceback": [
      "\u001b[0;31m---------------------------------------------------------------------------\u001b[0m",
      "\u001b[0;31mAssertionError\u001b[0m                            Traceback (most recent call last)",
      "Cell \u001b[0;32mIn[20], line 1\u001b[0m\n\u001b[0;32m----> 1\u001b[0m \u001b[43mfinetune_RPM_single_reward\u001b[49m\u001b[43m(\u001b[49m\u001b[43mmodel_vertical\u001b[49m\u001b[43m,\u001b[49m\u001b[43m \u001b[49m\u001b[43mgenerator\u001b[49m\u001b[43m,\u001b[49m\u001b[43m \u001b[49m\u001b[43mloss_fn\u001b[49m\u001b[43m,\u001b[49m\u001b[43m \u001b[49m\u001b[43moptimizer\u001b[49m\u001b[43m,\u001b[49m\u001b[43m \u001b[49m\u001b[43mdevice\u001b[49m\u001b[43m,\u001b[49m\u001b[43m \u001b[49m\u001b[43m[\u001b[49m\u001b[38;5;124;43m'\u001b[39;49m\u001b[38;5;124;43mvertical_position\u001b[39;49m\u001b[38;5;124;43m'\u001b[39;49m\u001b[43m]\u001b[49m\u001b[43m)\u001b[49m\n",
      "Cell \u001b[0;32mIn[17], line 10\u001b[0m, in \u001b[0;36mfinetune_RPM_single_reward\u001b[0;34m(model, generator, loss_fn, optimizer, device, reward_type)\u001b[0m\n\u001b[1;32m      7\u001b[0m images, rewards \u001b[38;5;241m=\u001b[39m generate_batch_gen(generator, batch_size)\n\u001b[1;32m      9\u001b[0m \u001b[38;5;66;03m# assume n_frames + T_future == len(images)\u001b[39;00m\n\u001b[0;32m---> 10\u001b[0m pred_rewards \u001b[38;5;241m=\u001b[39m \u001b[43mmodel\u001b[49m\u001b[43m(\u001b[49m\u001b[43m  \u001b[49m\u001b[38;5;66;43;03m# add batch dimension for images\u001b[39;49;00m\n\u001b[1;32m     11\u001b[0m \u001b[43m\t\u001b[49m\u001b[43mconditioning_frames\u001b[49m\u001b[38;5;241;43m=\u001b[39;49m\u001b[43mimages\u001b[49m\u001b[43m[\u001b[49m\u001b[43m:\u001b[49m\u001b[43m,\u001b[49m\u001b[43m \u001b[49m\u001b[43m:\u001b[49m\u001b[43mn_frames\u001b[49m\u001b[43m]\u001b[49m\u001b[38;5;241;43m.\u001b[39;49m\u001b[43mto\u001b[49m\u001b[43m(\u001b[49m\u001b[43mdevice\u001b[49m\u001b[43m)\u001b[49m\u001b[43m,\u001b[49m\u001b[43m \u001b[49m\n\u001b[1;32m     12\u001b[0m \u001b[43m\t\u001b[49m\u001b[43mfuture_frames\u001b[49m\u001b[38;5;241;43m=\u001b[39;49m\u001b[43mimages\u001b[49m\u001b[43m[\u001b[49m\u001b[43m:\u001b[49m\u001b[43m,\u001b[49m\u001b[43m \u001b[49m\u001b[43mn_frames\u001b[49m\u001b[43m:\u001b[49m\u001b[43m]\u001b[49m\u001b[38;5;241;43m.\u001b[39;49m\u001b[43mto\u001b[49m\u001b[43m(\u001b[49m\u001b[43mdevice\u001b[49m\u001b[43m)\u001b[49m\u001b[43m,\u001b[49m\n\u001b[1;32m     13\u001b[0m \u001b[43m\t\u001b[49m\u001b[43mreward_type\u001b[49m\u001b[38;5;241;43m=\u001b[39;49m\u001b[43mreward_type\u001b[49m\n\u001b[1;32m     14\u001b[0m \u001b[43m\u001b[49m\u001b[43m)\u001b[49m\n\u001b[1;32m     16\u001b[0m loss \u001b[38;5;241m=\u001b[39m \u001b[38;5;241m0\u001b[39m\n\u001b[1;32m     17\u001b[0m \u001b[38;5;28;01mfor\u001b[39;00m reward_type, pred_reward \u001b[38;5;129;01min\u001b[39;00m pred_rewards\u001b[38;5;241m.\u001b[39mitems():\n",
      "File \u001b[0;32m~/anaconda3/envs/2024Spring/lib/python3.10/site-packages/torch/nn/modules/module.py:1110\u001b[0m, in \u001b[0;36mModule._call_impl\u001b[0;34m(self, *input, **kwargs)\u001b[0m\n\u001b[1;32m   1106\u001b[0m \u001b[38;5;66;03m# If we don't have any hooks, we want to skip the rest of the logic in\u001b[39;00m\n\u001b[1;32m   1107\u001b[0m \u001b[38;5;66;03m# this function, and just call forward.\u001b[39;00m\n\u001b[1;32m   1108\u001b[0m \u001b[38;5;28;01mif\u001b[39;00m \u001b[38;5;129;01mnot\u001b[39;00m (\u001b[38;5;28mself\u001b[39m\u001b[38;5;241m.\u001b[39m_backward_hooks \u001b[38;5;129;01mor\u001b[39;00m \u001b[38;5;28mself\u001b[39m\u001b[38;5;241m.\u001b[39m_forward_hooks \u001b[38;5;129;01mor\u001b[39;00m \u001b[38;5;28mself\u001b[39m\u001b[38;5;241m.\u001b[39m_forward_pre_hooks \u001b[38;5;129;01mor\u001b[39;00m _global_backward_hooks\n\u001b[1;32m   1109\u001b[0m         \u001b[38;5;129;01mor\u001b[39;00m _global_forward_hooks \u001b[38;5;129;01mor\u001b[39;00m _global_forward_pre_hooks):\n\u001b[0;32m-> 1110\u001b[0m     \u001b[38;5;28;01mreturn\u001b[39;00m \u001b[43mforward_call\u001b[49m\u001b[43m(\u001b[49m\u001b[38;5;241;43m*\u001b[39;49m\u001b[38;5;28;43minput\u001b[39;49m\u001b[43m,\u001b[49m\u001b[43m \u001b[49m\u001b[38;5;241;43m*\u001b[39;49m\u001b[38;5;241;43m*\u001b[39;49m\u001b[43mkwargs\u001b[49m\u001b[43m)\u001b[49m\n\u001b[1;32m   1111\u001b[0m \u001b[38;5;66;03m# Do not call functions when jit is used\u001b[39;00m\n\u001b[1;32m   1112\u001b[0m full_backward_hooks, non_full_backward_hooks \u001b[38;5;241m=\u001b[39m [], []\n",
      "File \u001b[0;32m~/PycharmProjects/clvr_impl_starter/reward_induced/models/reward_predictor_model.py:36\u001b[0m, in \u001b[0;36mRewardPredictorModel.forward\u001b[0;34m(self, conditioning_frames, future_frames, reward_type)\u001b[0m\n\u001b[1;32m     34\u001b[0m     reward_type \u001b[38;5;241m=\u001b[39m R_CLASSES_BASE\n\u001b[1;32m     35\u001b[0m \u001b[38;5;28;01melse\u001b[39;00m :\n\u001b[0;32m---> 36\u001b[0m     \u001b[38;5;28;01massert\u001b[39;00m \u001b[38;5;28mall\u001b[39m(r \u001b[38;5;129;01min\u001b[39;00m R_CLASSES_ALL \u001b[38;5;28;01mfor\u001b[39;00m r \u001b[38;5;129;01min\u001b[39;00m reward_type)\n\u001b[1;32m     38\u001b[0m \u001b[38;5;66;03m# encode each frame\u001b[39;00m\n\u001b[1;32m     39\u001b[0m cond_features \u001b[38;5;241m=\u001b[39m \u001b[38;5;28mself\u001b[39m\u001b[38;5;241m.\u001b[39mimage_encoder(conditioning_frames)\n",
      "\u001b[0;31mAssertionError\u001b[0m: "
     ]
    }
   ],
   "source": [
    "finetune_RPM_single_reward(model_vertical, generator, loss_fn, optimizer, device, ['vertical_position'])"
   ]
  },
  {
   "cell_type": "code",
   "execution_count": null,
   "metadata": {},
   "outputs": [],
   "source": [
    "with torch.no_grad():\n",
    "    # encode the images\n",
    "    encoded_repr = model_vertical.image_encoder(images[:, :n_frames].to(device))\n",
    "    decoded_images = decoder_vertical(encoded_repr)\n",
    "\n",
    "decoded_images = decoded_images.cpu().numpy()\n",
    "decoded_images = make_image_seq_strip([decoded_images[:, None, :, None]], sep_val=255.0).astype(np.uint8)\n",
    "cv2.imwrite('vertical_decoded.png', decoded_images[0].transpose(1, 2, 0))"
   ]
  },
  {
   "cell_type": "markdown",
   "metadata": {},
   "source": [
    "### Decode horizontal reward-induced representations with ImageDecoder"
   ]
  },
  {
   "cell_type": "code",
   "execution_count": null,
   "metadata": {},
   "outputs": [],
   "source": []
  }
 ],
 "metadata": {
  "kernelspec": {
   "display_name": "2024Spring",
   "language": "python",
   "name": "python3"
  },
  "language_info": {
   "codemirror_mode": {
    "name": "ipython",
    "version": 3
   },
   "file_extension": ".py",
   "mimetype": "text/x-python",
   "name": "python",
   "nbconvert_exporter": "python",
   "pygments_lexer": "ipython3",
   "version": "3.10.14"
  }
 },
 "nbformat": 4,
 "nbformat_minor": 2
}
