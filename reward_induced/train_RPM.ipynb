{
 "cells": [
  {
   "cell_type": "code",
   "execution_count": 1,
   "metadata": {},
   "outputs": [],
   "source": [
    "import os\n",
    "import sys\n",
    "nb_dir = os.path.split(os.getcwd())[0]\n",
    "if nb_dir not in sys.path:\n",
    "\tsys.path.append(nb_dir)"
   ]
  },
  {
   "cell_type": "code",
   "execution_count": 2,
   "metadata": {},
   "outputs": [
    {
     "name": "stderr",
     "output_type": "stream",
     "text": [
      "/home/thisiswooyeol/anaconda3/envs/2024Spring/lib/python3.10/site-packages/tqdm/auto.py:21: TqdmWarning: IProgress not found. Please update jupyter and ipywidgets. See https://ipywidgets.readthedocs.io/en/stable/user_install.html\n",
      "  from .autonotebook import tqdm as notebook_tqdm\n"
     ]
    }
   ],
   "source": [
    "import torch\n",
    "import torch.nn as nn\n",
    "from torch.optim.radam import RAdam\n",
    "\n",
    "import matplotlib.pyplot as plt\n",
    "import random\n",
    "from tqdm import trange\n",
    "\n",
    "from general_utils import AttrDict\n",
    "from reward_induced.models.reward_predictor_model import RewardPredictorModel, R_CLASSES\n",
    "from reward_induced.utils import *\n",
    "from sprites_datagen.moving_sprites import MovingSpriteDataset\n",
    "from sprites_datagen.rewards import *\n"
   ]
  },
  {
   "cell_type": "code",
   "execution_count": 3,
   "metadata": {},
   "outputs": [],
   "source": [
    "spec = AttrDict(\n",
    "        resolution=64,\n",
    "        max_seq_len=30,\n",
    "        max_speed=0.05,      # total image range [0, 1]\n",
    "        obj_size=0.2,       # size of objects, full images is 1.0\n",
    "        shapes_per_traj=4,      # number of shapes per trajectory\n",
    "        rewards=[AgentXReward, AgentYReward, TargetXReward, TargetYReward],\n",
    "    )"
   ]
  },
  {
   "cell_type": "code",
   "execution_count": 4,
   "metadata": {},
   "outputs": [
    {
     "data": {
      "text/plain": [
       "{'agent_x': array([0.4954996 , 0.5014269 , 0.50735414, 0.5132814 , 0.51920867,\n",
       "        0.52513593, 0.5310632 , 0.53699046, 0.5429177 , 0.548845  ,\n",
       "        0.55477226, 0.5606995 , 0.5666268 , 0.57255405, 0.5784813 ,\n",
       "        0.5844086 , 0.59033585, 0.5962631 , 0.6021904 , 0.60811764,\n",
       "        0.6140449 , 0.61997217, 0.62589943, 0.6318267 , 0.63775396,\n",
       "        0.6436812 , 0.6496085 , 0.65553576, 0.661463  , 0.6673903 ],\n",
       "       dtype=float32),\n",
       " 'agent_y': array([0.8426982 , 0.84355545, 0.84441274, 0.84527   , 0.8461273 ,\n",
       "        0.8469845 , 0.8478418 , 0.84869903, 0.8495563 , 0.85041356,\n",
       "        0.85127085, 0.8521281 , 0.8529853 , 0.8538426 , 0.85469985,\n",
       "        0.85555714, 0.8564144 , 0.8572717 , 0.8581289 , 0.8589862 ,\n",
       "        0.85984343, 0.8607007 , 0.86155796, 0.86241525, 0.8632725 ,\n",
       "        0.8641298 , 0.864987  , 0.86584425, 0.86670154, 0.8675588 ],\n",
       "       dtype=float32),\n",
       " 'target_x': array([0.6890846 , 0.6676088 , 0.64613295, 0.6246571 , 0.60318124,\n",
       "        0.58170545, 0.5602296 , 0.53875375, 0.5172779 , 0.49580207,\n",
       "        0.47432625, 0.4528504 , 0.43137458, 0.40989873, 0.3884229 ,\n",
       "        0.36694705, 0.34547123, 0.3239954 , 0.30251956, 0.28104374,\n",
       "        0.2595679 , 0.23809205, 0.21661621, 0.19514038, 0.17366454,\n",
       "        0.1521887 , 0.13071287, 0.10923703, 0.1122388 , 0.13371465],\n",
       "       dtype=float32),\n",
       " 'target_y': array([0.21723643, 0.19276255, 0.16828866, 0.14381479, 0.1193409 ,\n",
       "        0.10513298, 0.12960686, 0.15408075, 0.17855462, 0.20302851,\n",
       "        0.22750239, 0.25197628, 0.27645016, 0.30092403, 0.3253979 ,\n",
       "        0.3498718 , 0.3743457 , 0.39881957, 0.42329344, 0.44776732,\n",
       "        0.47224122, 0.4967151 , 0.521189  , 0.5456629 , 0.5701367 ,\n",
       "        0.59461063, 0.6190845 , 0.6435584 , 0.6680323 , 0.69250613],\n",
       "       dtype=float32)}"
      ]
     },
     "execution_count": 4,
     "metadata": {},
     "output_type": "execute_result"
    }
   ],
   "source": [
    "dataset = MovingSpriteDataset(spec)\n",
    "dataset[0]['rewards']"
   ]
  },
  {
   "cell_type": "markdown",
   "metadata": {},
   "source": [
    "# Train reward-induced representations with **RPM image encoder**"
   ]
  },
  {
   "cell_type": "code",
   "execution_count": 5,
   "metadata": {},
   "outputs": [],
   "source": [
    "# some hyperparameters\n",
    "image_shape = (3, 64, 64)\n",
    "n_frames = 20  # number of conditioning frames\n",
    "T_future = 10  # number of future frames to predict rewards for\n",
    "batch_size = 32\n",
    "\n",
    "lr = 1e-3\n",
    "n_iter = 10_000\n",
    "log_interval = 1_000\n",
    "\n",
    "device = torch.device('cuda' if torch.cuda.is_available() else 'cpu')"
   ]
  },
  {
   "cell_type": "code",
   "execution_count": 6,
   "metadata": {},
   "outputs": [],
   "source": [
    "# # DEBUG - check computation graph of the model\n",
    "# os.environ[\"PATH\"] += os.pathsep + 'C:/Program Files/Graphviz/bin/'\n",
    "\n",
    "# from torchviz import make_dot\n",
    "\n",
    "# model = RewardPredictorModel(image_shape, n_frames, T_future).to(device)\n",
    "# image = dataset[0]['images']\n",
    "# image = torch.tensor(image).to(device)\n",
    "# pred_rewards = model(image[:n_frames].unsqueeze(0),\n",
    "#                      image[n_frames:].unsqueeze(0))['agent_x']\n",
    "\n",
    "# make_dot(pred_rewards, params=dict(model.named_parameters())).render('RPM_comp_graph', format='png')\n",
    "# make_dot(pred_rewards, params=dict(model.named_parameters()), show_attrs=True, show_saved=True).render('RPM_comp_graph_back_prop', format='png')"
   ]
  },
  {
   "cell_type": "code",
   "execution_count": 7,
   "metadata": {},
   "outputs": [],
   "source": [
    "def train_RPM(model, dataset, loss_fn, optimizer, device, is_complete=True):\n",
    "\tlosses = []\n",
    "\tmodel.to(device)\n",
    "\tprint(f'[INFO] Training complete reward predictor model on device: {device} ...')\n",
    "\n",
    "\tfor itr in trange(n_iter):\n",
    "\t\timages, rewards = generate_batch(dataset, batch_size, itr)\n",
    "\n",
    "\t\treward_type_list = random.sample(R_CLASSES, k=3) if not is_complete else R_CLASSES\n",
    "\t\t# assume n_frames + T_future == len(images)\n",
    "\t\tpred_rewards = model(  # add batch dimension for images\n",
    "\t\t\tconditioning_frames=images[:, :n_frames].to(device), \n",
    "\t\t\tfuture_frames=images[:, n_frames:].to(device),\n",
    "\t\t\treward_type=reward_type_list\n",
    "\t\t)\n",
    "\n",
    "\t\tloss = 0\n",
    "\t\tfor reward_type, pred_reward in pred_rewards.items():\n",
    "\t\t\treward = torch.tensor(rewards[reward_type][:, n_frames:], \n",
    "\t\t\t\t\t\t dtype=torch.float32, device=device)\n",
    "\t\t\tloss += loss_fn(pred_reward, reward)\n",
    "\n",
    "\t\toptimizer.zero_grad()\n",
    "\t\tloss.backward()\n",
    "\t\toptimizer.step()\n",
    "\n",
    "\t\tlosses.append(loss.item())\n",
    "\t\tif (itr+1) % log_interval == 0:\n",
    "\t\t\tprint(f'[{itr+1} / {n_iter}] RPM loss: {loss.item()}')\n",
    "\n",
    "\treturn losses"
   ]
  },
  {
   "cell_type": "code",
   "execution_count": 8,
   "metadata": {},
   "outputs": [],
   "source": [
    "def moving_average(data, window_size):\n",
    "    return np.convolve(data, np.ones(window_size)/window_size, mode='valid')"
   ]
  },
  {
   "cell_type": "markdown",
   "metadata": {},
   "source": [
    "### (a) Train with complete reward annotation"
   ]
  },
  {
   "cell_type": "code",
   "execution_count": 9,
   "metadata": {},
   "outputs": [],
   "source": [
    "model = RewardPredictorModel(image_shape, n_frames, T_future)\n",
    "loss_fn = nn.MSELoss()\n",
    "\n",
    "optimizer = RAdam(model.parameters(), lr=lr)"
   ]
  },
  {
   "cell_type": "code",
   "execution_count": 10,
   "metadata": {},
   "outputs": [
    {
     "name": "stdout",
     "output_type": "stream",
     "text": [
      "[INFO] Training complete reward predictor model on device: cuda ...\n"
     ]
    },
    {
     "name": "stderr",
     "output_type": "stream",
     "text": [
      " 10%|█         | 1000/10000 [06:42<58:37,  2.56it/s] "
     ]
    },
    {
     "name": "stdout",
     "output_type": "stream",
     "text": [
      "[1000 / 10000] RPM loss: 0.05867062136530876\n"
     ]
    },
    {
     "name": "stderr",
     "output_type": "stream",
     "text": [
      " 20%|██        | 2000/10000 [13:11<39:01,  3.42it/s]  "
     ]
    },
    {
     "name": "stdout",
     "output_type": "stream",
     "text": [
      "[2000 / 10000] RPM loss: 0.009363084100186825\n"
     ]
    },
    {
     "name": "stderr",
     "output_type": "stream",
     "text": [
      " 30%|███       | 3000/10000 [20:40<49:56,  2.34it/s]  "
     ]
    },
    {
     "name": "stdout",
     "output_type": "stream",
     "text": [
      "[3000 / 10000] RPM loss: 0.0038837518077343702\n"
     ]
    },
    {
     "name": "stderr",
     "output_type": "stream",
     "text": [
      " 40%|████      | 4000/10000 [28:26<39:27,  2.53it/s]  "
     ]
    },
    {
     "name": "stdout",
     "output_type": "stream",
     "text": [
      "[4000 / 10000] RPM loss: 0.0023617707192897797\n"
     ]
    },
    {
     "name": "stderr",
     "output_type": "stream",
     "text": [
      " 50%|█████     | 5000/10000 [34:02<32:19,  2.58it/s]"
     ]
    },
    {
     "name": "stdout",
     "output_type": "stream",
     "text": [
      "[5000 / 10000] RPM loss: 0.0012476233532652259\n"
     ]
    },
    {
     "name": "stderr",
     "output_type": "stream",
     "text": [
      " 60%|██████    | 6000/10000 [42:32<34:53,  1.91it/s]"
     ]
    },
    {
     "name": "stdout",
     "output_type": "stream",
     "text": [
      "[6000 / 10000] RPM loss: 0.0018310878658667207\n"
     ]
    },
    {
     "name": "stderr",
     "output_type": "stream",
     "text": [
      " 70%|███████   | 7000/10000 [49:44<21:23,  2.34it/s]"
     ]
    },
    {
     "name": "stdout",
     "output_type": "stream",
     "text": [
      "[7000 / 10000] RPM loss: 0.0011167427292093635\n"
     ]
    },
    {
     "name": "stderr",
     "output_type": "stream",
     "text": [
      " 80%|████████  | 8000/10000 [56:45<14:00,  2.38it/s]"
     ]
    },
    {
     "name": "stdout",
     "output_type": "stream",
     "text": [
      "[8000 / 10000] RPM loss: 0.0007745607872493565\n"
     ]
    },
    {
     "name": "stderr",
     "output_type": "stream",
     "text": [
      " 90%|█████████ | 9000/10000 [1:03:49<06:39,  2.50it/s]"
     ]
    },
    {
     "name": "stdout",
     "output_type": "stream",
     "text": [
      "[9000 / 10000] RPM loss: 0.0007210418116301298\n"
     ]
    },
    {
     "name": "stderr",
     "output_type": "stream",
     "text": [
      "100%|██████████| 10000/10000 [1:10:59<00:00,  2.35it/s]"
     ]
    },
    {
     "name": "stdout",
     "output_type": "stream",
     "text": [
      "[10000 / 10000] RPM loss: 0.000901362975127995\n"
     ]
    },
    {
     "name": "stderr",
     "output_type": "stream",
     "text": [
      "\n"
     ]
    }
   ],
   "source": [
    "losses_complete_reward = train_RPM(model, dataset, loss_fn, optimizer, device, is_complete=True)"
   ]
  },
  {
   "cell_type": "code",
   "execution_count": 11,
   "metadata": {},
   "outputs": [
    {
     "data": {
      "image/png": "[encoded data removed]",
      "text/plain": [
       "<Figure size 640x480 with 1 Axes>"
      ]
     },
     "metadata": {},
     "output_type": "display_data"
    }
   ],
   "source": [
    "# Visualize the losses\n",
    "window_size = 200\n",
    "ma_losses = moving_average(losses_complete_reward, window_size)\n",
    "\n",
    "plt.plot(losses_complete_reward, label='Original loss')\n",
    "plt.plot(np.arange(window_size-1, len(ma_losses)+window_size-1), ma_losses, label='Moving Average', color='red')\n",
    "\n",
    "plt.xlabel('Iteration')\n",
    "plt.ylabel('Loss')\n",
    "plt.title('Complete reward predictor training loss')\n",
    "plt.legend()\n",
    "plt.show()"
   ]
  },
  {
   "cell_type": "code",
   "execution_count": 12,
   "metadata": {},
   "outputs": [],
   "source": [
    "PATH = 'complete_RPM_1e-3_1M.pth'\n",
    "torch.save(model.state_dict(), PATH)"
   ]
  },
  {
   "cell_type": "code",
   "execution_count": 13,
   "metadata": {},
   "outputs": [
    {
     "data": {
      "text/plain": [
       "<All keys matched successfully>"
      ]
     },
     "execution_count": 13,
     "metadata": {},
     "output_type": "execute_result"
    }
   ],
   "source": [
    "model = RewardPredictorModel(image_shape, n_frames, T_future)\n",
    "model.load_state_dict(torch.load(PATH))  # test save and load"
   ]
  },
  {
   "cell_type": "markdown",
   "metadata": {},
   "source": [
    "### (b) Train with incomplete reward annotation"
   ]
  },
  {
   "cell_type": "code",
   "execution_count": 14,
   "metadata": {},
   "outputs": [],
   "source": [
    "model = RewardPredictorModel(image_shape, n_frames, T_future)\n",
    "loss_fn = nn.MSELoss()\n",
    "\n",
    "optimizer = RAdam(model.parameters(), lr=lr)"
   ]
  },
  {
   "cell_type": "code",
   "execution_count": 15,
   "metadata": {},
   "outputs": [
    {
     "name": "stdout",
     "output_type": "stream",
     "text": [
      "[INFO] Training complete reward predictor model on device: cuda ...\n"
     ]
    },
    {
     "name": "stderr",
     "output_type": "stream",
     "text": [
      " 10%|█         | 1000/10000 [07:44<1:04:45,  2.32it/s]"
     ]
    },
    {
     "name": "stdout",
     "output_type": "stream",
     "text": [
      "[1000 / 10000] RPM loss: 0.05586288124322891\n"
     ]
    },
    {
     "name": "stderr",
     "output_type": "stream",
     "text": [
      " 20%|██        | 2000/10000 [14:51<1:01:30,  2.17it/s]"
     ]
    },
    {
     "name": "stdout",
     "output_type": "stream",
     "text": [
      "[2000 / 10000] RPM loss: 0.016164768487215042\n"
     ]
    },
    {
     "name": "stderr",
     "output_type": "stream",
     "text": [
      " 30%|███       | 3000/10000 [21:57<49:15,  2.37it/s]  "
     ]
    },
    {
     "name": "stdout",
     "output_type": "stream",
     "text": [
      "[3000 / 10000] RPM loss: 0.005784249864518642\n"
     ]
    },
    {
     "name": "stderr",
     "output_type": "stream",
     "text": [
      " 40%|████      | 4000/10000 [29:06<42:09,  2.37it/s]"
     ]
    },
    {
     "name": "stdout",
     "output_type": "stream",
     "text": [
      "[4000 / 10000] RPM loss: 0.0015810179756954312\n"
     ]
    },
    {
     "name": "stderr",
     "output_type": "stream",
     "text": [
      " 50%|█████     | 5000/10000 [36:18<36:00,  2.31it/s]"
     ]
    },
    {
     "name": "stdout",
     "output_type": "stream",
     "text": [
      "[5000 / 10000] RPM loss: 0.0017029047012329102\n"
     ]
    },
    {
     "name": "stderr",
     "output_type": "stream",
     "text": [
      " 60%|██████    | 6000/10000 [43:22<30:22,  2.20it/s]"
     ]
    },
    {
     "name": "stdout",
     "output_type": "stream",
     "text": [
      "[6000 / 10000] RPM loss: 0.0019024102948606014\n"
     ]
    },
    {
     "name": "stderr",
     "output_type": "stream",
     "text": [
      " 70%|███████   | 7000/10000 [50:34<21:11,  2.36it/s]"
     ]
    },
    {
     "name": "stdout",
     "output_type": "stream",
     "text": [
      "[7000 / 10000] RPM loss: 0.0009181970963254571\n"
     ]
    },
    {
     "name": "stderr",
     "output_type": "stream",
     "text": [
      " 80%|████████  | 8000/10000 [57:50<14:14,  2.34it/s]"
     ]
    },
    {
     "name": "stdout",
     "output_type": "stream",
     "text": [
      "[8000 / 10000] RPM loss: 0.0010653503704816103\n"
     ]
    },
    {
     "name": "stderr",
     "output_type": "stream",
     "text": [
      " 90%|█████████ | 9000/10000 [1:05:04<07:16,  2.29it/s]"
     ]
    },
    {
     "name": "stdout",
     "output_type": "stream",
     "text": [
      "[9000 / 10000] RPM loss: 0.0006020173314027488\n"
     ]
    },
    {
     "name": "stderr",
     "output_type": "stream",
     "text": [
      "100%|██████████| 10000/10000 [1:13:06<00:00,  2.28it/s]"
     ]
    },
    {
     "name": "stdout",
     "output_type": "stream",
     "text": [
      "[10000 / 10000] RPM loss: 0.0011743814684450626\n"
     ]
    },
    {
     "name": "stderr",
     "output_type": "stream",
     "text": [
      "\n"
     ]
    }
   ],
   "source": [
    "losses_incomplete_reward = train_RPM(model, dataset, loss_fn, optimizer, device, is_complete=False)"
   ]
  },
  {
   "cell_type": "code",
   "execution_count": 18,
   "metadata": {},
   "outputs": [
    {
     "data": {
      "image/png": "[encoded data removed]",
      "text/plain": [
       "<Figure size 640x480 with 1 Axes>"
      ]
     },
     "metadata": {},
     "output_type": "display_data"
    }
   ],
   "source": [
    "# Visualize the losses\n",
    "window_size = 200\n",
    "ma_losses = moving_average(losses_complete_reward, window_size)\n",
    "\n",
    "plt.plot(losses_complete_reward, label='Original loss')\n",
    "plt.plot(np.arange(window_size-1, len(ma_losses)+window_size-1), ma_losses, label='Moving Average', color='red')\n",
    "\n",
    "plt.xlabel('Iteration')\n",
    "plt.ylabel('Loss')\n",
    "plt.title('Incomplete reward predictor training loss')\n",
    "plt.legend()\n",
    "plt.show()"
   ]
  },
  {
   "cell_type": "code",
   "execution_count": 16,
   "metadata": {},
   "outputs": [],
   "source": [
    "PATH = 'incomplete_RPM_1e-3_1M.pth'\n",
    "torch.save(model.state_dict(), PATH)"
   ]
  },
  {
   "cell_type": "code",
   "execution_count": 17,
   "metadata": {},
   "outputs": [
    {
     "data": {
      "text/plain": [
       "<All keys matched successfully>"
      ]
     },
     "execution_count": 17,
     "metadata": {},
     "output_type": "execute_result"
    }
   ],
   "source": [
    "model = RewardPredictorModel(image_shape, n_frames, T_future)\n",
    "model.load_state_dict(torch.load(PATH))  # test save and load"
   ]
  },
  {
   "cell_type": "code",
   "execution_count": null,
   "metadata": {},
   "outputs": [],
   "source": []
  }
 ],
 "metadata": {
  "kernelspec": {
   "display_name": "2024Spring",
   "language": "python",
   "name": "python3"
  },
  "language_info": {
   "codemirror_mode": {
    "name": "ipython",
    "version": 3
   },
   "file_extension": ".py",
   "mimetype": "text/x-python",
   "name": "python",
   "nbconvert_exporter": "python",
   "pygments_lexer": "ipython3",
   "version": "3.10.14"
  }
 },
 "nbformat": 4,
 "nbformat_minor": 2
}
