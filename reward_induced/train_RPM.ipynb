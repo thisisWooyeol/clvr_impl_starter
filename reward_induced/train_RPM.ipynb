{
 "cells": [
  {
   "cell_type": "code",
   "execution_count": 1,
   "metadata": {},
   "outputs": [],
   "source": [
    "import os\n",
    "import sys\n",
    "nb_dir = os.path.split(os.getcwd())[0]\n",
    "if nb_dir not in sys.path:\n",
    "\tsys.path.append(nb_dir)"
   ]
  },
  {
   "cell_type": "code",
   "execution_count": 2,
   "metadata": {},
   "outputs": [
    {
     "name": "stderr",
     "output_type": "stream",
     "text": [
      "/home/thisiswooyeol/anaconda3/envs/2024Spring/lib/python3.10/site-packages/tqdm/auto.py:21: TqdmWarning: IProgress not found. Please update jupyter and ipywidgets. See https://ipywidgets.readthedocs.io/en/stable/user_install.html\n",
      "  from .autonotebook import tqdm as notebook_tqdm\n"
     ]
    }
   ],
   "source": [
    "import torch\n",
    "import torch.nn as nn\n",
    "from torch.optim.radam import RAdam\n",
    "\n",
    "import matplotlib.pyplot as plt\n",
    "import random\n",
    "from tqdm import trange\n",
    "\n",
    "from general_utils import AttrDict\n",
    "from reward_induced.models.reward_predictor_model import RewardPredictorModel, R_CLASSES_BASE\n",
    "from reward_induced.utils import *\n",
    "from sprites_datagen.moving_sprites import MovingSpriteDataset\n",
    "from sprites_datagen.rewards import *\n"
   ]
  },
  {
   "cell_type": "code",
   "execution_count": 3,
   "metadata": {},
   "outputs": [],
   "source": [
    "spec = AttrDict(\n",
    "        resolution=64,\n",
    "        max_seq_len=30,\n",
    "        max_speed=0.05,      # total image range [0, 1]\n",
    "        obj_size=0.2,       # size of objects, full images is 1.0\n",
    "        shapes_per_traj=4,      # number of shapes per trajectory\n",
    "        rewards=[AgentXReward, AgentYReward, TargetXReward, TargetYReward],\n",
    "    )"
   ]
  },
  {
   "cell_type": "code",
   "execution_count": 4,
   "metadata": {},
   "outputs": [
    {
     "data": {
      "text/plain": [
       "{'agent_x': array([0.5440347 , 0.5438708 , 0.5437069 , 0.5435429 , 0.543379  ,\n",
       "        0.5432151 , 0.5430511 , 0.5428872 , 0.5427233 , 0.5425593 ,\n",
       "        0.5423954 , 0.5422315 , 0.5420675 , 0.5419036 , 0.5417397 ,\n",
       "        0.54157573, 0.5414118 , 0.5412479 , 0.54108393, 0.54092   ,\n",
       "        0.5407561 , 0.54059213, 0.5404282 , 0.5402643 , 0.54010034,\n",
       "        0.5399364 , 0.5397725 , 0.53960854, 0.5394446 , 0.5392807 ],\n",
       "       dtype=float32),\n",
       " 'agent_y': array([0.669895  , 0.6692992 , 0.6687034 , 0.66810757, 0.66751176,\n",
       "        0.66691595, 0.66632015, 0.66572434, 0.6651285 , 0.6645327 ,\n",
       "        0.6639369 , 0.6633411 , 0.66274524, 0.6621494 , 0.6615536 ,\n",
       "        0.6609578 , 0.660362  , 0.6597662 , 0.6591704 , 0.6585746 ,\n",
       "        0.6579788 , 0.65738297, 0.65678716, 0.65619135, 0.65559554,\n",
       "        0.6549997 , 0.65440387, 0.65380806, 0.65321225, 0.65261644],\n",
       "       dtype=float32),\n",
       " 'target_x': array([0.10951082, 0.11663064, 0.12375046, 0.13087028, 0.13799012,\n",
       "        0.14510994, 0.15222976, 0.15934959, 0.16646941, 0.17358923,\n",
       "        0.18070906, 0.18782888, 0.1949487 , 0.20206854, 0.20918836,\n",
       "        0.21630818, 0.22342801, 0.23054783, 0.23766765, 0.24478748,\n",
       "        0.2519073 , 0.25902712, 0.26614696, 0.27326676, 0.2803866 ,\n",
       "        0.28750643, 0.29462624, 0.30174607, 0.3088659 , 0.3159857 ],\n",
       "       dtype=float32),\n",
       " 'target_y': array([0.46101394, 0.46429312, 0.46757227, 0.47085142, 0.4741306 ,\n",
       "        0.47740975, 0.4806889 , 0.48396808, 0.48724723, 0.4905264 ,\n",
       "        0.49380556, 0.4970847 , 0.5003639 , 0.50364304, 0.5069222 ,\n",
       "        0.51020133, 0.51348054, 0.5167597 , 0.52003884, 0.523318  ,\n",
       "        0.52659714, 0.52987635, 0.5331555 , 0.53643465, 0.5397138 ,\n",
       "        0.54299295, 0.5462721 , 0.5495513 , 0.55283046, 0.5561096 ],\n",
       "       dtype=float32)}"
      ]
     },
     "execution_count": 4,
     "metadata": {},
     "output_type": "execute_result"
    }
   ],
   "source": [
    "dataset = MovingSpriteDataset(spec)\n",
    "dataset[0]['rewards']"
   ]
  },
  {
   "cell_type": "markdown",
   "metadata": {},
   "source": [
    "# Train reward-induced representations with **RPM image encoder**"
   ]
  },
  {
   "cell_type": "code",
   "execution_count": 5,
   "metadata": {},
   "outputs": [],
   "source": [
    "# some hyperparameters\n",
    "image_shape = (3, 64, 64)\n",
    "n_frames = 20  # number of conditioning frames\n",
    "T_future = 10  # number of future frames to predict rewards for\n",
    "batch_size = 32\n",
    "\n",
    "lr = 1e-3\n",
    "n_iter = 10_000\n",
    "log_interval = 1_000\n",
    "\n",
    "device = torch.device('cuda' if torch.cuda.is_available() else 'cpu')"
   ]
  },
  {
   "cell_type": "code",
   "execution_count": 6,
   "metadata": {},
   "outputs": [],
   "source": [
    "# # DEBUG - check computation graph of the model\n",
    "# os.environ[\"PATH\"] += os.pathsep + 'C:/Program Files/Graphviz/bin/'\n",
    "\n",
    "# from torchviz import make_dot\n",
    "\n",
    "# model = RewardPredictorModel(image_shape, n_frames, T_future).to(device)\n",
    "# image = dataset[0]['images']\n",
    "# image = torch.tensor(image).to(device)\n",
    "# pred_rewards = model(image[:n_frames].unsqueeze(0),\n",
    "#                      image[n_frames:].unsqueeze(0))['agent_x']\n",
    "\n",
    "# make_dot(pred_rewards, params=dict(model.named_parameters())).render('RPM_comp_graph', format='png')\n",
    "# make_dot(pred_rewards, params=dict(model.named_parameters()), show_attrs=True, show_saved=True).render('RPM_comp_graph_back_prop', format='png')"
   ]
  },
  {
   "cell_type": "code",
   "execution_count": 7,
   "metadata": {},
   "outputs": [],
   "source": [
    "def train_RPM(model, dataset, loss_fn, optimizer, device, is_complete=True):\n",
    "\tlosses = []\n",
    "\tmodel.to(device)\n",
    "\tprint(f'[INFO] Training complete reward predictor model on device: {device} ...')\n",
    "\n",
    "\tfor itr in trange(n_iter):\n",
    "\t\timages, rewards = generate_batch(dataset, batch_size, itr)\n",
    "\n",
    "\t\treward_type_list = random.sample(R_CLASSES_BASE, k=3) if not is_complete else R_CLASSES_BASE\n",
    "\t\t# assume n_frames + T_future == len(images)\n",
    "\t\tpred_rewards = model(  # add batch dimension for images\n",
    "\t\t\tconditioning_frames=images[:, :n_frames].to(device), \n",
    "\t\t\tfuture_frames=images[:, n_frames:].to(device),\n",
    "\t\t\treward_type=reward_type_list\n",
    "\t\t)\n",
    "\n",
    "\t\tloss = 0\n",
    "\t\tfor reward_type, pred_reward in pred_rewards.items():\n",
    "\t\t\treward = torch.tensor(rewards[reward_type][:, n_frames:], \n",
    "\t\t\t\t\t\t dtype=torch.float32, device=device)\n",
    "\t\t\tloss += loss_fn(pred_reward, reward)\n",
    "\n",
    "\t\toptimizer.zero_grad()\n",
    "\t\tloss.backward()\n",
    "\t\toptimizer.step()\n",
    "\n",
    "\t\tlosses.append(loss.item())\n",
    "\t\tif (itr+1) % log_interval == 0:\n",
    "\t\t\tprint(f'[{itr+1} / {n_iter}] RPM loss: {loss.item()}')\n",
    "\n",
    "\treturn losses"
   ]
  },
  {
   "cell_type": "code",
   "execution_count": 8,
   "metadata": {},
   "outputs": [],
   "source": [
    "def moving_average(data, window_size):\n",
    "    return np.convolve(data, np.ones(window_size)/window_size, mode='valid')"
   ]
  },
  {
   "cell_type": "markdown",
   "metadata": {},
   "source": [
    "### (a) Train with complete reward annotation"
   ]
  },
  {
   "cell_type": "code",
   "execution_count": 9,
   "metadata": {},
   "outputs": [],
   "source": [
    "model = RewardPredictorModel(image_shape, n_frames, T_future)\n",
    "loss_fn = nn.MSELoss()\n",
    "\n",
    "optimizer = RAdam(model.parameters(), lr=lr)"
   ]
  },
  {
   "cell_type": "code",
   "execution_count": 10,
   "metadata": {},
   "outputs": [
    {
     "name": "stdout",
     "output_type": "stream",
     "text": [
      "[INFO] Training complete reward predictor model on device: cuda ...\n"
     ]
    },
    {
     "name": "stderr",
     "output_type": "stream",
     "text": [
      " 10%|█         | 1000/10000 [06:31<58:50,  2.55it/s] "
     ]
    },
    {
     "name": "stdout",
     "output_type": "stream",
     "text": [
      "[1000 / 10000] RPM loss: 0.02856401726603508\n"
     ]
    },
    {
     "name": "stderr",
     "output_type": "stream",
     "text": [
      " 20%|██        | 2000/10000 [13:35<56:28,  2.36it/s]  "
     ]
    },
    {
     "name": "stdout",
     "output_type": "stream",
     "text": [
      "[2000 / 10000] RPM loss: 0.007283840794116259\n"
     ]
    },
    {
     "name": "stderr",
     "output_type": "stream",
     "text": [
      " 30%|███       | 3000/10000 [20:51<49:11,  2.37it/s]  "
     ]
    },
    {
     "name": "stdout",
     "output_type": "stream",
     "text": [
      "[3000 / 10000] RPM loss: 0.004417555406689644\n"
     ]
    },
    {
     "name": "stderr",
     "output_type": "stream",
     "text": [
      " 40%|████      | 4000/10000 [28:08<45:44,  2.19it/s]  "
     ]
    },
    {
     "name": "stdout",
     "output_type": "stream",
     "text": [
      "[4000 / 10000] RPM loss: 0.003679901361465454\n"
     ]
    },
    {
     "name": "stderr",
     "output_type": "stream",
     "text": [
      " 50%|█████     | 5000/10000 [35:25<34:54,  2.39it/s]"
     ]
    },
    {
     "name": "stdout",
     "output_type": "stream",
     "text": [
      "[5000 / 10000] RPM loss: 0.002146413316950202\n"
     ]
    },
    {
     "name": "stderr",
     "output_type": "stream",
     "text": [
      " 60%|██████    | 6000/10000 [42:34<27:21,  2.44it/s]"
     ]
    },
    {
     "name": "stdout",
     "output_type": "stream",
     "text": [
      "[6000 / 10000] RPM loss: 0.00187674758490175\n"
     ]
    },
    {
     "name": "stderr",
     "output_type": "stream",
     "text": [
      " 70%|███████   | 7000/10000 [49:45<20:51,  2.40it/s]"
     ]
    },
    {
     "name": "stdout",
     "output_type": "stream",
     "text": [
      "[7000 / 10000] RPM loss: 0.0010473469737917185\n"
     ]
    },
    {
     "name": "stderr",
     "output_type": "stream",
     "text": [
      " 80%|████████  | 8000/10000 [57:10<16:40,  2.00it/s]"
     ]
    },
    {
     "name": "stdout",
     "output_type": "stream",
     "text": [
      "[8000 / 10000] RPM loss: 0.001167474314570427\n"
     ]
    },
    {
     "name": "stderr",
     "output_type": "stream",
     "text": [
      " 90%|█████████ | 9000/10000 [1:04:34<06:10,  2.70it/s]"
     ]
    },
    {
     "name": "stdout",
     "output_type": "stream",
     "text": [
      "[9000 / 10000] RPM loss: 0.0008347703842446208\n"
     ]
    },
    {
     "name": "stderr",
     "output_type": "stream",
     "text": [
      "100%|██████████| 10000/10000 [1:10:43<00:00,  2.36it/s]"
     ]
    },
    {
     "name": "stdout",
     "output_type": "stream",
     "text": [
      "[10000 / 10000] RPM loss: 0.0008888293523341417\n"
     ]
    },
    {
     "name": "stderr",
     "output_type": "stream",
     "text": [
      "\n"
     ]
    }
   ],
   "source": [
    "losses_complete_reward = train_RPM(model, dataset, loss_fn, optimizer, device, is_complete=True)"
   ]
  },
  {
   "cell_type": "code",
   "execution_count": 11,
   "metadata": {},
   "outputs": [
    {
     "data": {
      "image/png": "[encoded data removed]",
      "text/plain": [
       "<Figure size 640x480 with 1 Axes>"
      ]
     },
     "metadata": {},
     "output_type": "display_data"
    }
   ],
   "source": [
    "# Visualize the losses\n",
    "window_size = 200\n",
    "ma_losses = moving_average(losses_complete_reward, window_size)\n",
    "\n",
    "plt.plot(losses_complete_reward, label='Original loss')\n",
    "plt.plot(np.arange(window_size-1, len(ma_losses)+window_size-1), ma_losses, label='Moving Average', color='red')\n",
    "\n",
    "plt.xlabel('Iteration')\n",
    "plt.ylabel('Loss')\n",
    "plt.title('Complete reward predictor training loss')\n",
    "plt.legend()\n",
    "plt.show()"
   ]
  },
  {
   "cell_type": "code",
   "execution_count": 12,
   "metadata": {},
   "outputs": [],
   "source": [
    "PATH = 'complete_RPM_1e-3_1M.pth'\n",
    "torch.save(model.state_dict(), PATH)"
   ]
  },
  {
   "cell_type": "code",
   "execution_count": 13,
   "metadata": {},
   "outputs": [
    {
     "data": {
      "text/plain": [
       "<All keys matched successfully>"
      ]
     },
     "execution_count": 13,
     "metadata": {},
     "output_type": "execute_result"
    }
   ],
   "source": [
    "model = RewardPredictorModel(image_shape, n_frames, T_future)\n",
    "model.load_state_dict(torch.load(PATH))  # test save and load"
   ]
  },
  {
   "cell_type": "markdown",
   "metadata": {},
   "source": [
    "### (b) Train with incomplete reward annotation"
   ]
  },
  {
   "cell_type": "code",
   "execution_count": 14,
   "metadata": {},
   "outputs": [],
   "source": [
    "model = RewardPredictorModel(image_shape, n_frames, T_future)\n",
    "loss_fn = nn.MSELoss()\n",
    "\n",
    "optimizer = RAdam(model.parameters(), lr=lr)"
   ]
  },
  {
   "cell_type": "code",
   "execution_count": 15,
   "metadata": {},
   "outputs": [
    {
     "name": "stdout",
     "output_type": "stream",
     "text": [
      "[INFO] Training complete reward predictor model on device: cuda ...\n"
     ]
    },
    {
     "name": "stderr",
     "output_type": "stream",
     "text": [
      " 10%|█         | 1000/10000 [05:26<1:00:28,  2.48it/s]"
     ]
    },
    {
     "name": "stdout",
     "output_type": "stream",
     "text": [
      "[1000 / 10000] RPM loss: 0.0429820641875267\n"
     ]
    },
    {
     "name": "stderr",
     "output_type": "stream",
     "text": [
      " 20%|██        | 2000/10000 [10:37<39:28,  3.38it/s]  "
     ]
    },
    {
     "name": "stdout",
     "output_type": "stream",
     "text": [
      "[2000 / 10000] RPM loss: 0.013319149613380432\n"
     ]
    },
    {
     "name": "stderr",
     "output_type": "stream",
     "text": [
      " 30%|███       | 3000/10000 [15:26<35:07,  3.32it/s]"
     ]
    },
    {
     "name": "stdout",
     "output_type": "stream",
     "text": [
      "[3000 / 10000] RPM loss: 0.0034285900183022022\n"
     ]
    },
    {
     "name": "stderr",
     "output_type": "stream",
     "text": [
      " 40%|████      | 4000/10000 [20:25<28:28,  3.51it/s]"
     ]
    },
    {
     "name": "stdout",
     "output_type": "stream",
     "text": [
      "[4000 / 10000] RPM loss: 0.0015947502106428146\n"
     ]
    },
    {
     "name": "stderr",
     "output_type": "stream",
     "text": [
      " 50%|█████     | 5000/10000 [25:32<29:44,  2.80it/s]"
     ]
    },
    {
     "name": "stdout",
     "output_type": "stream",
     "text": [
      "[5000 / 10000] RPM loss: 0.0012238301569595933\n"
     ]
    },
    {
     "name": "stderr",
     "output_type": "stream",
     "text": [
      " 60%|██████    | 6000/10000 [30:21<20:28,  3.25it/s]"
     ]
    },
    {
     "name": "stdout",
     "output_type": "stream",
     "text": [
      "[6000 / 10000] RPM loss: 0.0008957968093454838\n"
     ]
    },
    {
     "name": "stderr",
     "output_type": "stream",
     "text": [
      " 70%|███████   | 7000/10000 [34:51<14:55,  3.35it/s]"
     ]
    },
    {
     "name": "stdout",
     "output_type": "stream",
     "text": [
      "[7000 / 10000] RPM loss: 0.001199838356114924\n"
     ]
    },
    {
     "name": "stderr",
     "output_type": "stream",
     "text": [
      " 80%|████████  | 8000/10000 [39:13<09:17,  3.59it/s]"
     ]
    },
    {
     "name": "stdout",
     "output_type": "stream",
     "text": [
      "[8000 / 10000] RPM loss: 0.0011062616249546409\n"
     ]
    },
    {
     "name": "stderr",
     "output_type": "stream",
     "text": [
      " 90%|█████████ | 9000/10000 [44:13<04:26,  3.76it/s]"
     ]
    },
    {
     "name": "stdout",
     "output_type": "stream",
     "text": [
      "[9000 / 10000] RPM loss: 0.001035822439007461\n"
     ]
    },
    {
     "name": "stderr",
     "output_type": "stream",
     "text": [
      "100%|██████████| 10000/10000 [48:52<00:00,  3.41it/s]"
     ]
    },
    {
     "name": "stdout",
     "output_type": "stream",
     "text": [
      "[10000 / 10000] RPM loss: 0.0007250486523844302\n"
     ]
    },
    {
     "name": "stderr",
     "output_type": "stream",
     "text": [
      "\n"
     ]
    }
   ],
   "source": [
    "losses_incomplete_reward = train_RPM(model, dataset, loss_fn, optimizer, device, is_complete=False)"
   ]
  },
  {
   "cell_type": "code",
   "execution_count": 16,
   "metadata": {},
   "outputs": [
    {
     "data": {
      "image/png": "[encoded data removed]",
      "text/plain": [
       "<Figure size 640x480 with 1 Axes>"
      ]
     },
     "metadata": {},
     "output_type": "display_data"
    }
   ],
   "source": [
    "# Visualize the losses\n",
    "window_size = 200\n",
    "ma_losses = moving_average(losses_complete_reward, window_size)\n",
    "\n",
    "plt.plot(losses_complete_reward, label='Original loss')\n",
    "plt.plot(np.arange(window_size-1, len(ma_losses)+window_size-1), ma_losses, label='Moving Average', color='red')\n",
    "\n",
    "plt.xlabel('Iteration')\n",
    "plt.ylabel('Loss')\n",
    "plt.title('Incomplete reward predictor training loss')\n",
    "plt.legend()\n",
    "plt.show()"
   ]
  },
  {
   "cell_type": "code",
   "execution_count": 17,
   "metadata": {},
   "outputs": [],
   "source": [
    "PATH = 'incomplete_RPM_1e-3_1M.pth'\n",
    "torch.save(model.state_dict(), PATH)"
   ]
  },
  {
   "cell_type": "code",
   "execution_count": 18,
   "metadata": {},
   "outputs": [
    {
     "data": {
      "text/plain": [
       "<All keys matched successfully>"
      ]
     },
     "execution_count": 18,
     "metadata": {},
     "output_type": "execute_result"
    }
   ],
   "source": [
    "model = RewardPredictorModel(image_shape, n_frames, T_future)\n",
    "model.load_state_dict(torch.load(PATH))  # test save and load"
   ]
  },
  {
   "cell_type": "code",
   "execution_count": null,
   "metadata": {},
   "outputs": [],
   "source": []
  }
 ],
 "metadata": {
  "kernelspec": {
   "display_name": "2024Spring",
   "language": "python",
   "name": "python3"
  },
  "language_info": {
   "codemirror_mode": {
    "name": "ipython",
    "version": 3
   },
   "file_extension": ".py",
   "mimetype": "text/x-python",
   "name": "python",
   "nbconvert_exporter": "python",
   "pygments_lexer": "ipython3",
   "version": "3.10.14"
  }
 },
 "nbformat": 4,
 "nbformat_minor": 2
}
