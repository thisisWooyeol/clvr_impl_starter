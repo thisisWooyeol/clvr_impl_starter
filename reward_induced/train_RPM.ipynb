{
 "cells": [
  {
   "cell_type": "code",
   "execution_count": 1,
   "metadata": {},
   "outputs": [],
   "source": [
    "import os\n",
    "import sys\n",
    "nb_dir = os.path.split(os.getcwd())[0]\n",
    "if nb_dir not in sys.path:\n",
    "\tsys.path.append(nb_dir)"
   ]
  },
  {
   "cell_type": "code",
   "execution_count": 2,
   "metadata": {},
   "outputs": [
    {
     "name": "stderr",
     "output_type": "stream",
     "text": [
      "/home/thisiswooyeol/anaconda3/envs/2024Spring/lib/python3.10/site-packages/tqdm/auto.py:21: TqdmWarning: IProgress not found. Please update jupyter and ipywidgets. See https://ipywidgets.readthedocs.io/en/stable/user_install.html\n",
      "  from .autonotebook import tqdm as notebook_tqdm\n"
     ]
    }
   ],
   "source": [
    "import torch\n",
    "import torch.nn as nn\n",
    "from torch.optim.radam import RAdam\n",
    "\n",
    "import matplotlib.pyplot as plt\n",
    "import random\n",
    "from tqdm import trange\n",
    "\n",
    "from general_utils import AttrDict\n",
    "from reward_induced.src.reward_predictor_model import RewardPredictorModel, R_CLASSES_BASE\n",
    "from sprites_datagen.moving_sprites import MovingSpriteDataset\n",
    "from sprites_datagen.rewards import *\n"
   ]
  },
  {
   "cell_type": "code",
   "execution_count": 3,
   "metadata": {},
   "outputs": [],
   "source": [
    "spec = AttrDict(\n",
    "        resolution=64,\n",
    "        max_seq_len=30,\n",
    "        max_speed=0.05,      # total image range [0, 1]\n",
    "        obj_size=0.2,       # size of objects, full images is 1.0\n",
    "        shapes_per_traj=4,      # number of shapes per trajectory\n",
    "        rewards=[AgentXReward, AgentYReward, TargetXReward, TargetYReward],\n",
    "    )"
   ]
  },
  {
   "cell_type": "code",
   "execution_count": 4,
   "metadata": {},
   "outputs": [
    {
     "data": {
      "text/plain": [
       "{'agent_x': array([0.33250925, 0.3556759 , 0.3788426 , 0.40200928, 0.42517594,\n",
       "        0.44834262, 0.47150928, 0.49467596, 0.51784265, 0.5410093 ,\n",
       "        0.564176  , 0.5873427 , 0.61050934, 0.63367605, 0.6568427 ,\n",
       "        0.68000937, 0.7031761 , 0.72634274, 0.7495094 , 0.7726761 ,\n",
       "        0.79584277, 0.8190094 , 0.84217614, 0.8653428 , 0.88850945,\n",
       "        0.88832384, 0.8651572 , 0.84199053, 0.8188238 , 0.79565716],\n",
       "       dtype=float32),\n",
       " 'agent_y': array([0.8269267 , 0.87068504, 0.8855566 , 0.84179825, 0.79803985,\n",
       "        0.7542815 , 0.7105231 , 0.6667648 , 0.62300646, 0.5792481 ,\n",
       "        0.53548974, 0.49173138, 0.447973  , 0.40421465, 0.3604563 ,\n",
       "        0.31669796, 0.2729396 , 0.22918123, 0.18542287, 0.1416645 ,\n",
       "        0.10209385, 0.14585221, 0.18961056, 0.23336892, 0.27712727,\n",
       "        0.32088563, 0.364644  , 0.40840235, 0.45216072, 0.49591905],\n",
       "       dtype=float32),\n",
       " 'target_x': array([0.58890444, 0.5892771 , 0.5896498 , 0.59002244, 0.5903951 ,\n",
       "        0.59076774, 0.5911404 , 0.5915131 , 0.59188575, 0.5922584 ,\n",
       "        0.59263104, 0.5930037 , 0.59337634, 0.59374905, 0.5941217 ,\n",
       "        0.59449434, 0.594867  , 0.59523964, 0.5956123 , 0.595985  ,\n",
       "        0.59635764, 0.5967303 , 0.59710294, 0.5974756 , 0.5978483 ,\n",
       "        0.59822094, 0.5985936 , 0.59896624, 0.5993389 , 0.59971154],\n",
       "       dtype=float32),\n",
       " 'target_y': array([0.6721043 , 0.62231094, 0.5725176 , 0.52272415, 0.47293082,\n",
       "        0.42313743, 0.37334406, 0.32355067, 0.2737573 , 0.22396393,\n",
       "        0.17417055, 0.12437718, 0.12541619, 0.17520957, 0.22500294,\n",
       "        0.2747963 , 0.3245897 , 0.37438306, 0.42417645, 0.47396982,\n",
       "        0.5237632 , 0.57355654, 0.62334996, 0.6731433 , 0.7229367 ,\n",
       "        0.77273005, 0.8225234 , 0.87231684, 0.8778898 , 0.82809645],\n",
       "       dtype=float32)}"
      ]
     },
     "execution_count": 4,
     "metadata": {},
     "output_type": "execute_result"
    }
   ],
   "source": [
    "dataset = MovingSpriteDataset(spec)\n",
    "dataset[0]['rewards']"
   ]
  },
  {
   "cell_type": "markdown",
   "metadata": {},
   "source": [
    "# Train reward-induced representations with **RPM image encoder**"
   ]
  },
  {
   "cell_type": "code",
   "execution_count": 5,
   "metadata": {},
   "outputs": [],
   "source": [
    "# some hyperparameters\n",
    "image_shape = (3, 64, 64)\n",
    "n_frames = 10  # number of conditioning frames\n",
    "T_future = 20  # number of future frames to predict rewards for\n",
    "\n",
    "lr = 1e-3\n",
    "n_iter = 10_000\n",
    "log_interval = 1_000\n",
    "\n",
    "device = torch.device('cuda' if torch.cuda.is_available() else 'cpu')"
   ]
  },
  {
   "cell_type": "code",
   "execution_count": 6,
   "metadata": {},
   "outputs": [],
   "source": [
    "# # DEBUG - check computation graph of the model\n",
    "# os.environ[\"PATH\"] += os.pathsep + 'C:/Program Files/Graphviz/bin/'\n",
    "\n",
    "# from torchviz import make_dot\n",
    "\n",
    "# model = RewardPredictorModel(image_shape, n_frames, T_future).to(device)\n",
    "# image = dataset[0]['images']\n",
    "# image = torch.tensor(image).to(device)\n",
    "# pred_rewards = model(image[:n_frames].unsqueeze(0),\n",
    "#                      image[n_frames:].unsqueeze(0))['agent_x']\n",
    "\n",
    "# make_dot(pred_rewards, params=dict(model.named_parameters())).render('RPM_comp_graph', format='png')\n",
    "# make_dot(pred_rewards, params=dict(model.named_parameters()), show_attrs=True, show_saved=True).render('RPM_comp_graph_back_prop', format='png')"
   ]
  },
  {
   "cell_type": "code",
   "execution_count": 7,
   "metadata": {},
   "outputs": [],
   "source": [
    "def train_RPM(model, dataset, loss_fn, optimizer, device, is_complete=True):\n",
    "\tlosses = []\n",
    "\tmodel.to(device)\n",
    "\tprint(f'[INFO] Training complete reward predictor model on device: {device} ...')\n",
    "\n",
    "\tfor itr in trange(n_iter):\n",
    "\t\t# always call `gen_trajectory` method regardless of `itr`\n",
    "\t\tdata = dataset[itr]\n",
    "\t\timages = torch.tensor(data.images).to(device)\n",
    "\t\trewards = {k: torch.tensor(v, dtype=torch.float32, device=device) for k, v in data.rewards.items()}\n",
    "\n",
    "\t\t# considering incomplete reward annotations\n",
    "\t\treward_type_list = random.sample(R_CLASSES_BASE, k=3) if not is_complete else R_CLASSES_BASE\n",
    "\n",
    "\t\t# predict rewards with RPM\n",
    "\t\tpred_rewards, _ = model(\n",
    "\t\t\tframes=images,\n",
    "\t\t\treward_type_list=reward_type_list\n",
    "\t\t)\n",
    "\n",
    "\t\t# compute loss for each reward type\n",
    "\t\tloss = 0\n",
    "\t\tfor reward_type, pred_reward in pred_rewards.items():\n",
    "\t\t\treward = rewards[reward_type][-T_future:]\n",
    "\t\t\tloss += loss_fn(pred_reward, reward)\n",
    "\n",
    "\t\toptimizer.zero_grad()\n",
    "\t\tloss.backward()\n",
    "\t\toptimizer.step()\n",
    "\n",
    "\t\tlosses.append(loss.item())\n",
    "\t\tif (itr+1) % log_interval == 0:\n",
    "\t\t\tprint(f'[{itr+1} / {n_iter}] RPM loss: {loss.item()}')\n",
    "\n",
    "\treturn losses"
   ]
  },
  {
   "cell_type": "code",
   "execution_count": 8,
   "metadata": {},
   "outputs": [],
   "source": [
    "def moving_average(data, window_size):\n",
    "    return np.convolve(data, np.ones(window_size)/window_size, mode='valid')"
   ]
  },
  {
   "cell_type": "markdown",
   "metadata": {},
   "source": [
    "### (a) Train with complete reward annotation"
   ]
  },
  {
   "cell_type": "code",
   "execution_count": 9,
   "metadata": {},
   "outputs": [],
   "source": [
    "model = RewardPredictorModel(image_shape, n_frames, T_future)\n",
    "loss_fn = nn.MSELoss()\n",
    "\n",
    "optimizer = RAdam(model.parameters(), lr=lr)"
   ]
  },
  {
   "cell_type": "code",
   "execution_count": 10,
   "metadata": {},
   "outputs": [
    {
     "name": "stdout",
     "output_type": "stream",
     "text": [
      "[INFO] Training complete reward predictor model on device: cuda ...\n"
     ]
    },
    {
     "name": "stderr",
     "output_type": "stream",
     "text": [
      " 10%|█         | 1005/10000 [00:27<03:49, 39.15it/s]"
     ]
    },
    {
     "name": "stdout",
     "output_type": "stream",
     "text": [
      "[1000 / 10000] RPM loss: 0.07580973953008652\n"
     ]
    },
    {
     "name": "stderr",
     "output_type": "stream",
     "text": [
      " 20%|██        | 2005/10000 [00:56<04:13, 31.50it/s]"
     ]
    },
    {
     "name": "stdout",
     "output_type": "stream",
     "text": [
      "[2000 / 10000] RPM loss: 0.08333932608366013\n"
     ]
    },
    {
     "name": "stderr",
     "output_type": "stream",
     "text": [
      " 30%|███       | 3005/10000 [01:26<03:26, 33.80it/s]"
     ]
    },
    {
     "name": "stdout",
     "output_type": "stream",
     "text": [
      "[3000 / 10000] RPM loss: 0.10045958310365677\n"
     ]
    },
    {
     "name": "stderr",
     "output_type": "stream",
     "text": [
      " 40%|████      | 4004/10000 [01:58<03:15, 30.68it/s]"
     ]
    },
    {
     "name": "stdout",
     "output_type": "stream",
     "text": [
      "[4000 / 10000] RPM loss: 0.12259286642074585\n"
     ]
    },
    {
     "name": "stderr",
     "output_type": "stream",
     "text": [
      " 50%|█████     | 5004/10000 [02:29<02:23, 34.76it/s]"
     ]
    },
    {
     "name": "stdout",
     "output_type": "stream",
     "text": [
      "[5000 / 10000] RPM loss: 0.03216881677508354\n"
     ]
    },
    {
     "name": "stderr",
     "output_type": "stream",
     "text": [
      " 60%|██████    | 6005/10000 [03:00<02:00, 33.18it/s]"
     ]
    },
    {
     "name": "stdout",
     "output_type": "stream",
     "text": [
      "[6000 / 10000] RPM loss: 0.17230141162872314\n"
     ]
    },
    {
     "name": "stderr",
     "output_type": "stream",
     "text": [
      " 70%|███████   | 7004/10000 [03:31<01:34, 31.83it/s]"
     ]
    },
    {
     "name": "stdout",
     "output_type": "stream",
     "text": [
      "[7000 / 10000] RPM loss: 0.05865514650940895\n"
     ]
    },
    {
     "name": "stderr",
     "output_type": "stream",
     "text": [
      " 80%|████████  | 8006/10000 [04:02<01:02, 31.74it/s]"
     ]
    },
    {
     "name": "stdout",
     "output_type": "stream",
     "text": [
      "[8000 / 10000] RPM loss: 0.07651465386152267\n"
     ]
    },
    {
     "name": "stderr",
     "output_type": "stream",
     "text": [
      " 90%|█████████ | 9003/10000 [04:33<00:30, 32.31it/s]"
     ]
    },
    {
     "name": "stdout",
     "output_type": "stream",
     "text": [
      "[9000 / 10000] RPM loss: 0.07448817789554596\n"
     ]
    },
    {
     "name": "stderr",
     "output_type": "stream",
     "text": [
      "100%|██████████| 10000/10000 [05:05<00:00, 32.75it/s]"
     ]
    },
    {
     "name": "stdout",
     "output_type": "stream",
     "text": [
      "[10000 / 10000] RPM loss: 0.06867115944623947\n"
     ]
    },
    {
     "name": "stderr",
     "output_type": "stream",
     "text": [
      "\n"
     ]
    }
   ],
   "source": [
    "losses_complete_reward = train_RPM(model, dataset, loss_fn, optimizer, device, is_complete=True)"
   ]
  },
  {
   "cell_type": "code",
   "execution_count": 11,
   "metadata": {},
   "outputs": [
    {
     "data": {
      "image/png": "[encoded data removed]",
      "text/plain": [
       "<Figure size 640x480 with 1 Axes>"
      ]
     },
     "metadata": {},
     "output_type": "display_data"
    }
   ],
   "source": [
    "# Visualize the losses\n",
    "window_size = 200\n",
    "ma_losses = moving_average(losses_complete_reward, window_size)\n",
    "\n",
    "plt.plot(losses_complete_reward, label='Original loss')\n",
    "plt.plot(np.arange(window_size-1, len(ma_losses)+window_size-1), ma_losses, label='Moving Average', color='red')\n",
    "\n",
    "plt.xlabel('Iteration')\n",
    "plt.ylabel('Loss')\n",
    "plt.title('Complete reward predictor training loss')\n",
    "plt.legend()\n",
    "plt.show()"
   ]
  },
  {
   "cell_type": "code",
   "execution_count": 12,
   "metadata": {},
   "outputs": [],
   "source": [
    "PATH = 'models/complete_RPM_1e-3_1M.pth'\n",
    "torch.save(model.state_dict(), PATH)"
   ]
  },
  {
   "cell_type": "code",
   "execution_count": 13,
   "metadata": {},
   "outputs": [
    {
     "data": {
      "text/plain": [
       "<All keys matched successfully>"
      ]
     },
     "execution_count": 13,
     "metadata": {},
     "output_type": "execute_result"
    }
   ],
   "source": [
    "model = RewardPredictorModel(image_shape, n_frames, T_future)\n",
    "model.load_state_dict(torch.load(PATH))  # test save and load"
   ]
  },
  {
   "cell_type": "markdown",
   "metadata": {},
   "source": [
    "### (b) Train with incomplete reward annotation"
   ]
  },
  {
   "cell_type": "code",
   "execution_count": 14,
   "metadata": {},
   "outputs": [],
   "source": [
    "model = RewardPredictorModel(image_shape, n_frames, T_future)\n",
    "loss_fn = nn.MSELoss()\n",
    "\n",
    "optimizer = RAdam(model.parameters(), lr=lr)"
   ]
  },
  {
   "cell_type": "code",
   "execution_count": 15,
   "metadata": {},
   "outputs": [
    {
     "name": "stdout",
     "output_type": "stream",
     "text": [
      "[INFO] Training complete reward predictor model on device: cuda ...\n"
     ]
    },
    {
     "name": "stderr",
     "output_type": "stream",
     "text": [
      " 10%|█         | 1004/10000 [00:29<04:10, 35.93it/s]"
     ]
    },
    {
     "name": "stdout",
     "output_type": "stream",
     "text": [
      "[1000 / 10000] RPM loss: 0.12175482511520386\n"
     ]
    },
    {
     "name": "stderr",
     "output_type": "stream",
     "text": [
      " 20%|██        | 2005/10000 [00:58<03:38, 36.56it/s]"
     ]
    },
    {
     "name": "stdout",
     "output_type": "stream",
     "text": [
      "[2000 / 10000] RPM loss: 0.049274034798145294\n"
     ]
    },
    {
     "name": "stderr",
     "output_type": "stream",
     "text": [
      " 30%|███       | 3005/10000 [01:27<03:11, 36.51it/s]"
     ]
    },
    {
     "name": "stdout",
     "output_type": "stream",
     "text": [
      "[3000 / 10000] RPM loss: 0.08561313152313232\n"
     ]
    },
    {
     "name": "stderr",
     "output_type": "stream",
     "text": [
      " 40%|████      | 4005/10000 [01:56<02:46, 36.06it/s]"
     ]
    },
    {
     "name": "stdout",
     "output_type": "stream",
     "text": [
      "[4000 / 10000] RPM loss: 0.0976649671792984\n"
     ]
    },
    {
     "name": "stderr",
     "output_type": "stream",
     "text": [
      " 50%|█████     | 5004/10000 [02:26<02:41, 30.98it/s]"
     ]
    },
    {
     "name": "stdout",
     "output_type": "stream",
     "text": [
      "[5000 / 10000] RPM loss: 0.04634124040603638\n"
     ]
    },
    {
     "name": "stderr",
     "output_type": "stream",
     "text": [
      " 60%|██████    | 6005/10000 [02:56<01:48, 36.99it/s]"
     ]
    },
    {
     "name": "stdout",
     "output_type": "stream",
     "text": [
      "[6000 / 10000] RPM loss: 0.10726937651634216\n"
     ]
    },
    {
     "name": "stderr",
     "output_type": "stream",
     "text": [
      " 70%|███████   | 7004/10000 [03:26<01:21, 36.67it/s]"
     ]
    },
    {
     "name": "stdout",
     "output_type": "stream",
     "text": [
      "[7000 / 10000] RPM loss: 0.08041027933359146\n"
     ]
    },
    {
     "name": "stderr",
     "output_type": "stream",
     "text": [
      " 80%|████████  | 8004/10000 [03:55<01:06, 30.23it/s]"
     ]
    },
    {
     "name": "stdout",
     "output_type": "stream",
     "text": [
      "[8000 / 10000] RPM loss: 0.08794198930263519\n"
     ]
    },
    {
     "name": "stderr",
     "output_type": "stream",
     "text": [
      " 90%|█████████ | 9004/10000 [04:26<00:36, 27.12it/s]"
     ]
    },
    {
     "name": "stdout",
     "output_type": "stream",
     "text": [
      "[9000 / 10000] RPM loss: 0.014873798005282879\n"
     ]
    },
    {
     "name": "stderr",
     "output_type": "stream",
     "text": [
      "100%|██████████| 10000/10000 [04:58<00:00, 33.54it/s]"
     ]
    },
    {
     "name": "stdout",
     "output_type": "stream",
     "text": [
      "[10000 / 10000] RPM loss: 0.06673869490623474\n"
     ]
    },
    {
     "name": "stderr",
     "output_type": "stream",
     "text": [
      "\n"
     ]
    }
   ],
   "source": [
    "losses_incomplete_reward = train_RPM(model, dataset, loss_fn, optimizer, device, is_complete=False)"
   ]
  },
  {
   "cell_type": "code",
   "execution_count": 16,
   "metadata": {},
   "outputs": [
    {
     "data": {
      "image/png": "[encoded data removed]",
      "text/plain": [
       "<Figure size 640x480 with 1 Axes>"
      ]
     },
     "metadata": {},
     "output_type": "display_data"
    }
   ],
   "source": [
    "# Visualize the losses\n",
    "window_size = 200\n",
    "ma_losses = moving_average(losses_complete_reward, window_size)\n",
    "\n",
    "plt.plot(losses_complete_reward, label='Original loss')\n",
    "plt.plot(np.arange(window_size-1, len(ma_losses)+window_size-1), ma_losses, label='Moving Average', color='red')\n",
    "\n",
    "plt.xlabel('Iteration')\n",
    "plt.ylabel('Loss')\n",
    "plt.title('Incomplete reward predictor training loss')\n",
    "plt.legend()\n",
    "plt.show()"
   ]
  },
  {
   "cell_type": "code",
   "execution_count": 17,
   "metadata": {},
   "outputs": [],
   "source": [
    "PATH = 'models/incomplete_RPM_1e-3_1M.pth'\n",
    "torch.save(model.state_dict(), PATH)"
   ]
  },
  {
   "cell_type": "code",
   "execution_count": 18,
   "metadata": {},
   "outputs": [
    {
     "data": {
      "text/plain": [
       "<All keys matched successfully>"
      ]
     },
     "execution_count": 18,
     "metadata": {},
     "output_type": "execute_result"
    }
   ],
   "source": [
    "model = RewardPredictorModel(image_shape, n_frames, T_future)\n",
    "model.load_state_dict(torch.load(PATH))  # test save and load"
   ]
  },
  {
   "cell_type": "code",
   "execution_count": null,
   "metadata": {},
   "outputs": [],
   "source": []
  }
 ],
 "metadata": {
  "kernelspec": {
   "display_name": "2024Spring",
   "language": "python",
   "name": "python3"
  },
  "language_info": {
   "codemirror_mode": {
    "name": "ipython",
    "version": 3
   },
   "file_extension": ".py",
   "mimetype": "text/x-python",
   "name": "python",
   "nbconvert_exporter": "python",
   "pygments_lexer": "ipython3",
   "version": "3.10.14"
  }
 },
 "nbformat": 4,
 "nbformat_minor": 2
}
