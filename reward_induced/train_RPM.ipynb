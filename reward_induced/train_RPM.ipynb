{
 "cells": [
  {
   "cell_type": "code",
   "execution_count": 1,
   "metadata": {},
   "outputs": [],
   "source": [
    "import os\n",
    "import sys\n",
    "nb_dir = os.path.split(os.getcwd())[0]\n",
    "if nb_dir not in sys.path:\n",
    "\tsys.path.append(nb_dir)"
   ]
  },
  {
   "cell_type": "code",
   "execution_count": 2,
   "metadata": {},
   "outputs": [
    {
     "name": "stderr",
     "output_type": "stream",
     "text": [
      "/home/thisiswooyeol/anaconda3/envs/2024Spring/lib/python3.10/site-packages/tqdm/auto.py:21: TqdmWarning: IProgress not found. Please update jupyter and ipywidgets. See https://ipywidgets.readthedocs.io/en/stable/user_install.html\n",
      "  from .autonotebook import tqdm as notebook_tqdm\n"
     ]
    }
   ],
   "source": [
    "import torch\n",
    "import torch.nn as nn\n",
    "from torch.optim.radam import RAdam\n",
    "\n",
    "import matplotlib.pyplot as plt\n",
    "import random\n",
    "from tqdm import trange\n",
    "\n",
    "from general_utils import AttrDict\n",
    "from reward_induced.src.reward_predictor_model import RewardPredictorModel, R_CLASSES_BASE\n",
    "from sprites_datagen.moving_sprites import MovingSpriteDataset\n",
    "from sprites_datagen.rewards import *\n"
   ]
  },
  {
   "cell_type": "code",
   "execution_count": 3,
   "metadata": {},
   "outputs": [],
   "source": [
    "spec = AttrDict(\n",
    "        resolution=64,\n",
    "        max_seq_len=30,\n",
    "        max_speed=0.05,      # total image range [0, 1]\n",
    "        obj_size=0.2,       # size of objects, full images is 1.0\n",
    "        shapes_per_traj=4,      # number of shapes per trajectory\n",
    "        rewards=[AgentXReward, AgentYReward, TargetXReward, TargetYReward],\n",
    "    )"
   ]
  },
  {
   "cell_type": "code",
   "execution_count": 4,
   "metadata": {},
   "outputs": [
    {
     "data": {
      "text/plain": [
       "{'agent_x': array([0.13501008, 0.17133477, 0.20765947, 0.24398416, 0.28030887,\n",
       "        0.31663355, 0.35295826, 0.38928294, 0.42560765, 0.46193236,\n",
       "        0.49825704, 0.5345817 , 0.57090646, 0.60723114, 0.6435558 ,\n",
       "        0.67988056, 0.71620524, 0.7525299 , 0.7888546 , 0.82517934,\n",
       "        0.861504  , 0.8978287 , 0.8658466 , 0.8295219 , 0.7931972 ,\n",
       "        0.7568725 , 0.7205478 , 0.6842231 , 0.6478984 , 0.6115737 ],\n",
       "       dtype=float32),\n",
       " 'agent_y': array([0.23064317, 0.18865335, 0.14666353, 0.10467372, 0.1373161 ,\n",
       "        0.17930591, 0.22129571, 0.26328555, 0.30527535, 0.34726515,\n",
       "        0.389255  , 0.4312448 , 0.4732346 , 0.5152244 , 0.5572142 ,\n",
       "        0.59920406, 0.64119387, 0.68318367, 0.7251735 , 0.7671633 ,\n",
       "        0.80915314, 0.85114294, 0.89313275, 0.86487746, 0.82288766,\n",
       "        0.7808978 , 0.738908  , 0.6969182 , 0.6549284 , 0.6129386 ],\n",
       "       dtype=float32),\n",
       " 'target_x': array([0.7416533 , 0.7549472 , 0.7682411 , 0.78153497, 0.7948289 ,\n",
       "        0.80812275, 0.8214167 , 0.8347106 , 0.84800446, 0.8612984 ,\n",
       "        0.87459224, 0.88788617, 0.89882   , 0.88552606, 0.8722322 ,\n",
       "        0.8589383 , 0.8456444 , 0.8323505 , 0.81905663, 0.8057627 ,\n",
       "        0.79246885, 0.7791749 , 0.76588106, 0.75258714, 0.7392933 ,\n",
       "        0.72599936, 0.7127055 , 0.6994116 , 0.68611765, 0.6728238 ],\n",
       "       dtype=float32),\n",
       " 'target_y': array([0.684893  , 0.69106305, 0.6972331 , 0.7034031 , 0.70957315,\n",
       "        0.71574324, 0.7219133 , 0.7280833 , 0.73425335, 0.7404234 ,\n",
       "        0.7465935 , 0.7527635 , 0.75893354, 0.7651036 , 0.7712736 ,\n",
       "        0.7774437 , 0.78361374, 0.7897838 , 0.7959538 , 0.80212384,\n",
       "        0.80829394, 0.814464  , 0.820634  , 0.82680404, 0.8329741 ,\n",
       "        0.8391442 , 0.8453142 , 0.85148424, 0.8576543 , 0.86382437],\n",
       "       dtype=float32)}"
      ]
     },
     "execution_count": 4,
     "metadata": {},
     "output_type": "execute_result"
    }
   ],
   "source": [
    "dataset = MovingSpriteDataset(spec)\n",
    "dataset[0]['rewards']"
   ]
  },
  {
   "cell_type": "markdown",
   "metadata": {},
   "source": [
    "# Train reward-induced representations with **RPM image encoder**"
   ]
  },
  {
   "cell_type": "code",
   "execution_count": 5,
   "metadata": {},
   "outputs": [],
   "source": [
    "# some hyperparameters\n",
    "image_shape = (3, 64, 64)\n",
    "n_frames = 1   # number of conditioning frames\n",
    "T_future = 29  # number of future frames to predict rewards for\n",
    "\n",
    "lr = 1e-3\n",
    "n_iter = 10_000\n",
    "log_interval = 1_000\n",
    "\n",
    "device = torch.device('cuda' if torch.cuda.is_available() else 'cpu')"
   ]
  },
  {
   "cell_type": "code",
   "execution_count": 6,
   "metadata": {},
   "outputs": [],
   "source": [
    "# # DEBUG - check computation graph of the model\n",
    "# os.environ[\"PATH\"] += os.pathsep + 'C:/Program Files/Graphviz/bin/'\n",
    "\n",
    "# from torchviz import make_dot\n",
    "\n",
    "# model = RewardPredictorModel(image_shape, n_frames, T_future).to(device)\n",
    "# image = dataset[0]['images']\n",
    "# image = torch.tensor(image).to(device)\n",
    "# pred_rewards = model(image[:n_frames].unsqueeze(0),\n",
    "#                      image[n_frames:].unsqueeze(0))['agent_x']\n",
    "\n",
    "# make_dot(pred_rewards, params=dict(model.named_parameters())).render('RPM_comp_graph', format='png')\n",
    "# make_dot(pred_rewards, params=dict(model.named_parameters()), show_attrs=True, show_saved=True).render('RPM_comp_graph_back_prop', format='png')"
   ]
  },
  {
   "cell_type": "code",
   "execution_count": 7,
   "metadata": {},
   "outputs": [],
   "source": [
    "def train_RPM(model, dataset, loss_fn, optimizer, device, is_complete=True):\n",
    "\tlosses = []\n",
    "\tmodel.to(device)\n",
    "\tprint(f'[INFO] Training complete reward predictor model on device: {device} ...')\n",
    "\n",
    "\tfor itr in trange(n_iter):\n",
    "\t\t# always call `gen_trajectory` method regardless of `itr`\n",
    "\t\tdata = dataset[itr]\n",
    "\t\timages = torch.tensor(data.images).to(device)\n",
    "\t\trewards = {k: torch.tensor(v, dtype=torch.float32, device=device) for k, v in data.rewards.items()}\n",
    "\n",
    "\t\t# considering incomplete reward annotations\n",
    "\t\treward_type_list = random.sample(R_CLASSES_BASE, k=3) if not is_complete else R_CLASSES_BASE\n",
    "\n",
    "\t\t# predict rewards with RPM\n",
    "\t\tpred_rewards = model(\n",
    "\t\t\tframes=images,\n",
    "\t\t\treward_type_list=reward_type_list\n",
    "\t\t)\n",
    "\n",
    "\t\t# compute loss for each reward type\n",
    "\t\tloss = 0\n",
    "\t\tfor reward_type, pred_reward in pred_rewards.items():\n",
    "\t\t\treward = rewards[reward_type][-T_future:]\n",
    "\t\t\tloss += loss_fn(pred_reward, reward)\n",
    "\n",
    "\t\toptimizer.zero_grad()\n",
    "\t\tloss.backward()\n",
    "\t\toptimizer.step()\n",
    "\n",
    "\t\tlosses.append(loss.item())\n",
    "\t\tif (itr+1) % log_interval == 0:\n",
    "\t\t\tprint(f'[{itr+1} / {n_iter}] RPM loss: {loss.item()}')\n",
    "\n",
    "\treturn losses"
   ]
  },
  {
   "cell_type": "code",
   "execution_count": 8,
   "metadata": {},
   "outputs": [],
   "source": [
    "def moving_average(data, window_size):\n",
    "    return np.convolve(data, np.ones(window_size)/window_size, mode='valid')"
   ]
  },
  {
   "cell_type": "markdown",
   "metadata": {},
   "source": [
    "### (a) Train with complete reward annotation"
   ]
  },
  {
   "cell_type": "code",
   "execution_count": 9,
   "metadata": {},
   "outputs": [],
   "source": [
    "model = RewardPredictorModel(image_shape, n_frames, T_future)\n",
    "loss_fn = nn.MSELoss()\n",
    "\n",
    "optimizer = RAdam(model.parameters(), lr=lr)"
   ]
  },
  {
   "cell_type": "code",
   "execution_count": 10,
   "metadata": {},
   "outputs": [
    {
     "name": "stdout",
     "output_type": "stream",
     "text": [
      "[INFO] Training complete reward predictor model on device: cuda ...\n"
     ]
    },
    {
     "name": "stderr",
     "output_type": "stream",
     "text": [
      " 10%|█         | 1005/10000 [00:33<05:22, 27.85it/s]"
     ]
    },
    {
     "name": "stdout",
     "output_type": "stream",
     "text": [
      "[1000 / 10000] RPM loss: 0.20785579085350037\n"
     ]
    },
    {
     "name": "stderr",
     "output_type": "stream",
     "text": [
      " 20%|██        | 2003/10000 [01:06<04:07, 32.33it/s]"
     ]
    },
    {
     "name": "stdout",
     "output_type": "stream",
     "text": [
      "[2000 / 10000] RPM loss: 0.26572054624557495\n"
     ]
    },
    {
     "name": "stderr",
     "output_type": "stream",
     "text": [
      " 30%|███       | 3005/10000 [01:37<03:01, 38.50it/s]"
     ]
    },
    {
     "name": "stdout",
     "output_type": "stream",
     "text": [
      "[3000 / 10000] RPM loss: 0.15791276097297668\n"
     ]
    },
    {
     "name": "stderr",
     "output_type": "stream",
     "text": [
      " 40%|████      | 4003/10000 [02:08<04:27, 22.45it/s]"
     ]
    },
    {
     "name": "stdout",
     "output_type": "stream",
     "text": [
      "[4000 / 10000] RPM loss: 0.1274043172597885\n"
     ]
    },
    {
     "name": "stderr",
     "output_type": "stream",
     "text": [
      " 50%|█████     | 5005/10000 [02:35<02:16, 36.54it/s]"
     ]
    },
    {
     "name": "stdout",
     "output_type": "stream",
     "text": [
      "[5000 / 10000] RPM loss: 0.1763981133699417\n"
     ]
    },
    {
     "name": "stderr",
     "output_type": "stream",
     "text": [
      " 60%|██████    | 6004/10000 [03:03<01:51, 35.94it/s]"
     ]
    },
    {
     "name": "stdout",
     "output_type": "stream",
     "text": [
      "[6000 / 10000] RPM loss: 0.07979334890842438\n"
     ]
    },
    {
     "name": "stderr",
     "output_type": "stream",
     "text": [
      " 70%|███████   | 7006/10000 [03:30<01:16, 39.39it/s]"
     ]
    },
    {
     "name": "stdout",
     "output_type": "stream",
     "text": [
      "[7000 / 10000] RPM loss: 0.1076849102973938\n"
     ]
    },
    {
     "name": "stderr",
     "output_type": "stream",
     "text": [
      " 80%|████████  | 8004/10000 [03:56<00:50, 39.72it/s]"
     ]
    },
    {
     "name": "stdout",
     "output_type": "stream",
     "text": [
      "[8000 / 10000] RPM loss: 0.09306646883487701\n"
     ]
    },
    {
     "name": "stderr",
     "output_type": "stream",
     "text": [
      " 90%|█████████ | 9003/10000 [04:23<00:30, 32.87it/s]"
     ]
    },
    {
     "name": "stdout",
     "output_type": "stream",
     "text": [
      "[9000 / 10000] RPM loss: 0.1348920464515686\n"
     ]
    },
    {
     "name": "stderr",
     "output_type": "stream",
     "text": [
      "100%|██████████| 10000/10000 [04:50<00:00, 34.48it/s]"
     ]
    },
    {
     "name": "stdout",
     "output_type": "stream",
     "text": [
      "[10000 / 10000] RPM loss: 0.08672275394201279\n"
     ]
    },
    {
     "name": "stderr",
     "output_type": "stream",
     "text": [
      "\n"
     ]
    }
   ],
   "source": [
    "losses_complete_reward = train_RPM(model, dataset, loss_fn, optimizer, device, is_complete=True)"
   ]
  },
  {
   "cell_type": "code",
   "execution_count": 11,
   "metadata": {},
   "outputs": [
    {
     "data": {
      "image/png": "[encoded data removed]",
      "text/plain": [
       "<Figure size 640x480 with 1 Axes>"
      ]
     },
     "metadata": {},
     "output_type": "display_data"
    }
   ],
   "source": [
    "# Visualize the losses\n",
    "window_size = 200\n",
    "ma_losses = moving_average(losses_complete_reward, window_size)\n",
    "\n",
    "plt.plot(losses_complete_reward, label='Original loss')\n",
    "plt.plot(np.arange(window_size-1, len(ma_losses)+window_size-1), ma_losses, label='Moving Average', color='red')\n",
    "\n",
    "plt.xlabel('Iteration')\n",
    "plt.ylabel('Loss')\n",
    "plt.title('Complete reward predictor training loss')\n",
    "plt.legend()\n",
    "plt.show()"
   ]
  },
  {
   "cell_type": "code",
   "execution_count": 12,
   "metadata": {},
   "outputs": [],
   "source": [
    "PATH = 'models/complete_RPM_1e-3_1M.pth'\n",
    "torch.save(model.state_dict(), PATH)"
   ]
  },
  {
   "cell_type": "code",
   "execution_count": 13,
   "metadata": {},
   "outputs": [
    {
     "data": {
      "text/plain": [
       "<All keys matched successfully>"
      ]
     },
     "execution_count": 13,
     "metadata": {},
     "output_type": "execute_result"
    }
   ],
   "source": [
    "model = RewardPredictorModel(image_shape, n_frames, T_future)\n",
    "model.load_state_dict(torch.load(PATH))  # test save and load"
   ]
  },
  {
   "cell_type": "markdown",
   "metadata": {},
   "source": [
    "### (b) Train with incomplete reward annotation"
   ]
  },
  {
   "cell_type": "code",
   "execution_count": 14,
   "metadata": {},
   "outputs": [],
   "source": [
    "model = RewardPredictorModel(image_shape, n_frames, T_future)\n",
    "loss_fn = nn.MSELoss()\n",
    "\n",
    "optimizer = RAdam(model.parameters(), lr=lr)"
   ]
  },
  {
   "cell_type": "code",
   "execution_count": 15,
   "metadata": {},
   "outputs": [
    {
     "name": "stdout",
     "output_type": "stream",
     "text": [
      "[INFO] Training complete reward predictor model on device: cuda ...\n"
     ]
    },
    {
     "name": "stderr",
     "output_type": "stream",
     "text": [
      " 10%|█         | 1004/10000 [00:26<04:29, 33.42it/s]"
     ]
    },
    {
     "name": "stdout",
     "output_type": "stream",
     "text": [
      "[1000 / 10000] RPM loss: 0.15597134828567505\n"
     ]
    },
    {
     "name": "stderr",
     "output_type": "stream",
     "text": [
      " 20%|██        | 2003/10000 [00:52<04:04, 32.74it/s]"
     ]
    },
    {
     "name": "stdout",
     "output_type": "stream",
     "text": [
      "[2000 / 10000] RPM loss: 0.11480176448822021\n"
     ]
    },
    {
     "name": "stderr",
     "output_type": "stream",
     "text": [
      " 30%|███       | 3006/10000 [01:18<03:02, 38.38it/s]"
     ]
    },
    {
     "name": "stdout",
     "output_type": "stream",
     "text": [
      "[3000 / 10000] RPM loss: 0.11784325540065765\n"
     ]
    },
    {
     "name": "stderr",
     "output_type": "stream",
     "text": [
      " 40%|████      | 4003/10000 [01:44<02:35, 38.62it/s]"
     ]
    },
    {
     "name": "stdout",
     "output_type": "stream",
     "text": [
      "[4000 / 10000] RPM loss: 0.010976355522871017\n"
     ]
    },
    {
     "name": "stderr",
     "output_type": "stream",
     "text": [
      " 50%|█████     | 5004/10000 [02:10<02:17, 36.37it/s]"
     ]
    },
    {
     "name": "stdout",
     "output_type": "stream",
     "text": [
      "[5000 / 10000] RPM loss: 0.005763606168329716\n"
     ]
    },
    {
     "name": "stderr",
     "output_type": "stream",
     "text": [
      " 60%|██████    | 6003/10000 [02:36<01:59, 33.36it/s]"
     ]
    },
    {
     "name": "stdout",
     "output_type": "stream",
     "text": [
      "[6000 / 10000] RPM loss: 0.08392321318387985\n"
     ]
    },
    {
     "name": "stderr",
     "output_type": "stream",
     "text": [
      " 70%|███████   | 7003/10000 [03:02<01:28, 33.97it/s]"
     ]
    },
    {
     "name": "stdout",
     "output_type": "stream",
     "text": [
      "[7000 / 10000] RPM loss: 0.0686158612370491\n"
     ]
    },
    {
     "name": "stderr",
     "output_type": "stream",
     "text": [
      " 80%|████████  | 8005/10000 [03:27<00:58, 33.99it/s]"
     ]
    },
    {
     "name": "stdout",
     "output_type": "stream",
     "text": [
      "[8000 / 10000] RPM loss: 0.18926388025283813\n"
     ]
    },
    {
     "name": "stderr",
     "output_type": "stream",
     "text": [
      " 90%|█████████ | 9008/10000 [03:53<00:23, 41.37it/s]"
     ]
    },
    {
     "name": "stdout",
     "output_type": "stream",
     "text": [
      "[9000 / 10000] RPM loss: 0.041991621255874634\n"
     ]
    },
    {
     "name": "stderr",
     "output_type": "stream",
     "text": [
      "100%|██████████| 10000/10000 [04:19<00:00, 38.50it/s]"
     ]
    },
    {
     "name": "stdout",
     "output_type": "stream",
     "text": [
      "[10000 / 10000] RPM loss: 0.061489373445510864\n"
     ]
    },
    {
     "name": "stderr",
     "output_type": "stream",
     "text": [
      "\n"
     ]
    }
   ],
   "source": [
    "losses_incomplete_reward = train_RPM(model, dataset, loss_fn, optimizer, device, is_complete=False)"
   ]
  },
  {
   "cell_type": "code",
   "execution_count": 16,
   "metadata": {},
   "outputs": [
    {
     "data": {
      "image/png": "[encoded data removed]",
      "text/plain": [
       "<Figure size 640x480 with 1 Axes>"
      ]
     },
     "metadata": {},
     "output_type": "display_data"
    }
   ],
   "source": [
    "# Visualize the losses\n",
    "window_size = 200\n",
    "ma_losses = moving_average(losses_complete_reward, window_size)\n",
    "\n",
    "plt.plot(losses_complete_reward, label='Original loss')\n",
    "plt.plot(np.arange(window_size-1, len(ma_losses)+window_size-1), ma_losses, label='Moving Average', color='red')\n",
    "\n",
    "plt.xlabel('Iteration')\n",
    "plt.ylabel('Loss')\n",
    "plt.title('Incomplete reward predictor training loss')\n",
    "plt.legend()\n",
    "plt.show()"
   ]
  },
  {
   "cell_type": "code",
   "execution_count": 17,
   "metadata": {},
   "outputs": [],
   "source": [
    "PATH = 'models/incomplete_RPM_1e-3_1M.pth'\n",
    "torch.save(model.state_dict(), PATH)"
   ]
  },
  {
   "cell_type": "code",
   "execution_count": 18,
   "metadata": {},
   "outputs": [
    {
     "data": {
      "text/plain": [
       "<All keys matched successfully>"
      ]
     },
     "execution_count": 18,
     "metadata": {},
     "output_type": "execute_result"
    }
   ],
   "source": [
    "model = RewardPredictorModel(image_shape, n_frames, T_future)\n",
    "model.load_state_dict(torch.load(PATH))  # test save and load"
   ]
  },
  {
   "cell_type": "markdown",
   "metadata": {},
   "source": [
    "# Test trained RPM"
   ]
  },
  {
   "cell_type": "code",
   "execution_count": 19,
   "metadata": {},
   "outputs": [
    {
     "data": {
      "text/plain": [
       "RewardPredictorModel(\n",
       "  (image_encoder): ImageEncoder(\n",
       "    (layers): ModuleList(\n",
       "      (0): Conv2d(3, 4, kernel_size=(3, 3), stride=(2, 2), padding=(1, 1))\n",
       "      (1): ReLU()\n",
       "      (2): Conv2d(4, 8, kernel_size=(3, 3), stride=(2, 2), padding=(1, 1))\n",
       "      (3): ReLU()\n",
       "      (4): Conv2d(8, 16, kernel_size=(3, 3), stride=(2, 2), padding=(1, 1))\n",
       "      (5): ReLU()\n",
       "      (6): Conv2d(16, 32, kernel_size=(3, 3), stride=(2, 2), padding=(1, 1))\n",
       "      (7): ReLU()\n",
       "      (8): Conv2d(32, 64, kernel_size=(3, 3), stride=(2, 2), padding=(1, 1))\n",
       "      (9): ReLU()\n",
       "      (10): Conv2d(64, 128, kernel_size=(3, 3), stride=(2, 2), padding=(1, 1))\n",
       "    )\n",
       "  )\n",
       "  (encoder_mlp): MLP(\n",
       "    (fc1): Linear(in_features=128, out_features=32, bias=True)\n",
       "    (fc2): Linear(in_features=32, out_features=32, bias=True)\n",
       "    (fc3): Linear(in_features=32, out_features=64, bias=True)\n",
       "  )\n",
       "  (predictor_lstm): LSTM(64, 64)\n",
       "  (reward_head_mlp): ModuleDict(\n",
       "    (agent_x): MLP(\n",
       "      (fc1): Linear(in_features=64, out_features=32, bias=True)\n",
       "      (fc2): Linear(in_features=32, out_features=32, bias=True)\n",
       "      (fc3): Linear(in_features=32, out_features=1, bias=True)\n",
       "    )\n",
       "    (agent_y): MLP(\n",
       "      (fc1): Linear(in_features=64, out_features=32, bias=True)\n",
       "      (fc2): Linear(in_features=32, out_features=32, bias=True)\n",
       "      (fc3): Linear(in_features=32, out_features=1, bias=True)\n",
       "    )\n",
       "    (target_x): MLP(\n",
       "      (fc1): Linear(in_features=64, out_features=32, bias=True)\n",
       "      (fc2): Linear(in_features=32, out_features=32, bias=True)\n",
       "      (fc3): Linear(in_features=32, out_features=1, bias=True)\n",
       "    )\n",
       "    (target_y): MLP(\n",
       "      (fc1): Linear(in_features=64, out_features=32, bias=True)\n",
       "      (fc2): Linear(in_features=32, out_features=32, bias=True)\n",
       "      (fc3): Linear(in_features=32, out_features=1, bias=True)\n",
       "    )\n",
       "    (vertical_position): MLP(\n",
       "      (fc1): Linear(in_features=64, out_features=32, bias=True)\n",
       "      (fc2): Linear(in_features=32, out_features=32, bias=True)\n",
       "      (fc3): Linear(in_features=32, out_features=1, bias=True)\n",
       "    )\n",
       "    (horizontal_position): MLP(\n",
       "      (fc1): Linear(in_features=64, out_features=32, bias=True)\n",
       "      (fc2): Linear(in_features=32, out_features=32, bias=True)\n",
       "      (fc3): Linear(in_features=32, out_features=1, bias=True)\n",
       "    )\n",
       "  )\n",
       ")"
      ]
     },
     "execution_count": 19,
     "metadata": {},
     "output_type": "execute_result"
    }
   ],
   "source": [
    "model = RewardPredictorModel(image_shape, n_frames, T_future)\n",
    "model.load_state_dict(torch.load('models/complete_RPM_1e-3_1M.pth'))\n",
    "model.to(device)"
   ]
  },
  {
   "cell_type": "code",
   "execution_count": 20,
   "metadata": {},
   "outputs": [
    {
     "name": "stdout",
     "output_type": "stream",
     "text": [
      "{'agent_x': array([0.494813  , 0.5364135 , 0.57801396, 0.6196144 , 0.66121495,\n",
      "       0.7028154 , 0.7444159 , 0.7860164 , 0.8276169 , 0.86921734,\n",
      "       0.88918215, 0.8475817 , 0.8059812 , 0.7643807 , 0.7227802 ,\n",
      "       0.68117976, 0.63957924, 0.5979788 , 0.5563783 , 0.5147778 ,\n",
      "       0.4731773 , 0.43157682, 0.38997635, 0.34837586, 0.30677536,\n",
      "       0.2651749 , 0.2235744 , 0.18197392, 0.14037342, 0.10122705],\n",
      "      dtype=float32), 'agent_y': array([0.85327494, 0.82825285, 0.80323076, 0.7782086 , 0.7531865 ,\n",
      "       0.7281644 , 0.7031423 , 0.67812014, 0.65309805, 0.62807596,\n",
      "       0.6030538 , 0.5780317 , 0.55300957, 0.5279875 , 0.50296533,\n",
      "       0.47794324, 0.45292112, 0.427899  , 0.40287688, 0.3778548 ,\n",
      "       0.35283267, 0.32781056, 0.30278844, 0.27776632, 0.2527442 ,\n",
      "       0.2277221 , 0.20269997, 0.17767787, 0.15265575, 0.12763363],\n",
      "      dtype=float32), 'target_x': array([0.79884416, 0.7737379 , 0.74863166, 0.7235254 , 0.69841915,\n",
      "       0.6733129 , 0.64820665, 0.6231004 , 0.59799415, 0.5728879 ,\n",
      "       0.54778165, 0.5226754 , 0.4975691 , 0.47246286, 0.4473566 ,\n",
      "       0.42225036, 0.3971441 , 0.37203786, 0.3469316 , 0.32182536,\n",
      "       0.2967191 , 0.27161285, 0.2465066 , 0.22140035, 0.1962941 ,\n",
      "       0.17118785, 0.1460816 , 0.12097535, 0.1041309 , 0.12923715],\n",
      "      dtype=float32), 'target_y': array([0.60709023, 0.55797505, 0.5088598 , 0.45974463, 0.41062942,\n",
      "       0.3615142 , 0.31239903, 0.26328382, 0.21416861, 0.16505341,\n",
      "       0.1159382 , 0.133177  , 0.18229221, 0.2314074 , 0.2805226 ,\n",
      "       0.32963783, 0.37875304, 0.42786822, 0.47698343, 0.5260986 ,\n",
      "       0.57521385, 0.62432903, 0.6734443 , 0.72255945, 0.77167463,\n",
      "       0.8207899 , 0.86990505, 0.8809797 , 0.83186454, 0.7827493 ],\n",
      "      dtype=float32)}\n"
     ]
    }
   ],
   "source": [
    "data = dataset[0]\n",
    "images = torch.tensor(data.images).to(device)\n",
    "rewards = {k: torch.tensor(v, dtype=torch.float32, device=device) for k, v in data.rewards.items()}\n",
    "\n",
    "print(data.rewards)"
   ]
  },
  {
   "cell_type": "code",
   "execution_count": 21,
   "metadata": {},
   "outputs": [
    {
     "name": "stdout",
     "output_type": "stream",
     "text": [
      "{'agent_x': tensor([0.5407, 0.5452, 0.5412, 0.5545, 0.5407, 0.5267, 0.5275, 0.5289, 0.5291,\n",
      "        0.5260, 0.5211, 0.5125, 0.5104, 0.5077, 0.5080, 0.5049, 0.4993, 0.4997,\n",
      "        0.4976, 0.4786, 0.4574, 0.4243, 0.3876, 0.3551, 0.3340, 0.3216, 0.2956,\n",
      "        0.2938, 0.2955], device='cuda:0', grad_fn=<SqueezeBackward1>), 'agent_y': tensor([0.5008, 0.4968, 0.4902, 0.4887, 0.4843, 0.4774, 0.4672, 0.4693, 0.4715,\n",
      "        0.4641, 0.4575, 0.4430, 0.4462, 0.4587, 0.4651, 0.4725, 0.4795, 0.4895,\n",
      "        0.4912, 0.4846, 0.4884, 0.5020, 0.5017, 0.5044, 0.5081, 0.5151, 0.5169,\n",
      "        0.5112, 0.5125], device='cuda:0', grad_fn=<SqueezeBackward1>), 'target_x': tensor([0.6376, 0.6748, 0.6877, 0.7386, 0.7130, 0.6609, 0.6562, 0.6670, 0.6702,\n",
      "        0.6465, 0.6092, 0.5250, 0.4903, 0.4570, 0.4575, 0.4158, 0.3300, 0.3063,\n",
      "        0.2580, 0.2074, 0.1927, 0.1803, 0.1684, 0.1611, 0.1604, 0.1653, 0.1549,\n",
      "        0.1593, 0.1660], device='cuda:0', grad_fn=<SqueezeBackward1>), 'target_y': tensor([0.5535, 0.5298, 0.4615, 0.4186, 0.3697, 0.3102, 0.2447, 0.2507, 0.2584,\n",
      "        0.2270, 0.2084, 0.1775, 0.1913, 0.2447, 0.2724, 0.3143, 0.3699, 0.4590,\n",
      "        0.4892, 0.4580, 0.4968, 0.6237, 0.6237, 0.6376, 0.6565, 0.7027, 0.7174,\n",
      "        0.6777, 0.6852], device='cuda:0', grad_fn=<SqueezeBackward1>)}\n"
     ]
    }
   ],
   "source": [
    "pred_rewards = model(\n",
    "    frames=images,\n",
    "    reward_type_list=R_CLASSES_BASE\n",
    ")\n",
    "\n",
    "print(pred_rewards)"
   ]
  },
  {
   "cell_type": "code",
   "execution_count": null,
   "metadata": {},
   "outputs": [],
   "source": []
  }
 ],
 "metadata": {
  "kernelspec": {
   "display_name": "2024Spring",
   "language": "python",
   "name": "python3"
  },
  "language_info": {
   "codemirror_mode": {
    "name": "ipython",
    "version": 3
   },
   "file_extension": ".py",
   "mimetype": "text/x-python",
   "name": "python",
   "nbconvert_exporter": "python",
   "pygments_lexer": "ipython3",
   "version": "3.10.14"
  }
 },
 "nbformat": 4,
 "nbformat_minor": 2
}
