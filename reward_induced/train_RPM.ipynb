{
 "cells": [
  {
   "cell_type": "code",
   "execution_count": 1,
   "metadata": {},
   "outputs": [],
   "source": [
    "import os\n",
    "import sys\n",
    "nb_dir = os.path.split(os.getcwd())[0]\n",
    "if nb_dir not in sys.path:\n",
    "\tsys.path.append(nb_dir)"
   ]
  },
  {
   "cell_type": "code",
   "execution_count": 2,
   "metadata": {},
   "outputs": [
    {
     "name": "stderr",
     "output_type": "stream",
     "text": [
      "/home/thisiswooyeol/anaconda3/envs/2024Spring/lib/python3.10/site-packages/tqdm/auto.py:21: TqdmWarning: IProgress not found. Please update jupyter and ipywidgets. See https://ipywidgets.readthedocs.io/en/stable/user_install.html\n",
      "  from .autonotebook import tqdm as notebook_tqdm\n"
     ]
    }
   ],
   "source": [
    "import torch\n",
    "import torch.nn as nn\n",
    "from torch.optim.radam import RAdam\n",
    "\n",
    "import matplotlib.pyplot as plt\n",
    "import random\n",
    "from tqdm import trange\n",
    "\n",
    "from general_utils import AttrDict\n",
    "from reward_induced.src.reward_predictor_model import RewardPredictorModel, R_CLASSES_BASE\n",
    "from sprites_datagen.moving_sprites import MovingSpriteDataset\n",
    "from sprites_datagen.rewards import *\n"
   ]
  },
  {
   "cell_type": "code",
   "execution_count": 3,
   "metadata": {},
   "outputs": [],
   "source": [
    "spec = AttrDict(\n",
    "        resolution=64,\n",
    "        max_seq_len=30,\n",
    "        max_speed=0.05,      # total image range [0, 1]\n",
    "        obj_size=0.2,       # size of objects, full images is 1.0\n",
    "        shapes_per_traj=4,      # number of shapes per trajectory\n",
    "        rewards=[AgentXReward, AgentYReward, TargetXReward, TargetYReward],\n",
    "    )"
   ]
  },
  {
   "cell_type": "code",
   "execution_count": 4,
   "metadata": {},
   "outputs": [
    {
     "data": {
      "text/plain": [
       "{'agent_x': array([0.89554626, 0.8999031 , 0.8953525 , 0.89080185, 0.8862512 ,\n",
       "        0.8817006 , 0.87714994, 0.8725993 , 0.86804867, 0.86349803,\n",
       "        0.8589474 , 0.85439676, 0.8498461 , 0.8452955 , 0.84074485,\n",
       "        0.8361942 , 0.8316436 , 0.82709295, 0.8225423 , 0.8179917 ,\n",
       "        0.81344104, 0.8088904 , 0.80433977, 0.79978913, 0.7952385 ,\n",
       "        0.79068786, 0.7861372 , 0.7815866 , 0.777036  , 0.7724854 ],\n",
       "       dtype=float32),\n",
       " 'agent_y': array([0.2537266 , 0.24993488, 0.24614315, 0.24235143, 0.2385597 ,\n",
       "        0.23476796, 0.23097624, 0.2271845 , 0.22339277, 0.21960105,\n",
       "        0.21580932, 0.2120176 , 0.20822586, 0.20443413, 0.2006424 ,\n",
       "        0.19685067, 0.19305894, 0.18926722, 0.18547548, 0.18168376,\n",
       "        0.17789203, 0.1741003 , 0.17030858, 0.16651684, 0.1627251 ,\n",
       "        0.15893339, 0.15514165, 0.15134993, 0.1475582 , 0.14376646],\n",
       "       dtype=float32),\n",
       " 'target_x': array([0.25058267, 0.29638642, 0.34219018, 0.38799393, 0.43379772,\n",
       "        0.47960147, 0.5254052 , 0.571209  , 0.61701274, 0.6628165 ,\n",
       "        0.70862025, 0.75442404, 0.8002278 , 0.84603155, 0.89183533,\n",
       "        0.8623609 , 0.81655717, 0.7707534 , 0.72494966, 0.6791459 ,\n",
       "        0.6333421 , 0.58753836, 0.5417346 , 0.49593082, 0.45012707,\n",
       "        0.4043233 , 0.35851955, 0.31271577, 0.266912  , 0.22110826],\n",
       "       dtype=float32),\n",
       " 'target_y': array([0.87861675, 0.8664146 , 0.85421246, 0.8420104 , 0.82980824,\n",
       "        0.8176061 , 0.80540395, 0.79320186, 0.7809997 , 0.7687976 ,\n",
       "        0.75659543, 0.7443933 , 0.7321912 , 0.71998906, 0.7077869 ,\n",
       "        0.6955848 , 0.6833827 , 0.67118055, 0.6589784 , 0.64677626,\n",
       "        0.6345741 , 0.62237203, 0.6101699 , 0.59796774, 0.5857656 ,\n",
       "        0.5735635 , 0.5613614 , 0.5491592 , 0.5369571 , 0.52475494],\n",
       "       dtype=float32)}"
      ]
     },
     "execution_count": 4,
     "metadata": {},
     "output_type": "execute_result"
    }
   ],
   "source": [
    "dataset = MovingSpriteDataset(spec)\n",
    "dataset[0]['rewards']"
   ]
  },
  {
   "cell_type": "markdown",
   "metadata": {},
   "source": [
    "# Train reward-induced representations with **RPM image encoder**"
   ]
  },
  {
   "cell_type": "code",
   "execution_count": 5,
   "metadata": {},
   "outputs": [],
   "source": [
    "# some hyperparameters\n",
    "image_shape = (3, 64, 64)\n",
    "n_frames = 10  # number of conditioning frames\n",
    "T_future = 20  # number of future frames to predict rewards for\n",
    "\n",
    "lr = 1e-3\n",
    "n_iter = 10_000\n",
    "log_interval = 1_000\n",
    "\n",
    "device = torch.device('cuda' if torch.cuda.is_available() else 'cpu')"
   ]
  },
  {
   "cell_type": "code",
   "execution_count": 6,
   "metadata": {},
   "outputs": [],
   "source": [
    "# # DEBUG - check computation graph of the model\n",
    "# os.environ[\"PATH\"] += os.pathsep + 'C:/Program Files/Graphviz/bin/'\n",
    "\n",
    "# from torchviz import make_dot\n",
    "\n",
    "# model = RewardPredictorModel(image_shape, n_frames, T_future).to(device)\n",
    "# image = dataset[0]['images']\n",
    "# image = torch.tensor(image).to(device)\n",
    "# pred_rewards = model(image[:n_frames].unsqueeze(0),\n",
    "#                      image[n_frames:].unsqueeze(0))['agent_x']\n",
    "\n",
    "# make_dot(pred_rewards, params=dict(model.named_parameters())).render('RPM_comp_graph', format='png')\n",
    "# make_dot(pred_rewards, params=dict(model.named_parameters()), show_attrs=True, show_saved=True).render('RPM_comp_graph_back_prop', format='png')"
   ]
  },
  {
   "cell_type": "code",
   "execution_count": 7,
   "metadata": {},
   "outputs": [],
   "source": [
    "def train_RPM(model, dataset, loss_fn, optimizer, device, is_complete=True):\n",
    "\tlosses = []\n",
    "\tmodel.to(device)\n",
    "\tprint(f'[INFO] Training complete reward predictor model on device: {device} ...')\n",
    "\n",
    "\tfor itr in trange(n_iter):\n",
    "\t\t# always call `gen_trajectory` method regardless of `itr`\n",
    "\t\tdata = dataset[itr]\n",
    "\t\timages = torch.tensor(data.images).to(device)\n",
    "\t\trewards = {k: torch.tensor(v, dtype=torch.float32, device=device) for k, v in data.rewards.items()}\n",
    "\n",
    "\t\t# considering incomplete reward annotations\n",
    "\t\treward_type_list = random.sample(R_CLASSES_BASE, k=3) if not is_complete else R_CLASSES_BASE\n",
    "\n",
    "\t\t# predict rewards with RPM\n",
    "\t\tpred_rewards = model(\n",
    "\t\t\tframes=images.to(device),\n",
    "\t\t\treward_type_list=reward_type_list\n",
    "\t\t)\n",
    "\n",
    "\t\t# compute loss for each reward type\n",
    "\t\tloss = 0\n",
    "\t\tfor reward_type, pred_reward in pred_rewards.items():\n",
    "\t\t\treward = rewards[reward_type][-T_future:]\n",
    "\t\t\tloss += loss_fn(pred_reward, reward)\n",
    "\n",
    "\t\toptimizer.zero_grad()\n",
    "\t\tloss.backward()\n",
    "\t\toptimizer.step()\n",
    "\n",
    "\t\tlosses.append(loss.item())\n",
    "\t\tif (itr+1) % log_interval == 0:\n",
    "\t\t\tprint(f'[{itr+1} / {n_iter}] RPM loss: {loss.item()}')\n",
    "\n",
    "\treturn losses"
   ]
  },
  {
   "cell_type": "code",
   "execution_count": 8,
   "metadata": {},
   "outputs": [],
   "source": [
    "def moving_average(data, window_size):\n",
    "    return np.convolve(data, np.ones(window_size)/window_size, mode='valid')"
   ]
  },
  {
   "cell_type": "markdown",
   "metadata": {},
   "source": [
    "### (a) Train with complete reward annotation"
   ]
  },
  {
   "cell_type": "code",
   "execution_count": 9,
   "metadata": {},
   "outputs": [],
   "source": [
    "model = RewardPredictorModel(image_shape, n_frames, T_future)\n",
    "loss_fn = nn.MSELoss()\n",
    "\n",
    "optimizer = RAdam(model.parameters(), lr=lr)"
   ]
  },
  {
   "cell_type": "code",
   "execution_count": 10,
   "metadata": {},
   "outputs": [
    {
     "name": "stdout",
     "output_type": "stream",
     "text": [
      "[INFO] Training complete reward predictor model on device: cuda ...\n"
     ]
    },
    {
     "name": "stderr",
     "output_type": "stream",
     "text": [
      " 10%|█         | 1006/10000 [00:22<03:04, 48.63it/s]"
     ]
    },
    {
     "name": "stdout",
     "output_type": "stream",
     "text": [
      "[1000 / 10000] RPM loss: 0.1203579232096672\n"
     ]
    },
    {
     "name": "stderr",
     "output_type": "stream",
     "text": [
      " 20%|██        | 2006/10000 [00:45<02:47, 47.83it/s]"
     ]
    },
    {
     "name": "stdout",
     "output_type": "stream",
     "text": [
      "[2000 / 10000] RPM loss: 0.13353723287582397\n"
     ]
    },
    {
     "name": "stderr",
     "output_type": "stream",
     "text": [
      " 30%|███       | 3005/10000 [01:09<03:05, 37.76it/s]"
     ]
    },
    {
     "name": "stdout",
     "output_type": "stream",
     "text": [
      "[3000 / 10000] RPM loss: 0.05492962896823883\n"
     ]
    },
    {
     "name": "stderr",
     "output_type": "stream",
     "text": [
      " 40%|████      | 4005/10000 [01:33<02:16, 43.84it/s]"
     ]
    },
    {
     "name": "stdout",
     "output_type": "stream",
     "text": [
      "[4000 / 10000] RPM loss: 0.1704491674900055\n"
     ]
    },
    {
     "name": "stderr",
     "output_type": "stream",
     "text": [
      " 50%|█████     | 5008/10000 [01:57<01:53, 43.83it/s]"
     ]
    },
    {
     "name": "stdout",
     "output_type": "stream",
     "text": [
      "[5000 / 10000] RPM loss: 0.12763212621212006\n"
     ]
    },
    {
     "name": "stderr",
     "output_type": "stream",
     "text": [
      " 60%|██████    | 6005/10000 [02:22<01:32, 43.38it/s]"
     ]
    },
    {
     "name": "stdout",
     "output_type": "stream",
     "text": [
      "[6000 / 10000] RPM loss: 0.14884355664253235\n"
     ]
    },
    {
     "name": "stderr",
     "output_type": "stream",
     "text": [
      " 70%|███████   | 7004/10000 [02:46<01:10, 42.42it/s]"
     ]
    },
    {
     "name": "stdout",
     "output_type": "stream",
     "text": [
      "[7000 / 10000] RPM loss: 0.21279624104499817\n"
     ]
    },
    {
     "name": "stderr",
     "output_type": "stream",
     "text": [
      " 80%|████████  | 8006/10000 [03:11<00:45, 43.87it/s]"
     ]
    },
    {
     "name": "stdout",
     "output_type": "stream",
     "text": [
      "[8000 / 10000] RPM loss: 0.06836555153131485\n"
     ]
    },
    {
     "name": "stderr",
     "output_type": "stream",
     "text": [
      " 90%|█████████ | 9004/10000 [03:36<00:23, 42.60it/s]"
     ]
    },
    {
     "name": "stdout",
     "output_type": "stream",
     "text": [
      "[9000 / 10000] RPM loss: 0.11644643545150757\n"
     ]
    },
    {
     "name": "stderr",
     "output_type": "stream",
     "text": [
      "100%|██████████| 10000/10000 [04:01<00:00, 41.37it/s]"
     ]
    },
    {
     "name": "stdout",
     "output_type": "stream",
     "text": [
      "[10000 / 10000] RPM loss: 0.06796806305646896\n"
     ]
    },
    {
     "name": "stderr",
     "output_type": "stream",
     "text": [
      "\n"
     ]
    }
   ],
   "source": [
    "losses_complete_reward = train_RPM(model, dataset, loss_fn, optimizer, device, is_complete=True)"
   ]
  },
  {
   "cell_type": "code",
   "execution_count": 11,
   "metadata": {},
   "outputs": [
    {
     "data": {
      "image/png": "[encoded data removed]",
      "text/plain": [
       "<Figure size 640x480 with 1 Axes>"
      ]
     },
     "metadata": {},
     "output_type": "display_data"
    }
   ],
   "source": [
    "# Visualize the losses\n",
    "window_size = 200\n",
    "ma_losses = moving_average(losses_complete_reward, window_size)\n",
    "\n",
    "plt.plot(losses_complete_reward, label='Original loss')\n",
    "plt.plot(np.arange(window_size-1, len(ma_losses)+window_size-1), ma_losses, label='Moving Average', color='red')\n",
    "\n",
    "plt.xlabel('Iteration')\n",
    "plt.ylabel('Loss')\n",
    "plt.title('Complete reward predictor training loss')\n",
    "plt.legend()\n",
    "plt.show()"
   ]
  },
  {
   "cell_type": "code",
   "execution_count": 12,
   "metadata": {},
   "outputs": [],
   "source": [
    "PATH = 'models/complete_RPM_1e-3_1M.pth'\n",
    "torch.save(model.state_dict(), PATH)"
   ]
  },
  {
   "cell_type": "code",
   "execution_count": 13,
   "metadata": {},
   "outputs": [
    {
     "data": {
      "text/plain": [
       "<All keys matched successfully>"
      ]
     },
     "execution_count": 13,
     "metadata": {},
     "output_type": "execute_result"
    }
   ],
   "source": [
    "model = RewardPredictorModel(image_shape, n_frames, T_future)\n",
    "model.load_state_dict(torch.load(PATH))  # test save and load"
   ]
  },
  {
   "cell_type": "markdown",
   "metadata": {},
   "source": [
    "### (b) Train with incomplete reward annotation"
   ]
  },
  {
   "cell_type": "code",
   "execution_count": 14,
   "metadata": {},
   "outputs": [],
   "source": [
    "model = RewardPredictorModel(image_shape, n_frames, T_future)\n",
    "loss_fn = nn.MSELoss()\n",
    "\n",
    "optimizer = RAdam(model.parameters(), lr=lr)"
   ]
  },
  {
   "cell_type": "code",
   "execution_count": 15,
   "metadata": {},
   "outputs": [
    {
     "name": "stdout",
     "output_type": "stream",
     "text": [
      "[INFO] Training complete reward predictor model on device: cuda ...\n"
     ]
    },
    {
     "name": "stderr",
     "output_type": "stream",
     "text": [
      " 10%|█         | 1007/10000 [00:26<03:30, 42.63it/s]"
     ]
    },
    {
     "name": "stdout",
     "output_type": "stream",
     "text": [
      "[1000 / 10000] RPM loss: 0.10806643962860107\n"
     ]
    },
    {
     "name": "stderr",
     "output_type": "stream",
     "text": [
      " 20%|██        | 2006/10000 [00:52<03:03, 43.67it/s]"
     ]
    },
    {
     "name": "stdout",
     "output_type": "stream",
     "text": [
      "[2000 / 10000] RPM loss: 0.14037159085273743\n"
     ]
    },
    {
     "name": "stderr",
     "output_type": "stream",
     "text": [
      " 30%|███       | 3009/10000 [01:17<02:39, 43.92it/s]"
     ]
    },
    {
     "name": "stdout",
     "output_type": "stream",
     "text": [
      "[3000 / 10000] RPM loss: 0.10476796329021454\n"
     ]
    },
    {
     "name": "stderr",
     "output_type": "stream",
     "text": [
      " 40%|████      | 4008/10000 [01:41<01:49, 54.71it/s]"
     ]
    },
    {
     "name": "stdout",
     "output_type": "stream",
     "text": [
      "[4000 / 10000] RPM loss: 0.056270770728588104\n"
     ]
    },
    {
     "name": "stderr",
     "output_type": "stream",
     "text": [
      " 50%|█████     | 5005/10000 [02:03<01:43, 48.48it/s]"
     ]
    },
    {
     "name": "stdout",
     "output_type": "stream",
     "text": [
      "[5000 / 10000] RPM loss: 0.04463191330432892\n"
     ]
    },
    {
     "name": "stderr",
     "output_type": "stream",
     "text": [
      " 60%|██████    | 6004/10000 [02:27<01:47, 37.12it/s]"
     ]
    },
    {
     "name": "stdout",
     "output_type": "stream",
     "text": [
      "[6000 / 10000] RPM loss: 0.07785970717668533\n"
     ]
    },
    {
     "name": "stderr",
     "output_type": "stream",
     "text": [
      " 70%|███████   | 7003/10000 [02:46<01:10, 42.34it/s]"
     ]
    },
    {
     "name": "stdout",
     "output_type": "stream",
     "text": [
      "[7000 / 10000] RPM loss: 0.017421314492821693\n"
     ]
    },
    {
     "name": "stderr",
     "output_type": "stream",
     "text": [
      " 80%|████████  | 8011/10000 [03:04<00:34, 57.32it/s]"
     ]
    },
    {
     "name": "stdout",
     "output_type": "stream",
     "text": [
      "[8000 / 10000] RPM loss: 0.003774096956476569\n"
     ]
    },
    {
     "name": "stderr",
     "output_type": "stream",
     "text": [
      " 90%|█████████ | 9006/10000 [03:21<00:19, 51.35it/s]"
     ]
    },
    {
     "name": "stdout",
     "output_type": "stream",
     "text": [
      "[9000 / 10000] RPM loss: 0.09568097442388535\n"
     ]
    },
    {
     "name": "stderr",
     "output_type": "stream",
     "text": [
      "100%|██████████| 10000/10000 [03:42<00:00, 44.93it/s]"
     ]
    },
    {
     "name": "stdout",
     "output_type": "stream",
     "text": [
      "[10000 / 10000] RPM loss: 0.10576456785202026\n"
     ]
    },
    {
     "name": "stderr",
     "output_type": "stream",
     "text": [
      "\n"
     ]
    }
   ],
   "source": [
    "losses_incomplete_reward = train_RPM(model, dataset, loss_fn, optimizer, device, is_complete=False)"
   ]
  },
  {
   "cell_type": "code",
   "execution_count": 16,
   "metadata": {},
   "outputs": [
    {
     "data": {
      "image/png": "[encoded data removed]",
      "text/plain": [
       "<Figure size 640x480 with 1 Axes>"
      ]
     },
     "metadata": {},
     "output_type": "display_data"
    }
   ],
   "source": [
    "# Visualize the losses\n",
    "window_size = 200\n",
    "ma_losses = moving_average(losses_complete_reward, window_size)\n",
    "\n",
    "plt.plot(losses_complete_reward, label='Original loss')\n",
    "plt.plot(np.arange(window_size-1, len(ma_losses)+window_size-1), ma_losses, label='Moving Average', color='red')\n",
    "\n",
    "plt.xlabel('Iteration')\n",
    "plt.ylabel('Loss')\n",
    "plt.title('Incomplete reward predictor training loss')\n",
    "plt.legend()\n",
    "plt.show()"
   ]
  },
  {
   "cell_type": "code",
   "execution_count": 17,
   "metadata": {},
   "outputs": [],
   "source": [
    "PATH = 'models/incomplete_RPM_1e-3_1M.pth'\n",
    "torch.save(model.state_dict(), PATH)"
   ]
  },
  {
   "cell_type": "code",
   "execution_count": 18,
   "metadata": {},
   "outputs": [
    {
     "data": {
      "text/plain": [
       "<All keys matched successfully>"
      ]
     },
     "execution_count": 18,
     "metadata": {},
     "output_type": "execute_result"
    }
   ],
   "source": [
    "model = RewardPredictorModel(image_shape, n_frames, T_future)\n",
    "model.load_state_dict(torch.load(PATH))  # test save and load"
   ]
  },
  {
   "cell_type": "code",
   "execution_count": null,
   "metadata": {},
   "outputs": [],
   "source": []
  }
 ],
 "metadata": {
  "kernelspec": {
   "display_name": "2024Spring",
   "language": "python",
   "name": "python3"
  },
  "language_info": {
   "codemirror_mode": {
    "name": "ipython",
    "version": 3
   },
   "file_extension": ".py",
   "mimetype": "text/x-python",
   "name": "python",
   "nbconvert_exporter": "python",
   "pygments_lexer": "ipython3",
   "version": "3.10.14"
  }
 },
 "nbformat": 4,
 "nbformat_minor": 2
}
